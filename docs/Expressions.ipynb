{
 "metadata": {
  "name": "",
  "signature": "sha256:78fc4735532ca13e3986ef5b64605e40773fb9f3330f6d1f3e120d9d44b0fdba"
 },
 "nbformat": 3,
 "nbformat_minor": 0,
 "worksheets": [
  {
   "cells": [
    {
     "cell_type": "code",
     "collapsed": false,
     "input": [
      "from sympy import *\n",
      "init_printing()\n",
      "import sys"
     ],
     "language": "python",
     "metadata": {},
     "outputs": [],
     "prompt_number": 3
    },
    {
     "cell_type": "code",
     "collapsed": false,
     "input": [
      "SYMORDER = (0, 3, 4, 3, 1, 5, 4, 5, 2)\n",
      "ORDER = ((0,0), (0,1), (0,2),\n",
      "         (1,0), (1,1), (1,2),\n",
      "         (2,0), (2,1), (2,2))\n",
      "ij_map = {0: (0,0), 3: (0,1), 4: (0,2),\n",
      "                    1: (1,1), 5: (1,2),\n",
      "                              2: (2,2)}\n",
      "def SymTensor(a):\n",
      "    # symmetric tensor ordering\n",
      "    return Matrix(3,3,[\"{0}({1})\".format(a, i+1) for i in SYMORDER])\n",
      "def Tensor(a):\n",
      "    return Matrix(3,3,[\"{0}({1},{2})\".format(a, i+1,j+1) for (i,j) in ORDER])\n",
      "IJ_map = {\n",
      "    (0,0): (0,0,0,0), (0,1): (0,0,1,1), (0,2): (0,0,2,2), (0,3): (0,0,0,1), (0,4): (0,0,0,2), (0,5): (0,0,1,2),\n",
      "    (1,0): (1,1,0,0), (1,1): (1,1,1,1), (1,2): (1,1,2,2), (1,3): (1,1,0,1), (1,4): (1,1,0,2), (1,5): (1,1,1,2),\n",
      "    (2,0): (2,2,0,0), (2,1): (2,2,1,1), (2,2): (2,2,2,2), (2,3): (2,2,0,1), (2,4): (2,2,0,2), (2,5): (2,2,1,2),\n",
      "    (3,0): (0,1,0,0), (3,1): (0,1,1,1), (3,2): (0,1,2,2), (3,3): (0,1,0,1), (3,4): (0,1,0,2), (3,5): (0,1,1,2),\n",
      "    (4,0): (0,2,0,0), (4,1): (0,2,1,1), (4,2): (0,2,2,2), (4,3): (0,2,0,1), (4,4): (0,2,0,2), (4,5): (0,2,1,2),\n",
      "    (5,0): (1,2,0,0), (5,1): (1,2,1,1), (5,2): (1,2,2,2), (5,3): (1,2,0,1), (5,4): (1,2,0,2), (5,5): (1,2,1,2)}"
     ],
     "language": "python",
     "metadata": {},
     "outputs": [],
     "prompt_number": 2
    },
    {
     "cell_type": "code",
     "collapsed": false,
     "input": [
      "A = SymTensor(\"A\")\n",
      "A"
     ],
     "language": "python",
     "metadata": {},
     "outputs": [
      {
       "latex": [
        "$$\\left[\\begin{matrix}A{\\left (1 \\right )} & A{\\left (4 \\right )} & A{\\left (5 \\right )}\\\\A{\\left (4 \\right )} & A{\\left (2 \\right )} & A{\\left (6 \\right )}\\\\A{\\left (5 \\right )} & A{\\left (6 \\right )} & A{\\left (3 \\right )}\\end{matrix}\\right]$$"
       ],
       "metadata": {},
       "output_type": "pyout",
       "png": "[encoded data removed]",
       "prompt_number": 3,
       "text": [
        "\u23a1A(1)  A(4)  A(5)\u23a4\n",
        "\u23a2                \u23a5\n",
        "\u23a2A(4)  A(2)  A(6)\u23a5\n",
        "\u23a2                \u23a5\n",
        "\u23a3A(5)  A(6)  A(3)\u23a6"
       ]
      }
     ],
     "prompt_number": 3
    },
    {
     "cell_type": "code",
     "collapsed": false,
     "input": [
      "deta = A.det()\n",
      "inva = A.inv() * deta"
     ],
     "language": "python",
     "metadata": {},
     "outputs": [],
     "prompt_number": 4
    },
    {
     "cell_type": "code",
     "collapsed": false,
     "input": [
      "inva.simplify()"
     ],
     "language": "python",
     "metadata": {},
     "outputs": [],
     "prompt_number": 6
    },
    {
     "cell_type": "code",
     "collapsed": false,
     "input": [
      "for n, (i,j) in enumerate(((0,0), (1,1), (2,2), (0,1), (1,2), (0,2))):\n",
      "    a = repr(inva[i,j]).strip().lower()\n",
      "    a = a.replace(\")*a\", \") * a\")\n",
      "    a = a.replace(\"**\", \" ** \")\n",
      "    print \"  inva({0}) = {1}\".format(n+1, a).upper()"
     ],
     "language": "python",
     "metadata": {},
     "outputs": [
      {
       "output_type": "stream",
       "stream": "stdout",
       "text": [
        "  INVA(1) = A(2) * A(3) - A(6) ** 2\n",
        "  INVA(2) = A(1) * A(3) - A(5) ** 2\n",
        "  INVA(3) = A(1) * A(2) - A(4) ** 2\n",
        "  INVA(4) = -A(3) * A(4) + A(5) * A(6)\n",
        "  INVA(5) = -A(1) * A(6) + A(4) * A(5)\n",
        "  INVA(6) = -A(2) * A(5) + A(4) * A(6)\n"
       ]
      }
     ],
     "prompt_number": 7
    },
    {
     "cell_type": "code",
     "collapsed": false,
     "input": [
      "repr(deta).lower().replace(\"**\", \" ** \").replace(\")*a\", \") * a\")"
     ],
     "language": "python",
     "metadata": {},
     "outputs": [
      {
       "metadata": {},
       "output_type": "pyout",
       "prompt_number": 26,
       "text": [
        "'a(1) * a(2) * a(3) - a(1) * a(5) ** 2 - a(2) * a(6) ** 2 - a(3) * a(4) ** 2 + 2*a(4) * a(5) * a(6)'"
       ]
      }
     ],
     "prompt_number": 26
    },
    {
     "cell_type": "code",
     "collapsed": false,
     "input": [
      "A = Tensor(\"a\")"
     ],
     "language": "python",
     "metadata": {},
     "outputs": [],
     "prompt_number": 29
    },
    {
     "cell_type": "code",
     "collapsed": false,
     "input": [
      "deta = A.det()\n",
      "inva = A.inv() * deta\n",
      "inva.simplify()\n",
      "for n, (i,j) in enumerate(ORDER):\n",
      "    a = repr(inva[i,j]).strip().lower()\n",
      "    a = a.replace(\")*a\", \") * a\")\n",
      "    a = a.replace(\"**\", \" ** \")\n",
      "    print \"  inv_3x3({0},{1}) = {2}\".format(i+1,j+1, a)"
     ],
     "language": "python",
     "metadata": {},
     "outputs": [
      {
       "output_type": "stream",
       "stream": "stdout",
       "text": [
        "  inv_3x3(1,1) = a(2, 2) * a(3, 3) - a(2, 3) * a(3, 2)\n",
        "  inv_3x3(1,2) = -a(1, 2) * a(3, 3) + a(1, 3) * a(3, 2)\n",
        "  inv_3x3(1,3) = a(1, 2) * a(2, 3) - a(1, 3) * a(2, 2)\n",
        "  inv_3x3(2,1) = -a(2, 1) * a(3, 3) + a(2, 3) * a(3, 1)\n",
        "  inv_3x3(2,2) = a(1, 1) * a(3, 3) - a(1, 3) * a(3, 1)\n",
        "  inv_3x3(2,3) = -a(1, 1) * a(2, 3) + a(1, 3) * a(2, 1)\n",
        "  inv_3x3(3,1) = a(2, 1) * a(3, 2) - a(2, 2) * a(3, 1)\n",
        "  inv_3x3(3,2) = -a(1, 1) * a(3, 2) + a(1, 2) * a(3, 1)\n",
        "  inv_3x3(3,3) = a(1, 1) * a(2, 2) - a(1, 2) * a(2, 1)\n"
       ]
      }
     ],
     "prompt_number": 32
    },
    {
     "cell_type": "code",
     "collapsed": false,
     "input": [
      "X = SymTensor(\"X\")\n",
      "g = solve(X.det() - 1, X[2,2])[0]\n",
      "f = (X[0,0] + X[1,1] + g) / 3\n",
      "XD = SymTensor(\"XD\")"
     ],
     "language": "python",
     "metadata": {},
     "outputs": [],
     "prompt_number": 52
    },
    {
     "cell_type": "code",
     "collapsed": false,
     "input": [
      "g"
     ],
     "language": "python",
     "metadata": {},
     "outputs": [
      {
       "latex": [
        "$$\\frac{1}{X{\\left (1 \\right )} X{\\left (2 \\right )} - X^{2}{\\left (4 \\right )}} \\left(X{\\left (1 \\right )} X^{2}{\\left (6 \\right )} + X{\\left (2 \\right )} X^{2}{\\left (5 \\right )} - 2 X{\\left (4 \\right )} X{\\left (5 \\right )} X{\\left (6 \\right )} + 1\\right)$$"
       ],
       "metadata": {},
       "output_type": "pyout",
       "png": "[encoded data removed]",
       "prompt_number": 53,
       "text": [
        "      2            2                          \n",
        "X(1)\u22c5X (6) + X(2)\u22c5X (5) - 2\u22c5X(4)\u22c5X(5)\u22c5X(6) + 1\n",
        "\u2500\u2500\u2500\u2500\u2500\u2500\u2500\u2500\u2500\u2500\u2500\u2500\u2500\u2500\u2500\u2500\u2500\u2500\u2500\u2500\u2500\u2500\u2500\u2500\u2500\u2500\u2500\u2500\u2500\u2500\u2500\u2500\u2500\u2500\u2500\u2500\u2500\u2500\u2500\u2500\u2500\u2500\u2500\u2500\u2500\u2500\n",
        "                           2                  \n",
        "              X(1)\u22c5X(2) - X (4)               "
       ]
      }
     ],
     "prompt_number": 53
    },
    {
     "cell_type": "code",
     "collapsed": false,
     "input": [
      "f"
     ],
     "language": "python",
     "metadata": {},
     "outputs": [
      {
       "latex": [
        "$$\\frac{1}{3} X{\\left (1 \\right )} + \\frac{1}{3} X{\\left (2 \\right )} + \\frac{1}{3 X{\\left (1 \\right )} X{\\left (2 \\right )} - 3 X^{2}{\\left (4 \\right )}} \\left(X{\\left (1 \\right )} X^{2}{\\left (6 \\right )} + X{\\left (2 \\right )} X^{2}{\\left (5 \\right )} - 2 X{\\left (4 \\right )} X{\\left (5 \\right )} X{\\left (6 \\right )} + 1\\right)$$"
       ],
       "metadata": {},
       "output_type": "pyout",
       "png": "[encoded data removed]",
       "prompt_number": 54,
       "text": [
        "                    2            2                          \n",
        "X(1)   X(2)   X(1)\u22c5X (6) + X(2)\u22c5X (5) - 2\u22c5X(4)\u22c5X(5)\u22c5X(6) + 1\n",
        "\u2500\u2500\u2500\u2500 + \u2500\u2500\u2500\u2500 + \u2500\u2500\u2500\u2500\u2500\u2500\u2500\u2500\u2500\u2500\u2500\u2500\u2500\u2500\u2500\u2500\u2500\u2500\u2500\u2500\u2500\u2500\u2500\u2500\u2500\u2500\u2500\u2500\u2500\u2500\u2500\u2500\u2500\u2500\u2500\u2500\u2500\u2500\u2500\u2500\u2500\u2500\u2500\u2500\u2500\u2500\n",
        " 3      3                   \u239b             2   \u239e             \n",
        "                          3\u22c5\u239dX(1)\u22c5X(2) - X (4)\u23a0             "
       ]
      }
     ],
     "prompt_number": 54
    },
    {
     "cell_type": "code",
     "collapsed": false,
     "input": [
      "dgdx1 = diff(g, X[0,0])\n",
      "dgdx2 = diff(g, X[1,1])"
     ],
     "language": "python",
     "metadata": {},
     "outputs": [],
     "prompt_number": 55
    },
    {
     "cell_type": "code",
     "collapsed": false,
     "input": [
      "F1 = XD[0,0] + X[0,0] + f\n",
      "F2 = XD[1,1] + X[1,1] + f\n",
      "\n",
      "dF1dX1 = diff(F1, X[0,0])\n",
      "dF1dX2 = diff(F1, X[1,1])"
     ],
     "language": "python",
     "metadata": {},
     "outputs": [],
     "prompt_number": 56
    },
    {
     "cell_type": "code",
     "collapsed": false,
     "input": [
      "dF1dX2"
     ],
     "language": "python",
     "metadata": {},
     "outputs": [
      {
       "latex": [
        "$$\\frac{1}{3} + \\frac{X^{2}{\\left (5 \\right )}}{3 X{\\left (1 \\right )} X{\\left (2 \\right )} - 3 X^{2}{\\left (4 \\right )}} - \\frac{X{\\left (1 \\right )}}{3 \\left(X{\\left (1 \\right )} X{\\left (2 \\right )} - X^{2}{\\left (4 \\right )}\\right)^{2}} \\left(X{\\left (1 \\right )} X^{2}{\\left (6 \\right )} + X{\\left (2 \\right )} X^{2}{\\left (5 \\right )} - 2 X{\\left (4 \\right )} X{\\left (5 \\right )} X{\\left (6 \\right )} + 1\\right)$$"
       ],
       "metadata": {},
       "output_type": "pyout",
       "png": "[encoded data removed]",
       "prompt_number": 57,
       "text": [
        "             2              \u239b      2            2                          \u239e  \n",
        "1           X (5)           \u239dX(1)\u22c5X (6) + X(2)\u22c5X (5) - 2\u22c5X(4)\u22c5X(5)\u22c5X(6) + 1\u23a0\u22c5X\n",
        "\u2500 + \u2500\u2500\u2500\u2500\u2500\u2500\u2500\u2500\u2500\u2500\u2500\u2500\u2500\u2500\u2500\u2500\u2500\u2500\u2500\u2500\u2500 - \u2500\u2500\u2500\u2500\u2500\u2500\u2500\u2500\u2500\u2500\u2500\u2500\u2500\u2500\u2500\u2500\u2500\u2500\u2500\u2500\u2500\u2500\u2500\u2500\u2500\u2500\u2500\u2500\u2500\u2500\u2500\u2500\u2500\u2500\u2500\u2500\u2500\u2500\u2500\u2500\u2500\u2500\u2500\u2500\u2500\u2500\u2500\u2500\u2500\u2500\n",
        "3     \u239b             2   \u239e                                        2            \n",
        "    3\u22c5\u239dX(1)\u22c5X(2) - X (4)\u23a0                     \u239b             2   \u239e             \n",
        "                                            3\u22c5\u239dX(1)\u22c5X(2) - X (4)\u23a0             \n",
        "\n",
        "   \n",
        "(1)\n",
        "\u2500\u2500\u2500\n",
        "   \n",
        "   \n",
        "   "
       ]
      }
     ],
     "prompt_number": 57
    },
    {
     "cell_type": "code",
     "collapsed": false,
     "input": [
      "repr(g)"
     ],
     "language": "python",
     "metadata": {},
     "outputs": [
      {
       "metadata": {},
       "output_type": "pyout",
       "prompt_number": 58,
       "text": [
        "'(X(1)*X(6)**2 + X(2)*X(5)**2 - 2*X(4)*X(5)*X(6) + 1)/(X(1)*X(2) - X(4)**2)'"
       ]
      }
     ],
     "prompt_number": 58
    },
    {
     "cell_type": "code",
     "collapsed": false,
     "input": [
      "repr(dgdx1)"
     ],
     "language": "python",
     "metadata": {},
     "outputs": [
      {
       "metadata": {},
       "output_type": "pyout",
       "prompt_number": 59,
       "text": [
        "'X(6)**2/(X(1)*X(2) - X(4)**2) - (X(1)*X(6)**2 + X(2)*X(5)**2 - 2*X(4)*X(5)*X(6) + 1)*X(2)/(X(1)*X(2) - X(4)**2)**2'"
       ]
      }
     ],
     "prompt_number": 59
    },
    {
     "cell_type": "code",
     "collapsed": false,
     "input": [
      "repr(dgdx2)"
     ],
     "language": "python",
     "metadata": {},
     "outputs": [
      {
       "metadata": {},
       "output_type": "pyout",
       "prompt_number": 60,
       "text": [
        "'X(5)**2/(X(1)*X(2) - X(4)**2) - (X(1)*X(6)**2 + X(2)*X(5)**2 - 2*X(4)*X(5)*X(6) + 1)*X(1)/(X(1)*X(2) - X(4)**2)**2'"
       ]
      }
     ],
     "prompt_number": 60
    },
    {
     "cell_type": "code",
     "collapsed": false,
     "input": [
      "A = SymTensor(\"A\")\n",
      "B = SymTensor(\"B\")\n",
      "L = symarray(\"L\", (3,3,3,3))\n",
      "for i in range(3):\n",
      "    for j in range(3):\n",
      "        for k in range(3):\n",
      "            for l in range(3):\n",
      "                L[i,j,k,l] = (A[i,k]*B[j,l] + A[i,l]*B[j,k]) / 2\n",
      "LV = symarray(\"\", (6,6))\n",
      "for I in range(6):\n",
      "    for J in range(6):\n",
      "        i,j,k,l = IJ_map[(I,J)]\n",
      "        LV[I,J] = L[i,j,k,l]\n",
      "print \"  SUBROUTINE SYMMETRIC_SHUFFLE(A, B, L)\"\n",
      "print \"\"\"\\\n",
      "    ! ----------------------------------------------------------------------- !\n",
      "    ! SYMMETRIC SHUFFLE\n",
      "    !\n",
      "    ! NOTES\n",
      "    ! -----\n",
      "    !                    Lijkl = .5 (Aik Bjl + Ail Bjk)\n",
      "    ! ----------------------------------------------------------------------- !\"\"\"\n",
      "print \"    REAL(KIND=DP), INTENT(IN) :: A(6), B(6)\"\n",
      "print \"    REAL(KIND=DP), INTENT(OUT) :: L(6,6)\"\n",
      "print \"    ! ----------------------------------------------------------------------- !\"\n",
      "for I in range(6):\n",
      "    for J in range(6):\n",
      "        it = repr(LV[I,J].together())\n",
      "        it = it.replace(\"**2\", \" ** 2\")\n",
      "        it = it.replace(\")*A\", \") * A\")\n",
      "        it = it.replace(\"/2\", \" / TWO\")\n",
      "        print \"    L({0},{1}) = {2}\".format(I+1,J+1,it)\n",
      "print \"    RETURN\\n  END SUBROUTINE SYMMETRIC_SHUFFLE\"\n",
      "        "
     ],
     "language": "python",
     "metadata": {},
     "outputs": [
      {
       "output_type": "stream",
       "stream": "stdout",
       "text": [
        "  SUBROUTINE SYMMETRIC_SHUFFLE(A, B, L)\n",
        "    ! ----------------------------------------------------------------------- !\n",
        "    ! SYMMETRIC SHUFFLE\n",
        "    !\n",
        "    ! NOTES\n",
        "    ! -----\n",
        "    !                    Lijkl = .5 (Aik Bjl + Ail Bjk)\n",
        "    ! ----------------------------------------------------------------------- !\n",
        "    REAL(KIND=DP), INTENT(IN) :: A(6), B(6)\n",
        "    REAL(KIND=DP), INTENT(OUT) :: L(6,6)\n",
        "    ! ----------------------------------------------------------------------- !\n",
        "    L(1,1) = A(1)*B(1)\n",
        "    L(1,2) = A(4)*B(4)\n",
        "    L(1,3) = A(5)*B(5)\n",
        "    L(1,4) = (A(1)*B(4) + A(4)*B(1)) / TWO\n",
        "    L(1,5) = (A(1)*B(5) + A(5)*B(1)) / TWO\n",
        "    L(1,6) = (A(4)*B(5) + A(5)*B(4)) / TWO\n",
        "    L(2,1) = A(4)*B(4)\n",
        "    L(2,2) = A(2)*B(2)\n",
        "    L(2,3) = A(6)*B(6)\n",
        "    L(2,4) = (A(2)*B(4) + A(4)*B(2)) / TWO\n",
        "    L(2,5) = (A(4)*B(6) + A(6)*B(4)) / TWO\n",
        "    L(2,6) = (A(2)*B(6) + A(6)*B(2)) / TWO\n",
        "    L(3,1) = A(5)*B(5)\n",
        "    L(3,2) = A(6)*B(6)\n",
        "    L(3,3) = A(3)*B(3)\n",
        "    L(3,4) = (A(5)*B(6) + A(6)*B(5)) / TWO\n",
        "    L(3,5) = (A(3)*B(5) + A(5)*B(3)) / TWO\n",
        "    L(3,6) = (A(3)*B(6) + A(6)*B(3)) / TWO\n",
        "    L(4,1) = A(1)*B(4)\n",
        "    L(4,2) = A(4)*B(2)\n",
        "    L(4,3) = A(5)*B(6)\n",
        "    L(4,4) = (A(1)*B(2) + A(4)*B(4)) / TWO\n",
        "    L(4,5) = (A(1)*B(6) + A(5)*B(4)) / TWO\n",
        "    L(4,6) = (A(4)*B(6) + A(5)*B(2)) / TWO\n",
        "    L(5,1) = A(1)*B(5)\n",
        "    L(5,2) = A(4)*B(6)\n",
        "    L(5,3) = A(5)*B(3)\n",
        "    L(5,4) = (A(1)*B(6) + A(4)*B(5)) / TWO\n",
        "    L(5,5) = (A(1)*B(3) + A(5)*B(5)) / TWO\n",
        "    L(5,6) = (A(4)*B(3) + A(5)*B(6)) / TWO\n",
        "    L(6,1) = A(4)*B(5)\n",
        "    L(6,2) = A(2)*B(6)\n",
        "    L(6,3) = A(6)*B(3)\n",
        "    L(6,4) = (A(2)*B(5) + A(4)*B(6)) / TWO\n",
        "    L(6,5) = (A(4)*B(3) + A(6)*B(5)) / TWO\n",
        "    L(6,6) = (A(2)*B(3) + A(6)*B(6)) / TWO\n",
        "    RETURN\n",
        "  END SUBROUTINE SYMMETRIC_SHUFFLE\n"
       ]
      }
     ],
     "prompt_number": 9
    },
    {
     "cell_type": "code",
     "collapsed": false,
     "input": [
      "F = Tensor(\"F\")\n",
      "ATA = F.T * F\n",
      "for IJ in range(6):\n",
      "    I, J = ij_map[IJ]\n",
      "    it = repr(ATA[I,J].together())\n",
      "    it = it.replace(\"**2\", \" ** 2\")\n",
      "    it = it.replace(\")*F\", \") * F\")\n",
      "    it = it.replace(\"F\", \"A\")\n",
      "    print \"FN_VAL({0}) = {1}\".format(IJ+1, it)\n",
      "    "
     ],
     "language": "python",
     "metadata": {},
     "outputs": []
    },
    {
     "cell_type": "code",
     "collapsed": false,
     "input": [
      "# push operation on stiffness\n",
      "C = symarray(\"C\", (3,3,3,3))\n",
      "D = symarray(\"D\", (3,3,3,3))\n",
      "F = Tensor(\"F\")\n",
      "for i in range(3):\n",
      "    for j in range(3):\n",
      "        for k in range(3):\n",
      "            for l in range(3):\n",
      "                C[j,i,k,l] = C[i,j,k,l]\n",
      "                C[i,j,l,k] = C[i,j,k,l]\n",
      "                C[k,l,i,j] = C[i,j,k,l]\n",
      "                D[i,j,k,l] = 0\n",
      "for i in range(3):\n",
      "    for j in range(3):\n",
      "        for k in range(3):\n",
      "            for l in range(3):\n",
      "                for p in range(3):\n",
      "                    for q in range(3):\n",
      "                        for r in range(3):\n",
      "                            for s in range(3):\n",
      "                                D[i,j,k,l] += F[i,p] * F[j,q] * F[k,r] * F[l,s] * C[p,q,r,s]\n",
      "BB = symarray(\"B\", (6,6))\n",
      "for I in range(6):\n",
      "    for J in range(6):\n",
      "        i,j,k,l = IJ_map[I,J]\n",
      "        BB[I,J] = D[i,j,k,l]\n",
      "from textwrap import wrap\n",
      "fh = open(\"push.f90\", \"w\")\n",
      "fh.write(\"  FUNCTION PUSH_6X6_EXPLICIT(F, A) RESULT(FN_VAL)\\n\")\n",
      "fh.write(\"    REAL(KIND=DP), INTENT(IN) :: F(3,3), A(6,6)\\n\")\n",
      "fh.write(\"    REAL(KIND=DP) :: FN_VAL(6,6)\\n\")\n",
      "fh.write(\"    REAL(KIND=DP) :: JAC\\n\")\n",
      "fh.write(\"    REAL(KIND=DP) :: P2=2._DP, P3=3._DP, P4=4._DP, P8=8._DP\\n\")\n",
      "fh.write(\"    JAC = DET_3X3(F)\\n\")\n",
      "for I in range(6):\n",
      "    for J in range(6):\n",
      "        if I > J:\n",
      "            fh.write(\"    FN_VAL({0},{1}) = FN_VAL({1},{0})\\n\".format(I+1,J+1))\n",
      "            continue\n",
      "        it = repr(BB[I,J].together().rewrite())\n",
      "        it = it.replace(\"C_0_0\", \"A(1,\")\n",
      "        it = it.replace(\"C_1_1\", \"A(2,\")\n",
      "        it = it.replace(\"C_2_2\", \"A(3,\")\n",
      "        it = it.replace(\"C_0_1\", \"A(4,\")\n",
      "        it = it.replace(\"C_0_2\", \"A(5,\")\n",
      "        it = it.replace(\"C_1_2\", \"A(6,\")\n",
      "        it = it.replace(\"_0_0\", \"1)\")\n",
      "        it = it.replace(\"_1_1\", \"2)\")\n",
      "        it = it.replace(\"_2_2\", \"3)\")\n",
      "        it = it.replace(\"_0_1\", \"4)\")\n",
      "        it = it.replace(\"_0_2\", \"5)\")\n",
      "        it = it.replace(\"_1_2\", \"6)\")\n",
      "        it = it.replace(\"4*A\", \"P4*A\")\n",
      "        it = it.replace(\"8*A\", \"P8*A\")\n",
      "        it = it.replace(\"3*A\", \"P3*A\")\n",
      "        it = it.replace(\"2*A\", \"P2*A\")\n",
      "        it = it.replace(\", \", \",\")\n",
      "        it = \"\".join(it.split())\n",
      "        it = \" + \".join(sorted(it.split(\"+\")))\n",
      "        it = \"    FN_VAL({0},{1}) = ({2}) / JAC\".format(I+1,J+1, it)\n",
      "        it = wrap(it, 82, subsequent_indent=\" \"*9)\n",
      "        lines = \"\\n\".join([line + \" &\" for line in it[:-1]])\n",
      "        lines += \"\\n\" + it[-1]\n",
      "        fh.write(lines + \"\\n\")\n",
      "fh.write(\"    RETURN\\n  END FUNCTION PUSH_6X6_EXPLICIT\\n\")\n",
      "fh.close()"
     ],
     "language": "python",
     "metadata": {},
     "outputs": [],
     "prompt_number": 22
    },
    {
     "cell_type": "code",
     "collapsed": false,
     "input": [
      "# 4th order dyad\n",
      "D = symarray(\"D\", (3,3,3,3))\n",
      "A = SymTensor(\"A\")\n",
      "B = SymTensor(\"B\")\n",
      "for i in range(3):\n",
      "    for j in range(3):\n",
      "        for k in range(3):\n",
      "            for l in range(3):\n",
      "                D[i,j,k,l] = A[i,j] * B[k,l]\n",
      "\n",
      "AB = symarray(\"AB\", (6,6))\n",
      "for I in range(6):\n",
      "    for J in range(6):\n",
      "        i,j,k,l = IJ_map[I,J]\n",
      "        AB[I,J] = D[i,j,k,l]\n",
      "from textwrap import wrap\n",
      "#fh = open(\"dyad.f90\", \"w\")\n",
      "#fh.write(\"  FUNCTION DYAD_6X6(A,B) RESULT(FN_VAL)\\n\")\n",
      "#fh.write(\"    REAL(KIND=DP), INTENT(IN) :: A(6), B(6)\\n\")\n",
      "#fh.write(\"    REAL(KIND=DP) :: FN_VAL(6,6)\\n\")\n",
      "for I in range(6):\n",
      "    for J in range(6):\n",
      "        it = repr(AB[I,J].together().rewrite())\n",
      "        it = \"    FN_VAL({0},{1}) = {2}\".format(I+1,J+1, it)\n",
      "        print it\n",
      "#        fh.write(lines + \"\\n\")\n",
      "#fh.write(\"    RETURN\\n  END FUNCTION DYAD_6X6\\n\")\n",
      "#fh.close()"
     ],
     "language": "python",
     "metadata": {},
     "outputs": [
      {
       "output_type": "stream",
       "stream": "stdout",
       "text": [
        "    FN_VAL(1,1) = A(1)*B(1)\n",
        "    FN_VAL(1,2) = A(1)*B(2)\n",
        "    FN_VAL(1,3) = A(1)*B(3)\n",
        "    FN_VAL(1,4) = A(1)*B(4)\n",
        "    FN_VAL(1,5) = A(1)*B(5)\n",
        "    FN_VAL(1,6) = A(1)*B(6)\n",
        "    FN_VAL(2,1) = A(2)*B(1)\n",
        "    FN_VAL(2,2) = A(2)*B(2)\n",
        "    FN_VAL(2,3) = A(2)*B(3)\n",
        "    FN_VAL(2,4) = A(2)*B(4)\n",
        "    FN_VAL(2,5) = A(2)*B(5)\n",
        "    FN_VAL(2,6) = A(2)*B(6)\n",
        "    FN_VAL(3,1) = A(3)*B(1)\n",
        "    FN_VAL(3,2) = A(3)*B(2)\n",
        "    FN_VAL(3,3) = A(3)*B(3)\n",
        "    FN_VAL(3,4) = A(3)*B(4)\n",
        "    FN_VAL(3,5) = A(3)*B(5)\n",
        "    FN_VAL(3,6) = A(3)*B(6)\n",
        "    FN_VAL(4,1) = A(4)*B(1)\n",
        "    FN_VAL(4,2) = A(4)*B(2)\n",
        "    FN_VAL(4,3) = A(4)*B(3)\n",
        "    FN_VAL(4,4) = A(4)*B(4)\n",
        "    FN_VAL(4,5) = A(4)*B(5)\n",
        "    FN_VAL(4,6) = A(4)*B(6)\n",
        "    FN_VAL(5,1) = A(5)*B(1)\n",
        "    FN_VAL(5,2) = A(5)*B(2)\n",
        "    FN_VAL(5,3) = A(5)*B(3)\n",
        "    FN_VAL(5,4) = A(5)*B(4)\n",
        "    FN_VAL(5,5) = A(5)*B(5)\n",
        "    FN_VAL(5,6) = A(5)*B(6)\n",
        "    FN_VAL(6,1) = A(6)*B(1)\n",
        "    FN_VAL(6,2) = A(6)*B(2)\n",
        "    FN_VAL(6,3) = A(6)*B(3)\n",
        "    FN_VAL(6,4) = A(6)*B(4)\n",
        "    FN_VAL(6,5) = A(6)*B(5)\n",
        "    FN_VAL(6,6) = A(6)*B(6)\n"
       ]
      }
     ],
     "prompt_number": 7
    },
    {
     "cell_type": "code",
     "collapsed": false,
     "input": [
      "# 4th order dyad\n",
      "II1 = symarray(\"\", (3,3,3,3))\n",
      "Id = Identity(3)\n",
      "for A in range(3):\n",
      "    for B in range(3):\n",
      "        for C in range(3):\n",
      "            for D in range(3):\n",
      "                II1[A,B,C,D] = (Id[A,C] * Id[B,D] + Id[A,D] * Id[B,C]) / 2\n",
      "\n",
      "II1V = symarray(\"\", (6,6))\n",
      "for I in range(6):\n",
      "    for J in range(6):\n",
      "        i,j,k,l = IJ_map[I,J]\n",
      "        II1V[I,J] = II1[i,j,k,l]\n",
      "itt = []\n",
      "for I in range(6):\n",
      "    for J in range(6):\n",
      "        it = repr(II1V[I,J].together().rewrite())\n",
      "        it = it.replace(\"0\", \"ZERO\")\n",
      "        it = it.replace(\"1/2\", \"HALF\")\n",
      "        it = it.replace(\"1\", \"ONE\")\n",
      "        itt.append(it)\n",
      "print \"REAL(KIND=DP), PARAMETER :: II1(6,6)=RESHAPE((/{0}/), (/6,6/))\".format(\",\".join(itt))"
     ],
     "language": "python",
     "metadata": {},
     "outputs": [
      {
       "output_type": "stream",
       "stream": "stdout",
       "text": [
        "REAL(KIND=DP), PARAMETER :: II1(6,6)=RESHAPE((/ONE,ZERO,ZERO,ZERO,ZERO,ZERO,ZERO,ONE,ZERO,ZERO,ZERO,ZERO,ZERO,ZERO,ONE,ZERO,ZERO,ZERO,ZERO,ZERO,ZERO,HALF,ZERO,ZERO,ZERO,ZERO,ZERO,ZERO,HALF,ZERO,ZERO,ZERO,ZERO,ZERO,ZERO,HALF/), (/6,6/))\n"
       ]
      }
     ],
     "prompt_number": 29
    },
    {
     "cell_type": "code",
     "collapsed": false,
     "input": [
      "# 4th order dyad\n",
      "II2 = symarray(\"\", (3,3,3,3))\n",
      "Id = Identity(3)\n",
      "for i in range(3):\n",
      "    for j in range(3):\n",
      "        for k in range(3):\n",
      "            for l in range(3):\n",
      "                II2[i,j,k,l] = Id[i,k] * Id[j,l]\n",
      "\n",
      "II2V = symarray(\"\", (6,6))\n",
      "for I in range(6):\n",
      "    for J in range(6):\n",
      "        i,j,k,l = IJ_map[I,J]\n",
      "        II2V[I,J] = II2[i,j,k,l]\n",
      "itt = []\n",
      "for I in range(6):\n",
      "    for J in range(6):\n",
      "        it = repr(II2V[I,J].together().rewrite())\n",
      "        it = it.replace(\"0\", \"ZERO\")\n",
      "        it = it.replace(\"1/2\", \"HALF\")\n",
      "        it = it.replace(\"1\", \"ONE\")\n",
      "        itt.append(it)\n",
      "print \"REAL(KIND=DP), PARAMETER :: II2(6,6)=RESHAPE((/{0}/), (/6,6/))\".format(\",\".join(itt))"
     ],
     "language": "python",
     "metadata": {},
     "outputs": [
      {
       "output_type": "stream",
       "stream": "stdout",
       "text": [
        "REAL(KIND=DP), PARAMETER :: II2(6,6)=RESHAPE((/ONE,ZERO,ZERO,ZERO,ZERO,ZERO,ZERO,ONE,ZERO,ZERO,ZERO,ZERO,ZERO,ZERO,ONE,ZERO,ZERO,ZERO,ZERO,ZERO,ZERO,ONE,ZERO,ZERO,ZERO,ZERO,ZERO,ZERO,ONE,ZERO,ZERO,ZERO,ZERO,ZERO,ZERO,ONE/), (/6,6/))\n"
       ]
      }
     ],
     "prompt_number": 31
    },
    {
     "cell_type": "code",
     "collapsed": false,
     "input": [
      "# 4th order dyad\n",
      "II3 = symarray(\"\", (3,3,3,3))\n",
      "Id = Identity(3)\n",
      "for i in range(3):\n",
      "    for j in range(3):\n",
      "        for k in range(3):\n",
      "            for l in range(3):\n",
      "                II3[i,j,k,l] = Id[i,l] * Id[j,k]\n",
      "\n",
      "II3V = symarray(\"\", (6,6))\n",
      "for I in range(6):\n",
      "    for J in range(6):\n",
      "        i,j,k,l = IJ_map[I,J]\n",
      "        II3V[I,J] = II3[i,j,k,l]\n",
      "itt = []\n",
      "for I in range(6):\n",
      "    for J in range(6):\n",
      "        it = repr(II3V[I,J].together().rewrite())\n",
      "        it = it.replace(\"0\", \"ZERO\")\n",
      "        it = it.replace(\"1/2\", \"HALF\")\n",
      "        it = it.replace(\"1\", \"ONE\")\n",
      "        itt.append(it)\n",
      "print \"REAL(KIND=DP), PARAMETER :: II3(6,6)=RESHAPE((/{0}/), (/6,6/))\".format(\",\".join(itt))"
     ],
     "language": "python",
     "metadata": {},
     "outputs": [
      {
       "output_type": "stream",
       "stream": "stdout",
       "text": [
        "REAL(KIND=DP), PARAMETER :: II3(6,6)=RESHAPE((/ONE,ZERO,ZERO,ZERO,ZERO,ZERO,ZERO,ONE,ZERO,ZERO,ZERO,ZERO,ZERO,ZERO,ONE,ZERO,ZERO,ZERO,ZERO,ZERO,ZERO,ZERO,ZERO,ZERO,ZERO,ZERO,ZERO,ZERO,ZERO,ZERO,ZERO,ZERO,ZERO,ZERO,ZERO,ZERO/), (/6,6/))\n"
       ]
      }
     ],
     "prompt_number": 32
    },
    {
     "cell_type": "code",
     "collapsed": false,
     "input": [
      "II4V = symarray(\"\", (6,6))\n",
      "II4V = (II2V + II3V) / 2\n",
      "itt = []\n",
      "for I in range(6):\n",
      "    for J in range(6):\n",
      "        it = repr(II4V[I,J].together().rewrite())\n",
      "        it = it.replace(\"0\", \"ZERO\")\n",
      "        it = it.replace(\"1/2\", \"HALF\")\n",
      "        it = it.replace(\"1\", \"ONE\")\n",
      "        itt.append(it)\n",
      "print \"REAL(KIND=DP), PARAMETER :: II4(6,6)=RESHAPE((/{0}/), (/6,6/))\".format(\",\".join(itt))"
     ],
     "language": "python",
     "metadata": {},
     "outputs": [
      {
       "output_type": "stream",
       "stream": "stdout",
       "text": [
        "REAL(KIND=DP), PARAMETER :: II4(6,6)=RESHAPE((/ONE,ZERO,ZERO,ZERO,ZERO,ZERO,ZERO,ONE,ZERO,ZERO,ZERO,ZERO,ZERO,ZERO,ONE,ZERO,ZERO,ZERO,ZERO,ZERO,ZERO,HALF,ZERO,ZERO,ZERO,ZERO,ZERO,ZERO,HALF,ZERO,ZERO,ZERO,ZERO,ZERO,ZERO,HALF/), (/6,6/))\n"
       ]
      }
     ],
     "prompt_number": 36
    },
    {
     "cell_type": "code",
     "collapsed": false,
     "input": [
      "# 4th order dyad\n",
      "II5 = symarray(\"\", (3,3,3,3))\n",
      "Id = Identity(3)\n",
      "for i in range(3):\n",
      "    for j in range(3):\n",
      "        for k in range(3):\n",
      "            for l in range(3):\n",
      "                II5[i,j,k,l] = Id[i,j] * Id[k,l]\n",
      "\n",
      "II5V = symarray(\"\", (6,6))\n",
      "for I in range(6):\n",
      "    for J in range(6):\n",
      "        i,j,k,l = IJ_map[I,J]\n",
      "        II5V[I,J] = II5[i,j,k,l]\n",
      "itt = []\n",
      "for I in range(6):\n",
      "    for J in range(6):\n",
      "        it = repr(II5V[I,J].together().rewrite())\n",
      "        it = it.replace(\"0\", \"ZERO\")\n",
      "        it = it.replace(\"1/2\", \"HALF\")\n",
      "        it = it.replace(\"1\", \"ONE\")\n",
      "        itt.append(it)\n",
      "print \"REAL(KIND=DP), PARAMETER :: II5(6,6)=RESHAPE((/{0}/), (/6,6/))\".format(\",\".join(itt))"
     ],
     "language": "python",
     "metadata": {},
     "outputs": [
      {
       "output_type": "stream",
       "stream": "stdout",
       "text": [
        "REAL(KIND=DP), PARAMETER :: II5(6,6)=RESHAPE((/ONE,ONE,ONE,ZERO,ZERO,ZERO,ONE,ONE,ONE,ZERO,ZERO,ZERO,ONE,ONE,ONE,ZERO,ZERO,ZERO,ZERO,ZERO,ZERO,ZERO,ZERO,ZERO,ZERO,ZERO,ZERO,ZERO,ZERO,ZERO,ZERO,ZERO,ZERO,ZERO,ZERO,ZERO/), (/6,6/))\n"
       ]
      }
     ],
     "prompt_number": 37
    },
    {
     "cell_type": "code",
     "collapsed": false,
     "input": [
      "# 4th order dyad\n",
      "S = symarray(\"\", (3,3,3,3))\n",
      "A = SymTensor(\"A\")\n",
      "for i in range(3):\n",
      "    for j in range(3):\n",
      "        for k in range(3):\n",
      "            for l in range(3):\n",
      "                S[i,j,k,l] = A[i,k]*A[j,l]\n",
      "\n",
      "SV = symarray(\"\", (6,6))\n",
      "for I in range(6):\n",
      "    for J in range(6):\n",
      "        i,j,k,l = IJ_map[I,J]\n",
      "        SV[I,J] = S[i,j,k,l]\n",
      "itt = []\n",
      "fh = sys.stdout\n",
      "fh.write(\"  FUNCTION SHUFF(A) RESULT(FN_VAL)\\n\")\n",
      "fh.write(\"    REAL(KIND=DP), INTENT(IN) :: A(6)\\n\")\n",
      "fh.write(\"    REAL(KIND=DP) :: FN_VAL(6,6)\\n\")\n",
      "\n",
      "for I in range(6):\n",
      "    for J in range(6):\n",
      "        it = repr(SV[I,J].together().rewrite())\n",
      "        fh.write(\"    FN_VAL({0},{1}) = {2}\\n\".format(I+1,J+1,it))\n",
      "fh.write(\"    RETURN\\n  END FUNCTION SHUFF\\n\")"
     ],
     "language": "python",
     "metadata": {},
     "outputs": [
      {
       "output_type": "stream",
       "stream": "stdout",
       "text": [
        "  FUNCTION SHUFF(A) RESULT(FN_VAL)\n",
        "    REAL(KIND=DP), INTENT(IN) :: A(6)\n",
        "    REAL(KIND=DP) :: FN_VAL(6,6)\n",
        "    FN_VAL(1,1) = A(1)**2\n",
        "    FN_VAL(1,2) = A(4)**2\n",
        "    FN_VAL(1,3) = A(5)**2\n",
        "    FN_VAL(1,4) = A(1)*A(4)\n",
        "    FN_VAL(1,5) = A(1)*A(5)\n",
        "    FN_VAL(1,6) = A(4)*A(5)\n",
        "    FN_VAL(2,1) = A(4)**2\n",
        "    FN_VAL(2,2) = A(2)**2\n",
        "    FN_VAL(2,3) = A(6)**2\n",
        "    FN_VAL(2,4) = A(2)*A(4)\n",
        "    FN_VAL(2,5) = A(4)*A(6)\n",
        "    FN_VAL(2,6) = A(2)*A(6)\n",
        "    FN_VAL(3,1) = A(5)**2\n",
        "    FN_VAL(3,2) = A(6)**2\n",
        "    FN_VAL(3,3) = A(3)**2\n",
        "    FN_VAL(3,4) = A(5)*A(6)\n",
        "    FN_VAL(3,5) = A(3)*A(5)\n",
        "    FN_VAL(3,6) = A(3)*A(6)\n",
        "    FN_VAL(4,1) = A(1)*A(4)\n",
        "    FN_VAL(4,2) = A(2)*A(4)\n",
        "    FN_VAL(4,3) = A(5)*A(6)\n",
        "    FN_VAL(4,4) = A(1)*A(2)\n",
        "    FN_VAL(4,5) = A(1)*A(6)\n",
        "    FN_VAL(4,6) = A(4)*A(6)\n",
        "    FN_VAL(5,1) = A(1)*A(5)\n",
        "    FN_VAL(5,2) = A(4)*A(6)\n",
        "    FN_VAL(5,3) = A(3)*A(5)\n",
        "    FN_VAL(5,4) = A(1)*A(6)\n",
        "    FN_VAL(5,5) = A(1)*A(3)\n",
        "    FN_VAL(5,6) = A(3)*A(4)\n",
        "    FN_VAL(6,1) = A(4)*A(5)\n",
        "    FN_VAL(6,2) = A(2)*A(6)\n",
        "    FN_VAL(6,3) = A(3)*A(6)\n",
        "    FN_VAL(6,4) = A(4)*A(6)\n",
        "    FN_VAL(6,5) = A(3)*A(4)\n",
        "    FN_VAL(6,6) = A(2)*A(3)\n",
        "    RETURN\n",
        "  END FUNCTION SHUFF\n"
       ]
      }
     ],
     "prompt_number": 4
    },
    {
     "cell_type": "code",
     "collapsed": false,
     "input": [],
     "language": "python",
     "metadata": {},
     "outputs": []
    }
   ],
   "metadata": {}
  }
 ]
}