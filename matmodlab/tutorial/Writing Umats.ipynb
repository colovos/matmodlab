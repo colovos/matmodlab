{
 "cells": [
  {
   "cell_type": "markdown",
   "metadata": {
    "slideshow": {
     "slide_type": "slide"
    }
   },
   "source": [
    "# Writing a User Material for \n",
    "# Commercial Finite Element Software\n",
    "\n",
    "*Lecture adapted from Abaqus lecture on writing UMATs*"
   ]
  },
  {
   "cell_type": "markdown",
   "metadata": {
    "slideshow": {
     "slide_type": "slide"
    }
   },
   "source": [
    "# Overview\n",
    "\n",
    "- Motivation\n",
    "- Steps Required for Writing a User Material\n",
    "- Abaqus UMAT Interface\n",
    "- Linear Elastic Example"
   ]
  },
  {
   "cell_type": "markdown",
   "metadata": {
    "slideshow": {
     "slide_type": "subslide"
    }
   },
   "source": [
    "## Overview, contd.\n",
    "\n",
    "Many commercial finite element codes provide an interface that allows users to implement general material constitutive equations.  A user material model:\n",
    "\n",
    "- is used to define the mechanical constitutive behavior of a material;\n",
    "\n",
    "- is called at integration points of elements for which the material definition includes a user-defined material behavior;\n",
    "\n",
    "- can use solution-dependent state variables;\n",
    "\n",
    "- updates the stresses and solution-dependent state variables to their values at the end of the increment for which it is called;\n",
    "\n",
    "- for most implicit solvers must provide the material Jacobian matrix, $\\partial\\Delta\\pmb{\\sigma}/\\partial\\Delta\\pmb{\\epsilon}$;\n",
    "\n",
    "Use the user material interface only when none of the existing material models included in the code's material library accurately represents the behavior of the material to be modeled."
   ]
  },
  {
   "cell_type": "markdown",
   "metadata": {
    "slideshow": {
     "slide_type": "slide"
    }
   },
   "source": [
    "# Steps Required in Writing a User Material\n"
   ]
  },
  {
   "cell_type": "markdown",
   "metadata": {
    "slideshow": {
     "slide_type": "subslide"
    }
   },
   "source": [
    "## Define the Constitutive Response\n",
    " \n",
    "- Outside the scope of this lecture\n",
    "- Requires one of the following:\n",
    "  - Explicit definition of stress (Cauchy stress for large-strain applications)\n",
    "  - Definition of the stress rate only (in corotational framework) \n",
    "\n",
    "- It is also likely to require:\n",
    "  - Definition of dependence on time, temperature, or field variables\n",
    "  - Definition of internal state variables, either explicitly or in rate form"
   ]
  },
  {
   "cell_type": "markdown",
   "metadata": {
    "slideshow": {
     "slide_type": "subslide"
    }
   },
   "source": [
    "## Transform Constitutive Equations to Incremental Form\n",
    "\n",
    "Use a suitable integration procedure (**this is the hard part!**):\n",
    "\n",
    "- Forward Euler (explicit integration)\n",
    "\n",
    "  Simple to implement, but has a stability limit\n",
    "\n",
    "  $$\\Delta\\epsilon < \\Delta\\epsilon_{\\rm stab}$$\n",
    "\n",
    "  where $\\Delta\\epsilon_{\\rm stab}$ is usually less than the elastic strain magnitude.\n",
    "  \n",
    "- Backward Euler (implicit integration)\n",
    "\n",
    "- Midpoint method"
   ]
  },
  {
   "cell_type": "markdown",
   "metadata": {
    "slideshow": {
     "slide_type": "fragment"
    }
   },
   "source": [
    "### Considerations\n",
    "\n",
    "- For explicit integration the time increment must be controlled.\n",
    "- For implicit or midpoint integration the algorithm is more complicated and often requires local iteration. However, there is usually no stability limit.\n",
    "- An incremental expression for the internal state variables must also be obtained."
   ]
  },
  {
   "cell_type": "markdown",
   "metadata": {
    "slideshow": {
     "slide_type": "subslide"
    }
   },
   "source": [
    "## Calculation of the (consistent) Jacobian\n",
    "\n",
    "- Required only for implicit solvers\n",
    "- For small-deformation problems (e.g., linear elasticity) or large-deformation problems with small volume changes (e.g., metal plasticity), the consistent Jacobian is\n",
    "\n",
    "  $$ \\mathbb{C} = \\frac{\\partial\\Delta\\pmb{\\sigma}}{\\partial\\Delta\\pmb{\\epsilon}}$$\n",
    "\n",
    "  where $\\Delta\\sigma$ is the increment in stress and $\\Delta\\epsilon$ is the increment in strain.\n",
    "- $\\pmb{\\sigma}$ is most always associated with the Cauchy stress and, in finite-strain problems, $\\pmb{\\epsilon}$ is an approximation to the logarithmic strain.\n",
    "- This matrix may be nonsymmetric as a result of the constitutive equation or integration procedure.\n",
    "- The Jacobian is often approximated, resulting in a loss of quadratic convergence.\n",
    "- It is easily calculated for forward integration methods (usually the elasticity matrix)."
   ]
  },
  {
   "cell_type": "markdown",
   "metadata": {
    "slideshow": {
     "slide_type": "subslide"
    }
   },
   "source": [
    "## Calculation of the (consistent) Jacobian, contd.\n",
    "\n",
    "- If large deformations with large volume changes are considered (e.g., pressure-dependent plasticity), the exact form of the consistent Jacobian\n",
    " \n",
    "  $$ \\mathbb{C} = \\frac{1}{J}\\frac{\\partial\\Delta\\left(J\\pmb{\\sigma}\\right)}{\\partial\\Delta\\pmb{\\epsilon}}$$\n",
    "  \n",
    "  should be used to ensure rapid convergence.\n",
    "  \n",
    "  \n",
    "- For hyperelastic constitutive equations, in which $\\pmb{\\sigma}$ is a proper function of the deformation, the consistent Jacobian is defined by:\n",
    "\n",
    "  $$\\delta\\left(J\\pmb{\\sigma}\\right) = J\\mathbb{C}{:}\\delta\\pmb{d}$$\n"
   ]
  },
  {
   "cell_type": "markdown",
   "metadata": {
    "slideshow": {
     "slide_type": "slide"
    }
   },
   "source": [
    "# Commercial Code Interfaces\n",
    "\n",
    "Many commercial codes provide one or more user material interfaces\n",
    "\n",
    "- Abaqus/Standard: UMAT (Fortran)\n",
    "- Abaqus/Explicit: VUMAT (Fortran)\n",
    "- LSDYNA: UMAT (Fortran)\n",
    "- Ansys: USERMAT (Fortran)\n",
    "- FEBio: Subclass of base material (C++)"
   ]
  },
  {
   "cell_type": "markdown",
   "metadata": {
    "slideshow": {
     "slide_type": "subslide"
    }
   },
   "source": [
    "## Abaqus UMAT Interface\n",
    "\n",
    "- Used in Abaqus/Standard\n",
    "- Follows Fortran coding conventions\n",
    "- User must make sure that all variables are defined and initialized properly.\n",
    "- Use Abaqus utility routines as required.\n",
    "- Assign enough storage space for state variables with the `∗DEPVAR` option.\n",
    "- Abaqus UMATs can be run directly in Matmodlab"
   ]
  },
  {
   "cell_type": "markdown",
   "metadata": {
    "slideshow": {
     "slide_type": "subslide"
    }
   },
   "source": [
    "## Verification\n",
    "\n",
    "- Verify the subroutine response using Matmodlab\n",
    "- In Abaqus, run tests with all displacements prescribed to verify the integration algorithm for stresses and state variables.\n",
    "\n",
    "  Suggested tests include:\n",
    "  \n",
    "  - Uniaxial\n",
    "  - Uniaxial in oblique directions\n",
    "  - Uniaxial with finite rotation\n",
    "  - Finite shear\n",
    "\n",
    "- Run similar tests with load prescribed to verify the accuracy of the Jacobian.\n",
    "  - In Matmodlab, use the `sqa_stiff` option to compare stiffness to that computed numerically\n",
    "- Compare test results with analytical solutions."
   ]
  },
  {
   "cell_type": "markdown",
   "metadata": {
    "slideshow": {
     "slide_type": "subslide"
    }
   },
   "source": [
    "## Abaqus UMAT Interface\n",
    "\n",
    "- See the Abaqus documentation for input file requirements\n",
    "- Abaqus documents that UMATs must be written in Fortran 77, but can be implented in free form Fortran\n",
    "- If free form Fortran is used, the Fortran command in the Abaqus environment file must be modified\n",
    "- The UMAT Fortran 77 subroutine header is\n",
    "\n",
    "```fortran\n",
    "       SUBROUTINE UMAT(STRESS, STATEV, DDSDDE, SSE, SPD, SCD, RPL,\n",
    "      1 DDSDDT, DRPLDE,DRPLDT,STRAN,DSTRAN,TIME,DTIME,TEMP,DTEMP,\n",
    "      2 PREDEF,DPRED, CMNAME, NDI, NSHR, NTENS, NSTATV, PROPS, NPROPS, \n",
    "      3 COORDS, DROT, PNEWDT, CELENT, DFGRD0, DFGRD1, NOEL, NPT, LAYER, \n",
    "      4 KSPT, KSTEP, KINC)\n",
    "    \n",
    "       INCLUDE 'ABA_PARAM.INC'\n",
    "       CHARACTER*8 CMNAME\n",
    "       DIMENSION STRESS(NTENS), STATEV(NSTATV), DDSDDE(NTENS, NTENS),\n",
    "      1 DDSDDT(NTENS), DRPLDE(NTENS), STRAN(NTENS), DSTRAN(NTENS),\n",
    "      2 PREDEF(1), DPRED(1), PROPS(NPROPS), COORDS(3), DROT(3, 3),\n",
    "      3 DFGRD0(3, 3), DFGRD1(3, 3)\n",
    "```\n",
    "\n",
    "- The include statement sets the proper precision for floating point variables\n",
    "- If `implicit none` is used, make sure the precision set matches that of Abaqus"
   ]
  },
  {
   "cell_type": "markdown",
   "metadata": {
    "slideshow": {
     "slide_type": "subslide"
    }
   },
   "source": [
    "## UMAT Variables\n",
    "\n",
    "**The following quantities are available in UMAT:**\n",
    "\n",
    "- Stress, strain, and SDVs at the start of the increment\n",
    "- Strain increment, rotation increment, and deformation gradient at the start and end of the increment\n",
    "- Total and incremental values of time, temperature, and user-defined field variables\n",
    "- Material constants, material point position, and a characteristic element length\n",
    "- Element, integration point, and composite layer number (for shells and layered solids)\n",
    "- Current step and increment numbers\n",
    "\n",
    "**The following quantities must be defined:**\n",
    "\n",
    "- Stress, SDVs, and material Jacobian \n",
    "\n",
    "**The following variables may be defined:**\n",
    "\n",
    "- Strain energy, plastic dissipation, and “creep” dissipation\n",
    "- Suggested new (reduced) time increment\n",
    "\n",
    "A complete description of all parameters is given in the Abaqus user subroutines guide"
   ]
  },
  {
   "cell_type": "markdown",
   "metadata": {
    "slideshow": {
     "slide_type": "subslide"
    }
   },
   "source": [
    "## UMAT Utilities\n",
    "\n",
    "- `SINV` will return the first and second invariants of a tensor.\n",
    "- `SPRINC` will return the principal values of a tensor.\n",
    "- `SPRIND` will return the principal values and directions of a tensor.\n",
    "- `ROTSIG` will rotate a tensor with an orientation matrix.\n",
    "- `XIT` will terminate an analysis and close all files associated with the analysis properly.\n",
    "- `STD_ABQERR` sends messages to Abaqus to write to output files\n",
    "\n",
    "For more details, see the Abaqus user subroutines guide"
   ]
  },
  {
   "cell_type": "markdown",
   "metadata": {
    "slideshow": {
     "slide_type": "subslide"
    }
   },
   "source": [
    "## UMAT Conventions\n",
    "\n",
    "**Sresses and strains are stored as vectors**\n",
    "\n",
    "- For plane stress elements: $\\sigma_{11}, \\sigma_{22}, \\sigma_{12}$\n",
    "- For (generalized) plane strain and axisymmetric elements: $\\sigma_{11}, \\sigma_{22}, \\sigma_{33}, \\sigma_{12}$\n",
    "- For three-dimensional elements: $\\sigma_{11}, \\sigma_{22}, \\sigma_{33}, \\sigma_{12}, \\sigma_{13}, \\sigma_{23}$\n",
    "\n",
    "**The shear strain is stored as engineering shear strain**\n",
    "\n",
    "$$\\gamma_{ij} = 2\\epsilon_{ij}, \\quad i\\ne j$$\n",
    "\n",
    "**The deformation gradient, $F_{ij}$, is always stored as a three-dimensional matrix**"
   ]
  },
  {
   "cell_type": "markdown",
   "metadata": {
    "slideshow": {
     "slide_type": "subslide"
    }
   },
   "source": [
    "## UMAT Formulation Aspects\n",
    "\n",
    "- For geometrically nonlinear analysis the strain increment and incremental rotation passed into the routine are based on the Hughes-Winget formulae.\n",
    "  - Linearized strain and rotation increments are calculated in the mid-increment configuration.\n",
    "  - Approximations are made, particularly if rotation increments are large: more accurate measures can be obtained from the deformation gradient if desired.\n",
    "  \n",
    "- The user must define the Cauchy stress: when this stress reappears during the next increment, it will have been rotated with the incremental rotation, `DROT`, passed into the subroutine.\n",
    "\n",
    "  - The stress tensor can be rotated back using the utility routine `ROTSIG` if this is not desired.\n",
    "  \n",
    "- If the `∗Orientation` option is used in conjunction with UMAT, stress and strain components will be in the local system (again, this basis system rotates with the material in finite-strain analysis).\n",
    "\n",
    "- Tensor state variables must be rotated in the subroutine (use `ROTSIG`).\n"
   ]
  },
  {
   "cell_type": "markdown",
   "metadata": {
    "slideshow": {
     "slide_type": "subslide"
    }
   },
   "source": [
    "## Usage Hints\n",
    "\n",
    "- At the start of a new increment, the strain increment is extrapolated from the previous increment.\n",
    "\n",
    "  - This extrapolation, which may sometimes cause trouble, is turned off with `∗STEP, EXTRAPOLATION=NO`\n",
    "- If the strain increment is too large, the variable `PNEWDT` can be used to suggest a reduced time increment.\n",
    "\n",
    "  - The code will abandon the current time increment in favor of a time increment given by `PNEWDT*DTIME.`\n",
    "  \n",
    "- The characteristic element length can be used to define softening behavior based on fracture energy concepts."
   ]
  },
  {
   "cell_type": "markdown",
   "metadata": {
    "slideshow": {
     "slide_type": "subslide"
    }
   },
   "source": [
    "## Matmodlab UMAT Support\n",
    "\n",
    "Matmodlab has built in support for compiling and running Abaqus UMATs\n",
    "\n",
    "- Coding standards follow that of Abaqus\n",
    "- All Abaqus utility procedures are implemented\n",
    "- Develop/Test/Fit the material in Matmodlab before transitioning to the full finite element code"
   ]
  },
  {
   "cell_type": "markdown",
   "metadata": {
    "slideshow": {
     "slide_type": "slide"
    }
   },
   "source": [
    "# Example: Isotropic Isothermal Linear Elasticity\n",
    "\n",
    "- Constitutive law:\n",
    "\n",
    "  $$\\pmb{\\sigma} = 3K{\\rm iso}\\pmb{\\epsilon} + 2G{\\rm dev}\\pmb{\\epsilon}$$\n",
    "  \n",
    "- Jaumann (corotational) rate form:\n",
    "\n",
    "  $$\\dot{\\pmb{\\sigma}} = 3K{\\rm iso}\\dot{\\pmb{\\epsilon}} + 2G{\\rm dev}\\dot{\\pmb{\\epsilon}}$$\n",
    "\n",
    "- The Jaumann rate equation is integrated in a corotational framework:\n",
    "\n",
    "$$\\Delta\\pmb{\\sigma} = 3K{\\rm iso}\\Delta\\pmb{\\epsilon} + 2G{\\rm dev}\\Delta\\pmb{\\epsilon}$$\n",
    "\n",
    "The appropriate coding is shown in the following cells."
   ]
  },
  {
   "cell_type": "markdown",
   "metadata": {
    "slideshow": {
     "slide_type": "subslide"
    }
   },
   "source": [
    "## UMAT Procedure Declaration\n",
    "\n",
    "```fortran\n",
    "subroutine umat(stress, statev, ddsdde, sse, spd, scd, rpl, &\n",
    "     ddsddt, drplde, drpldt, stran, dstran, time, dtime, temp, dtemp, &\n",
    "     predef, dpred, cmname, ndi, nshr, ntens, nstatv, props, nprops, &\n",
    "     coords, drot, pnewdt, celent, dfgrd0, dfgrd1, noel, npt, layer, &\n",
    "     kspt, kstep, kinc)\n",
    "\n",
    "  implicit none\n",
    "  character*8, intent(in) :: cmname\n",
    "  integer, intent(in) :: ndi, nshr, ntens, nstatv, nprops\n",
    "  integer, intent(in) :: noel, npt, layer, kspt, kstep, kinc\n",
    "  real(8), intent(in) :: sse, spd, scd, rpl, drpldt, time, dtime, temp, dtemp\n",
    "  real(8), intent(in) :: pnewdt, celent\n",
    "  real(8), intent(inout) :: stress(ntens), statev(nstatv), ddsdde(ntens, ntens)\n",
    "  real(8), intent(inout) :: ddsddt(ntens), drplde(ntens)\n",
    "  real(8), intent(in) :: stran(ntens), dstran(ntens)\n",
    "  real(8), intent(in) :: predef(1), dpred(1), props(nprops), coords(3)\n",
    "  real(8), intent(in) :: drot(3, 3), dfgrd0(3, 3), dfgrd1(3, 3)\n",
    "\n",
    "  integer :: i, j\n",
    "  real(8) :: K, K3, G, G2, Lam\n",
    "  character*120 :: msg\n",
    "  character*8 :: charv(1)\n",
    "  integer :: intv(1)\n",
    "  real(8) :: realv(1)\n",
    "  ! ------------------------------------------------------------------------- !\n",
    "```\n",
    "\n",
    "- Free format Fortran and `implicit none` used\n",
    "- In Fortran, all variable declarations must appear before any \"executabe statements\""
   ]
  },
  {
   "cell_type": "markdown",
   "metadata": {
    "slideshow": {
     "slide_type": "subslide"
    }
   },
   "source": [
    "## Error Checking\n",
    "\n",
    "```fortran\n",
    "  if (ndi /= 3) then\n",
    "     msg = 'this umat may only be used for elements &\n",
    "          &with three direct stress components'\n",
    "     call stdb_abqerr(-3, msg, intv, realv, charv)\n",
    "  end if\n",
    "```\n",
    "\n",
    "- This UMAT is only formulated for plane strain and 3D elements\n",
    "- Generally speaking, plane stress elements require a different formulation"
   ]
  },
  {
   "cell_type": "markdown",
   "metadata": {
    "collapsed": false,
    "slideshow": {
     "slide_type": "subslide"
    }
   },
   "source": [
    "## Stiffness and Stress Update\n",
    "\n",
    "```fortran\n",
    "  ! elastic properties\n",
    "  K = props(1)\n",
    "  K3 = 3. * K\n",
    "  G = props(2)\n",
    "  G2 = 2. * G\n",
    "  Lam = (K3 - G2) / 3.\n",
    "\n",
    "  ! elastic stiffness\n",
    "  ddsdde = 0.\n",
    "  do i=1,ndi\n",
    "     do j = 1,ndi\n",
    "        ddsdde(j,i) = Lam\n",
    "     end do\n",
    "     ddsdde(i,i) = G2 + Lam\n",
    "  end do\n",
    "  do i=ndi+1,ntens\n",
    "     ddsdde(i,i) = G\n",
    "  end do\n",
    "\n",
    "  ! stress update\n",
    "  stress = stress + matmul(ddsdde, dstran)\n",
    "\n",
    "  return\n",
    "end subroutine umat\n",
    "```\n",
    "\n",
    "- Stiffness corresponds to storage of engineering strain components\n",
    "- Stress is updated in an incremental formulation"
   ]
  },
  {
   "cell_type": "markdown",
   "metadata": {
    "slideshow": {
     "slide_type": "subslide"
    }
   },
   "source": [
    "## The Complete Subroutine\n",
    "\n",
    "The complete subroutine is written to `user_elastic.f90` below"
   ]
  },
  {
   "cell_type": "code",
   "execution_count": null,
   "metadata": {
    "collapsed": false,
    "slideshow": {
     "slide_type": "skip"
    }
   },
   "outputs": [],
   "source": [
    "%matmodlab"
   ]
  },
  {
   "cell_type": "code",
   "execution_count": null,
   "metadata": {
    "collapsed": false
   },
   "outputs": [],
   "source": [
    "%%writefile umat_elastic.f90\n",
    "subroutine umat(stress, statev, ddsdde, sse, spd, scd, rpl, &\n",
    "     ddsddt, drplde, drpldt, stran, dstran, time, dtime, temp, dtemp, &\n",
    "     predef, dpred, cmname, ndi, nshr, ntens, nstatv, props, nprops, &\n",
    "     coords, drot, pnewdt, celent, dfgrd0, dfgrd1, noel, npt, layer, &\n",
    "     kspt, kstep, kinc)\n",
    "\n",
    "  implicit none\n",
    "  character*8, intent(in) :: cmname\n",
    "  integer, intent(in) :: ndi, nshr, ntens, nstatv, nprops\n",
    "  integer, intent(in) :: noel, npt, layer, kspt, kstep, kinc\n",
    "  real(8), intent(in) :: sse, spd, scd, rpl, drpldt, time, dtime, temp, dtemp\n",
    "  real(8), intent(in) :: pnewdt, celent\n",
    "  real(8), intent(inout) :: stress(ntens), statev(nstatv), ddsdde(ntens, ntens)\n",
    "  real(8), intent(inout) :: ddsddt(ntens), drplde(ntens)\n",
    "  real(8), intent(in) :: stran(ntens), dstran(ntens)\n",
    "  real(8), intent(in) :: predef(1), dpred(1), props(nprops), coords(3)\n",
    "  real(8), intent(in) :: drot(3, 3), dfgrd0(3, 3), dfgrd1(3, 3)\n",
    "\n",
    "  integer :: i, j\n",
    "  real(8) :: K, K3, G, G2, Lam\n",
    "  character*120 :: msg\n",
    "  character*8 :: charv(1)\n",
    "  integer :: intv(1)\n",
    "  real(8) :: realv(1)\n",
    "  ! ------------------------------------------------------------------------- !\n",
    "\n",
    "  if (ndi /= 3) then\n",
    "     msg = 'this umat may only be used for elements &\n",
    "          &with three direct stress components'\n",
    "     call stdb_abqerr(-3, msg, intv, realv, charv)\n",
    "  end if\n",
    "\n",
    "  ! elastic properties\n",
    "  K = props(1)\n",
    "  K3 = 3. * K\n",
    "  G = props(2)\n",
    "  G2 = 2. * G\n",
    "  Lam = (K3 - G2) / 3.\n",
    "\n",
    "  ! elastic stiffness\n",
    "  ddsdde = 0.\n",
    "  do i=1,ndi\n",
    "     do j = 1,ndi\n",
    "        ddsdde(j,i) = Lam\n",
    "     end do\n",
    "     ddsdde(i,i) = G2 + Lam\n",
    "  end do\n",
    "  do i=ndi+1,ntens\n",
    "     ddsdde(i,i) = G\n",
    "  end do\n",
    "\n",
    "  ! stress update\n",
    "  stress = stress + matmul(ddsdde, dstran)\n",
    "\n",
    "  return\n",
    "end subroutine umat"
   ]
  },
  {
   "cell_type": "markdown",
   "metadata": {
    "slideshow": {
     "slide_type": "subslide"
    }
   },
   "source": [
    "## Compile and Run the Model in Matmodlab\n",
    "\n",
    "- UMATs can be run directly in Matmodlab\n",
    "- In the Matmodlab Notebook environment, use the `load_material` function to interactively load material models\n",
    "- The `name` option is required when loading UMATs with `load_material`\n",
    "- See [UserMaterials.ipynb](#UserMaterials.ipynb) for options for running user materials in Matmodlab\n",
    "\n",
    "> **Note**\n",
    "> The elastic material model is implemented in free-form Fortran.  Matmodlab handles free-form Fortran seemlessly.  In Abaqus, the user must inform the Abaqus build system that the material model is implemented in free-form Fortran by adding the `-free` (`/free` on Windows) flag to the `compile_fortran` command in their `abaqus_v6.env` environment file."
   ]
  },
  {
   "cell_type": "code",
   "execution_count": null,
   "metadata": {
    "collapsed": false,
    "slideshow": {
     "slide_type": "fragment"
    }
   },
   "outputs": [],
   "source": [
    "load_material('umat_elastic.f90', name='my_umat')"
   ]
  },
  {
   "cell_type": "markdown",
   "metadata": {
    "slideshow": {
     "slide_type": "fragment"
    }
   },
   "source": [
    "- The material is built the first time it is invoked"
   ]
  },
  {
   "cell_type": "code",
   "execution_count": null,
   "metadata": {
    "collapsed": false
   },
   "outputs": [],
   "source": [
    "mps = MaterialPointSimulator('job')\n",
    "K, G = 9.98004e9, 3.75094e9\n",
    "mps.Material('my_umat', parameters=(K, G))"
   ]
  },
  {
   "cell_type": "markdown",
   "metadata": {
    "slideshow": {
     "slide_type": "subslide"
    }
   },
   "source": [
    "## Model Verification: Uniaxial Stress Step\n",
    "\n",
    "- Apply axial strain while holding lateral stresses constant\n",
    "- `sqa_stiff` option checks the stiffness returned from the UMAT with the stiffness found by Matmodlab using a central difference scheme\n",
    "- For a step of uniaxial stress, the slope of stress vs. strain should be the Young's modulus $E$, given by $E=\\frac{9KG}{3K+G}$"
   ]
  },
  {
   "cell_type": "code",
   "execution_count": null,
   "metadata": {
    "collapsed": false
   },
   "outputs": [],
   "source": [
    "mps.MixedStep(components=(.01,0,0), descriptors='ESS', sqa_stiff=True)\n",
    "Etrue = 9. * K * G / (3. * K + G)\n",
    "Esim = mps.S.XX[-1] / mps.E.XX[-1]\n",
    "assert abs(Etrue - Esim) / Etrue < 1e-6"
   ]
  },
  {
   "cell_type": "markdown",
   "metadata": {
    "slideshow": {
     "slide_type": "subslide"
    }
   },
   "source": [
    "## Model Verification: Uniaxial Strain Step\n",
    "\n",
    "- Apply axial strain while holding lateral strains constant\n",
    "- `sqa_stiff` option not used (stiffness is not used in strain controlled loadings)\n",
    "- For a step of uniaxial stress, the slope of stress vs. strain should be the constrained modulus $H$, given by $H=K+\\frac{4}{3}G$"
   ]
  },
  {
   "cell_type": "code",
   "execution_count": null,
   "metadata": {
    "collapsed": false
   },
   "outputs": [],
   "source": [
    "mps.StrainStep(components=(.01,0,0))\n",
    "Htrue = K + 4. * G / 3.\n",
    "Hsim = mps.S.XX[-1] / mps.E.XX[-1]\n",
    "assert abs(Htrue - Hsim) / Htrue < 1e-6"
   ]
  },
  {
   "cell_type": "markdown",
   "metadata": {
    "slideshow": {
     "slide_type": "slide"
    }
   },
   "source": [
    "# Conclusion\n",
    "\n",
    "- Commercial finite element codes' user material interfaces allow custom constitutive responses in simulations\n",
    "- Most user material interfaces are (still) implemented in Fortran\n",
    "- Matmodlab natively supports the Abaqus user material interface"
   ]
  }
 ],
 "metadata": {
  "celltoolbar": "Slideshow",
  "kernelspec": {
   "display_name": "Python 2",
   "language": "python",
   "name": "python2"
  },
  "language_info": {
   "codemirror_mode": {
    "name": "ipython",
    "version": 2
   },
   "file_extension": ".py",
   "mimetype": "text/x-python",
   "name": "python",
   "nbconvert_exporter": "python",
   "pygments_lexer": "ipython2",
   "version": "2.7.10"
  }
 },
 "nbformat": 4,
 "nbformat_minor": 0
}
