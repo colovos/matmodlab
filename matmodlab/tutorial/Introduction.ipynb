{
 "cells": [
  {
   "cell_type": "markdown",
   "metadata": {},
   "source": [
    "# Introduction to Matmodlab\n",
    "\n",
    "The Material Model Laboratory (Matmodlab) is a suite of tools designed for the development of material models intended for deployment in finite element codes.  Matmodlab can be thought of as a tool to drive a single material point of a finite element simulation through specific user defined deformation paths. This permits exercising material models in ways not possible in finite element calculations, desgning verification and validation tests of the material response, among others.\n",
    "\n",
    "Complete documentation for Matmodlab can be found at https://tjfulle.github.io/matmodlab."
   ]
  },
  {
   "cell_type": "markdown",
   "metadata": {},
   "source": [
    "<a name='contents'></a>\n",
    "## Contents\n",
    "\n",
    "### Introduction\n",
    "\n",
    "1. [Getting Started](GettingStarted.ipynb)\n",
    "2. [User Defined Material Models](UserMaterials.ipynb)\n",
    "\n",
    "### Material Models\n",
    "\n",
    "1. [Linear Elasticity](LinearElastic.ipynb)\n",
    "1. [Mooney Rivlin Hyperelasticity](MooneyRivlin.ipynb)\n",
    "3. [Polynomial Hyperelastic Model](PolynomialHyperelastic.ipynb)\n",
    "3. [Nonhardening $J_2$ Plasticity](NonhardeningJ2Plasticity.ipynb)\n",
    "\n",
    "### Parameter Fitting\n",
    "\n",
    "1. [Fitting Hyperelastic Models](Hyperfit.ipynb)\n",
    "3. [Parameter Fitting by Optimization](ParameterOptimization.ipynb)"
   ]
  },
  {
   "cell_type": "code",
   "execution_count": null,
   "metadata": {
    "collapsed": true
   },
   "outputs": [],
   "source": []
  }
 ],
 "metadata": {
  "kernelspec": {
   "display_name": "Python 2",
   "language": "python",
   "name": "python2"
  },
  "language_info": {
   "codemirror_mode": {
    "name": "ipython",
    "version": 2
   },
   "file_extension": ".py",
   "mimetype": "text/x-python",
   "name": "python",
   "nbconvert_exporter": "python",
   "pygments_lexer": "ipython2",
   "version": "2.7.10"
  }
 },
 "nbformat": 4,
 "nbformat_minor": 0
}
