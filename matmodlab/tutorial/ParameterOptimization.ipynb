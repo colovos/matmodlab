{
 "cells": [
  {
   "cell_type": "markdown",
   "metadata": {},
   "source": [
    "# Material Parameter Optimization\n",
    "\n",
    "In the following example, optimized values of Young's modulus, yield strength, and linear hardening parameters for a linear hardening Von Mises material model are determined using data from a standard uniaxial tension test. The data represents the response of Aluminum, alloy unkown.\n",
    "\n",
    "The strategy is to read read data from an excel file and use the axial strain to drive the simulation. Optimization is performed by minimizing the area between the stress-strain curve calculated and the measured stress-strain curve."
   ]
  },
  {
   "cell_type": "markdown",
   "metadata": {},
   "source": [
    "<a name='contents'></a>\n",
    "## Contents\n"
   ]
  },
  {
   "cell_type": "code",
   "execution_count": 1,
   "metadata": {
    "collapsed": false
   },
   "outputs": [
    {
     "data": {
      "text/html": [
       "\n",
       "\n",
       "    <script type=\"text/javascript\">\n",
       "      \n",
       "      (function(global) {\n",
       "        function now() {\n",
       "          return new Date();\n",
       "        }\n",
       "      \n",
       "        if (typeof (window._bokeh_onload_callbacks) === \"undefined\") {\n",
       "          window._bokeh_onload_callbacks = [];\n",
       "        }\n",
       "      \n",
       "        function run_callbacks() {\n",
       "          window._bokeh_onload_callbacks.forEach(function(callback) { callback() });\n",
       "          delete window._bokeh_onload_callbacks\n",
       "          console.info(\"Bokeh: all callbacks have finished\");\n",
       "        }\n",
       "      \n",
       "        function load_libs(js_urls, callback) {\n",
       "          window._bokeh_onload_callbacks.push(callback);\n",
       "          if (window._bokeh_is_loading > 0) {\n",
       "            console.log(\"Bokeh: BokehJS is being loaded, scheduling callback at\", now());\n",
       "            return null;\n",
       "          }\n",
       "          if (js_urls == null || js_urls.length === 0) {\n",
       "            run_callbacks();\n",
       "            return null;\n",
       "          }\n",
       "          console.log(\"Bokeh: BokehJS not loaded, scheduling load and callback at\", now());\n",
       "          window._bokeh_is_loading = js_urls.length;\n",
       "          for (var i = 0; i < js_urls.length; i++) {\n",
       "            var url = js_urls[i];\n",
       "            var s = document.createElement('script');\n",
       "            s.src = url;\n",
       "            s.async = false;\n",
       "            s.onreadystatechange = s.onload = function() {\n",
       "              window._bokeh_is_loading--;\n",
       "              if (window._bokeh_is_loading === 0) {\n",
       "                console.log(\"Bokeh: all BokehJS libraries loaded\");\n",
       "                run_callbacks()\n",
       "              }\n",
       "            };\n",
       "            s.onerror = function() {\n",
       "              console.warn(\"failed to load library \" + url);\n",
       "            };\n",
       "            console.log(\"Bokeh: injecting script tag for BokehJS library: \", url);\n",
       "            document.getElementsByTagName(\"head\")[0].appendChild(s);\n",
       "          }\n",
       "        };var js_urls = ['https://cdn.pydata.org/bokeh/release/bokeh-0.11.0.min.js', 'https://cdn.pydata.org/bokeh/release/bokeh-widgets-0.11.0.min.js', 'https://cdn.pydata.org/bokeh/release/bokeh-compiler-0.11.0.min.js'];\n",
       "      \n",
       "        var inline_js = [\n",
       "          function(Bokeh) {\n",
       "            Bokeh.set_log_level(\"info\");\n",
       "          },\n",
       "          function(Bokeh) {\n",
       "            console.log(\"Bokeh: injecting CSS: https://cdn.pydata.org/bokeh/release/bokeh-0.11.0.min.css\");\n",
       "            Bokeh.embed.inject_css(\"https://cdn.pydata.org/bokeh/release/bokeh-0.11.0.min.css\");\n",
       "            console.log(\"Bokeh: injecting CSS: https://cdn.pydata.org/bokeh/release/bokeh-widgets-0.11.0.min.css\");\n",
       "            Bokeh.embed.inject_css(\"https://cdn.pydata.org/bokeh/release/bokeh-widgets-0.11.0.min.css\");\n",
       "          }\n",
       "        ];\n",
       "      \n",
       "        function run_inline_js() {\n",
       "          for (var i = 0; i < inline_js.length; i++) {\n",
       "            inline_js[i](window.Bokeh);\n",
       "          }\n",
       "        }\n",
       "      \n",
       "        if (window._bokeh_is_loading === 0) {\n",
       "          console.log(\"Bokeh: BokehJS loaded, going straight to plotting\");\n",
       "          run_inline_js();\n",
       "        } else {\n",
       "          load_libs(js_urls, function() {\n",
       "            console.log(\"Bokeh: BokehJS plotting callback run at\", now());\n",
       "            run_inline_js();\n",
       "          });\n",
       "        }\n",
       "      }(this));\n",
       "    </script>\n",
       "    <div>\n",
       "        <a href=\"http://bokeh.pydata.org\" target=\"_blank\" class=\"bk-logo bk-logo-small bk-logo-notebook\"></a>\n",
       "        <span>BokehJS successfully loaded.</span>\n",
       "    </div>"
      ]
     },
     "metadata": {},
     "output_type": "display_data"
    },
    {
     "name": "stdout",
     "output_type": "stream",
     "text": [
      "Populating the interactive namespace from matmodlab and bokeh\n"
     ]
    }
   ],
   "source": [
    "%matmodlab"
   ]
  },
  {
   "cell_type": "code",
   "execution_count": 2,
   "metadata": {
    "collapsed": false
   },
   "outputs": [],
   "source": [
    "# get the experimental stress and strain\n",
    "filename = os.path.join(_dh[0], 'aldat.xls')\n",
    "assert os.path.isfile(filename)\n",
    "data = loadfile(filename, sheetname='MML', columns=['E.XX', 'S.XX'], disp=0)"
   ]
  },
  {
   "cell_type": "code",
   "execution_count": 3,
   "metadata": {
    "collapsed": true
   },
   "outputs": [],
   "source": [
    "def runjob(job, names, x):\n",
    "    \"\"\"Run a specific MaterialPointSimulator job for parameters in x\"\"\"\n",
    "    xp = dict(zip(names, x))\n",
    "    NU = 0.32  # poisson's ratio for aluminum\n",
    "    parameters = {'K': xp['E']/3.0/(1.0-2.0*NU), \n",
    "                  'G': xp['E']/2.0/(1.0+NU),\n",
    "                  'Y0': xp['Y0'], \n",
    "                  'H': xp['H'], \n",
    "                  'BETA': 0.0}\n",
    "    mps = MaterialPointSimulator(job)\n",
    "    mps.Material('vonmises', parameters)\n",
    "    mps.DataSteps(filename, steps=30, frames=1, sheetname='MML',\n",
    "                  columns=('E.XX',), descriptors='ESS')\n",
    "    return mps"
   ]
  },
  {
   "cell_type": "code",
   "execution_count": 4,
   "metadata": {
    "collapsed": true
   },
   "outputs": [],
   "source": [
    "def func(x, names, evald, job, *args):\n",
    "    \"\"\"The objective function\"\"\"\n",
    "    mps = runjob(job, names, x)\n",
    "    if mps.failed:\n",
    "        return 1.0e9\n",
    "    Es, Ss = mps.get('E.XX', 'S.XX')\n",
    "    error = calculate_bounded_area(data[:,0], data[:,1], Es, Ss)\n",
    "    return error"
   ]
  },
  {
   "cell_type": "code",
   "execution_count": 5,
   "metadata": {
    "collapsed": false
   },
   "outputs": [
    {
     "name": "stderr",
     "output_type": "stream",
     "text": [
      "optimization method does not support bounds\n",
      "optimization method does not support bounds\n",
      "optimization method does not support bounds\n"
     ]
    },
    {
     "name": "stdout",
     "output_type": "stream",
     "text": [
      "Running job 114 \n",
      "Done\n"
     ]
    }
   ],
   "source": [
    "# set the variables to be optimized\n",
    "E = OptimizeVariable('E',  2.0e6, bounds=(1.0e5, 1.0e7))\n",
    "Y0= OptimizeVariable('Y0', 0.3e5, bounds=(1.0e4, 1.0e6))\n",
    "H = OptimizeVariable('H',  1.0e6, bounds=(1.0e4, 1.0e7))\n",
    "xinit = [E, Y0, H]\n",
    "\n",
    "# the optimzer object\n",
    "optimizer = Optimizer('optimize', func, xinit, method=SIMPLEX,\n",
    "                      maxiter=200, tolerance=1.e-3)\n",
    "\n",
    "# run the job\n",
    "optimizer.run()"
   ]
  },
  {
   "cell_type": "code",
   "execution_count": 6,
   "metadata": {
    "collapsed": false
   },
   "outputs": [
    {
     "data": {
      "text/html": [
       "\n",
       "\n",
       "    <div class=\"plotdiv\" id=\"f19ce868-ada6-43f6-993a-4e7056cab313\"></div>\n",
       "<script type=\"text/javascript\">\n",
       "  \n",
       "  (function(global) {\n",
       "    function now() {\n",
       "      return new Date();\n",
       "    }\n",
       "  \n",
       "    if (typeof (window._bokeh_onload_callbacks) === \"undefined\") {\n",
       "      window._bokeh_onload_callbacks = [];\n",
       "    }\n",
       "  \n",
       "    function run_callbacks() {\n",
       "      window._bokeh_onload_callbacks.forEach(function(callback) { callback() });\n",
       "      delete window._bokeh_onload_callbacks\n",
       "      console.info(\"Bokeh: all callbacks have finished\");\n",
       "    }\n",
       "  \n",
       "    function load_libs(js_urls, callback) {\n",
       "      window._bokeh_onload_callbacks.push(callback);\n",
       "      if (window._bokeh_is_loading > 0) {\n",
       "        console.log(\"Bokeh: BokehJS is being loaded, scheduling callback at\", now());\n",
       "        return null;\n",
       "      }\n",
       "      if (js_urls == null || js_urls.length === 0) {\n",
       "        run_callbacks();\n",
       "        return null;\n",
       "      }\n",
       "      console.log(\"Bokeh: BokehJS not loaded, scheduling load and callback at\", now());\n",
       "      window._bokeh_is_loading = js_urls.length;\n",
       "      for (var i = 0; i < js_urls.length; i++) {\n",
       "        var url = js_urls[i];\n",
       "        var s = document.createElement('script');\n",
       "        s.src = url;\n",
       "        s.async = false;\n",
       "        s.onreadystatechange = s.onload = function() {\n",
       "          window._bokeh_is_loading--;\n",
       "          if (window._bokeh_is_loading === 0) {\n",
       "            console.log(\"Bokeh: all BokehJS libraries loaded\");\n",
       "            run_callbacks()\n",
       "          }\n",
       "        };\n",
       "        s.onerror = function() {\n",
       "          console.warn(\"failed to load library \" + url);\n",
       "        };\n",
       "        console.log(\"Bokeh: injecting script tag for BokehJS library: \", url);\n",
       "        document.getElementsByTagName(\"head\")[0].appendChild(s);\n",
       "      }\n",
       "    };var element = document.getElementById(\"f19ce868-ada6-43f6-993a-4e7056cab313\");\n",
       "    if (element == null) {\n",
       "      console.log(\"Bokeh: ERROR: autoload.js configured with elementid 'f19ce868-ada6-43f6-993a-4e7056cab313' but no matching script tag was found. \")\n",
       "      return false;\n",
       "    }var js_urls = [];\n",
       "  \n",
       "    var inline_js = [\n",
       "      function(Bokeh) {\n",
       "        Bokeh.$(function() {\n",
       "            var docs_json = {\"dacf5d2c-bc5d-41b9-86f3-96d0e9f2fdc1\": {\"version\": \"0.11.0\", \"roots\": {\"root_ids\": [\"a4ee8438-a42e-460d-a66d-06b6cb244ff4\"], \"references\": [{\"attributes\": {\"line_color\": {\"value\": \"#1f77b4\"}, \"line_alpha\": {\"value\": 0.1}, \"y\": {\"field\": \"y\"}, \"x\": {\"field\": \"x\"}, \"line_width\": {\"value\": 3}}, \"type\": \"Line\", \"id\": \"439a52ad-180c-4a4a-855e-d584088ce5c3\"}, {\"attributes\": {}, \"type\": \"BasicTicker\", \"id\": \"112520f7-9c1a-4c42-a761-1bfca449ea1d\"}, {\"attributes\": {\"plot\": {\"subtype\": \"Figure\", \"type\": \"Plot\", \"id\": \"a4ee8438-a42e-460d-a66d-06b6cb244ff4\"}}, \"type\": \"ResetTool\", \"id\": \"8dd67c6e-ee9b-4793-ac02-b425ea1e2c5e\"}, {\"attributes\": {\"callback\": null, \"column_names\": [\"y\", \"x\"], \"data\": {\"y\": [0.0, 2996.139404296875, 6440.2548828125, 9050.0810546875, 11972.5029296875, 14854.5791015625, 17724.296875, 20597.509765625, 23464.630859375, 26318.986328125, 29195.46875, 32053.458984375, 34506.30078125, 38237.82421875, 39597.48046875, 39695.79296875, 39795.90234375, 39894.11328125, 39992.84765625, 40090.9921875, 40189.8984375, 40287.8125, 40386.046875, 40483.97265625, 40581.91015625, 40679.05078125, 40776.9375, 40874.03125, 40971.4765625, 41068.80078125], \"x\": [0.0, 0.0013446348020806909, 0.0028903165366500616, 0.004061578307300806, 0.005373129155486822, 0.006666573695838451, 0.007954471744596958, 0.009243939071893692, 0.010530672036111355, 0.011811674572527409, 0.013102608732879162, 0.014385243877768517, 0.015486053191125393, 0.017160719260573387, 0.018354402855038643, 0.019620956853032112, 0.02091057226061821, 0.022175807505846024, 0.023447716608643532, 0.024712078273296356, 0.025986263528466225, 0.027247630059719086, 0.0285131074488163, 0.02977466583251953, 0.031036319211125374, 0.03228776156902313, 0.03354876860976219, 0.034799594432115555, 0.03605492785573006, 0.03730868548154831]}}, \"type\": \"ColumnDataSource\", \"id\": \"6f2e5387-3915-4aba-9434-1df0bc279e8a\"}, {\"attributes\": {\"x_range\": {\"type\": \"DataRange1d\", \"id\": \"55277de1-dd9b-4247-b948-1a8ae66218f7\"}, \"y_range\": {\"type\": \"DataRange1d\", \"id\": \"8d7a1601-b414-43d6-b0b9-a3e210354937\"}, \"renderers\": [{\"type\": \"LinearAxis\", \"id\": \"50049cf0-56d5-4e55-93ec-db81b7ec543a\"}, {\"type\": \"Grid\", \"id\": \"8825c27b-d522-44f5-95db-13a1d56f9d12\"}, {\"type\": \"LinearAxis\", \"id\": \"7c53ca0f-4594-484c-9522-ceb66136a78c\"}, {\"type\": \"Grid\", \"id\": \"61e587a0-7990-4496-a088-05e205ae950e\"}, {\"type\": \"BoxAnnotation\", \"id\": \"b0595930-7b4e-459d-9ecd-ef79891ef757\"}, {\"type\": \"Legend\", \"id\": \"f0a4a051-cb6a-4ee8-998e-eedfa7ceed5b\"}, {\"type\": \"GlyphRenderer\", \"id\": \"70a5abc4-35a0-414b-8d7c-aa3b6f03a154\"}, {\"type\": \"GlyphRenderer\", \"id\": \"b6a410c4-7eaa-4a8b-8a9d-91a85399593f\"}], \"below\": [{\"type\": \"LinearAxis\", \"id\": \"50049cf0-56d5-4e55-93ec-db81b7ec543a\"}], \"tool_events\": {\"type\": \"ToolEvents\", \"id\": \"6b002e9e-ba5c-4e31-9dee-adde8295a01e\"}, \"tools\": [{\"type\": \"ResizeTool\", \"id\": \"e621d586-c9d5-49fc-bc67-b298f59b0874\"}, {\"type\": \"PanTool\", \"id\": \"a61b3eb0-3d05-45d8-a052-cbd1cd415985\"}, {\"type\": \"WheelZoomTool\", \"id\": \"8736c37d-bff1-49db-9dd5-52f4c8009858\"}, {\"type\": \"BoxZoomTool\", \"id\": \"6fdc4d54-c095-47c3-97bc-ea9331566258\"}, {\"type\": \"ResetTool\", \"id\": \"8dd67c6e-ee9b-4793-ac02-b425ea1e2c5e\"}, {\"type\": \"PreviewSaveTool\", \"id\": \"6b3bcea7-aa61-4df0-9f21-28f19a556462\"}], \"left\": [{\"type\": \"LinearAxis\", \"id\": \"7c53ca0f-4594-484c-9522-ceb66136a78c\"}]}, \"type\": \"Plot\", \"id\": \"a4ee8438-a42e-460d-a66d-06b6cb244ff4\", \"subtype\": \"Figure\"}, {\"attributes\": {\"line_color\": {\"value\": \"#1f77b4\"}, \"line_alpha\": {\"value\": 0.1}, \"fill_color\": {\"value\": \"#1f77b4\"}, \"fill_alpha\": {\"value\": 0.1}, \"y\": {\"field\": \"y\"}, \"x\": {\"field\": \"x\"}}, \"type\": \"X\", \"id\": \"9278596c-71a3-4d98-8180-4d05a2362e2c\"}, {\"attributes\": {}, \"type\": \"BasicTickFormatter\", \"id\": \"77c47645-c1e3-4ca1-af8b-cc406a5c4eb2\"}, {\"attributes\": {}, \"type\": \"ToolEvents\", \"id\": \"6b002e9e-ba5c-4e31-9dee-adde8295a01e\"}, {\"attributes\": {\"plot\": {\"subtype\": \"Figure\", \"type\": \"Plot\", \"id\": \"a4ee8438-a42e-460d-a66d-06b6cb244ff4\"}, \"overlay\": {\"type\": \"BoxAnnotation\", \"id\": \"b0595930-7b4e-459d-9ecd-ef79891ef757\"}}, \"type\": \"BoxZoomTool\", \"id\": \"6fdc4d54-c095-47c3-97bc-ea9331566258\"}, {\"attributes\": {}, \"type\": \"BasicTickFormatter\", \"id\": \"848f6e3e-31e2-4416-b952-f4347f6de206\"}, {\"attributes\": {\"plot\": {\"subtype\": \"Figure\", \"type\": \"Plot\", \"id\": \"a4ee8438-a42e-460d-a66d-06b6cb244ff4\"}}, \"type\": \"PanTool\", \"id\": \"a61b3eb0-3d05-45d8-a052-cbd1cd415985\"}, {\"attributes\": {\"plot\": {\"subtype\": \"Figure\", \"type\": \"Plot\", \"id\": \"a4ee8438-a42e-460d-a66d-06b6cb244ff4\"}, \"legends\": [[\"Experimental data\", [{\"type\": \"GlyphRenderer\", \"id\": \"70a5abc4-35a0-414b-8d7c-aa3b6f03a154\"}]], [\"Simulation\", [{\"type\": \"GlyphRenderer\", \"id\": \"b6a410c4-7eaa-4a8b-8a9d-91a85399593f\"}]]]}, \"type\": \"Legend\", \"id\": \"f0a4a051-cb6a-4ee8-998e-eedfa7ceed5b\"}, {\"attributes\": {\"callback\": null}, \"type\": \"DataRange1d\", \"id\": \"8d7a1601-b414-43d6-b0b9-a3e210354937\"}, {\"attributes\": {\"callback\": null, \"column_names\": [\"y\", \"x\"], \"data\": {\"y\": [0.0, 123.31458627672936, 421.37979093592674, 653.6357161936628, 733.2374354081993, 806.1545511543954, 937.2557851982575, 1121.0890065162116, 1348.357559510523, 1604.9685429559725, 1880.373162817461, 2177.1130542938777, 2484.6585254494667, 2787.4532858393677, 3080.993612599101, 3363.718068513454, 3632.7761425452622, 3890.782071922403, 4143.922114095354, 4389.258635579231, 4633.443110756878, 4886.861437246136, 5152.381888913362, 5427.100666233815, 5707.474789799263, 5997.794969509898, 6295.6031682412995, 6606.35060069108, 6938.5549660336865, 7282.642945574167, 7630.653972654701, 7990.605003868222, 8363.299031832204, 8743.12525835372, 9130.918254418895, 9521.931679482104, 9916.289027491643, 10316.622580453515, 10720.503060122592, 11124.460230091781, 11530.375258492517, 11937.997774022491, 12346.600346563982, 12759.276527770257, 13176.74923656219, 13595.88657613415, 14014.787077994331, 14436.76534232114, 14860.76011061072, 15292.3787976549, 15731.368776564503, 16169.306519350077, 16607.253284524715, 17048.87328984421, 17492.340629330374, 17937.41057066886, 18382.103827267383, 18825.21929357542, 19273.941046893404, 19726.78377641298, 20179.263354769257, 20631.483539443405, 21088.420178002, 21550.10484880446, 22009.86775073625, 22468.12616929044, 22927.268781977535, 23389.07751062616, 23854.754588591826, 24320.188062048135, 24782.87872923356, 25247.06711299901, 25713.13892048739, 26178.387434970195, 26644.716380539965, 27116.127186753598, 27592.344670742317, 28068.93658387489, 28543.5503382063, 29016.706976706155, 29489.223025577838, 29962.37740848158, 30435.876897761256, 30906.676437114635, 31372.015175488083, 31831.198388923654, 32288.444044306543, 32745.969393750423, 33197.67981344476, 33639.240045437284, 34068.536595095495, 34484.56572163716, 34816.600917183656, 34964.87260346806, 35026.299283813016, 35208.92371646154, 35563.4381943591, 35993.0279716642, 36404.453424187035, 36772.22179161986, 37104.69457303828, 37401.74319939467, 37656.62794605348, 37868.572887559814, 38043.94106380002, 38193.6585879308, 38324.51480772062, 38439.590869041844, 38540.055171271335, 38628.997882665884, 38714.94064969429, 38797.148147654756, 38868.858095936754, 38933.93658825658, 38998.96094624203, 39065.2394163074, 39131.57653189937, 39192.324277468404, 39247.34731717853, 39305.49210350024, 39359.71666177588, 39401.873774680505, 39442.8173762537, 39485.76845939135, 39522.01590745895, 39554.12207894147, 39589.15601567763, 39620.93286996162, 39650.31879114362, 39684.01290310606, 39715.03638790088, 39737.72769639726, 39758.82204202928, 39778.9600144205, 39796.62134101592, 39818.33823149336, 39843.00995438702, 39867.46062875091, 39888.87075800018, 39903.77574473418, 39916.97098874283, 39932.886483052025, 39950.904194013165, 39969.04370722436, 39984.21485443807, 39998.06422165156, 40012.61282401522, 40029.611005012106, 40049.23470122667, 40065.74567321409, 40078.1740141523, 40090.23243713424, 40107.42459949832, 40129.57005345401, 40146.771238207155, 40155.96505266354, 40166.079150804464, 40178.43982382237, 40189.85314598855, 40201.09955395472, 40212.679790320886, 40227.55319869085, 40241.61910324189, 40253.47903366905, 40268.24417337024, 40283.37923102769, 40294.5173703251, 40302.975860075065, 40314.565118825674, 40327.886676281225, 40337.2338713517, 40347.42917099421, 40359.388347696455, 40370.03476679217, 40383.81195489315, 40399.80865070392, 40411.43851020763, 40417.691025829095, 40426.54198950104, 40440.02594995975, 40450.98364147587, 40462.34282930766, 40475.24935686626, 40484.36196982107, 40491.90017588186, 40500.16017307242, 40513.96893953282, 40532.347546056524, 40544.843554910396, 40550.5231488286, 40558.48991837226, 40572.51973336704, 40585.16010044593, 40593.62310138812, 40601.256042536406, 40612.380648252525, 40626.1443027676, 40634.12460589717, 40640.36358793273, 40652.079160134854, 40663.948112946455, 40669.87131136939, 40672.59156166993, 40679.87714084155, 40693.34305651751, 40709.425465026696, 40728.07474322233, 40741.70306190144, 40745.668401897456, 40753.15247362387, 40767.55671776712, 40778.636211537916, 40781.73991337599, 40787.117257258236, 40799.87491539496, 40814.00848786167, 40825.999242927945, 40832.39160558222, 40835.70733356099, 40844.75678979235, 40858.5430002824, 40871.070587500304, 40884.25229792305, 40895.76937756115, 40905.567692084835, 40915.85321561798, 40924.60944420707, 40933.487475046204, 40943.14143134486, 40951.25255911355, 40960.86591465911, 40972.360438326854, 40981.2520027519, 40986.94513025139, 40994.92543337634, 41011.60783075598], \"x\": [0.0, 6.29549071870436e-05, 0.00014479040625211376, 0.0002706780300632476, 0.0004406011432811314, 0.0006293712376995507, 0.0008558478799217287, 0.00108227324208795, 0.0013212223567765859, 0.0015475423827936846, 0.0017738111996462695, 0.0019874627978584635, 0.002182222552761051, 0.002370664198215895, 0.00254023087988052, 0.0027034902747016054, 0.0028604454667544715, 0.0030048218864718247, 0.0031491779076950896, 0.003287238218409684, 0.003425279471106452, 0.00356957525674218, 0.0037138493385144447, 0.003864374787525183, 0.004014877582035158, 0.004165357286265413, 0.00432208321629588, 0.004485051989685071, 0.004647994208580436, 0.004810909881634923, 0.004973799017495928, 0.005142924905523041, 0.005305759973122902, 0.005468568529780375, 0.005631350584126471, 0.005794106144787989, 0.005950577477170122, 0.006107023004889563, 0.006269701613591473, 0.006426097669232975, 0.006582470152030106, 0.006745070557408295, 0.006901392732087064, 0.007057690032644104, 0.007220214074205931, 0.007376461555682728, 0.007532685068806902, 0.007695131054780781, 0.007857551538273905, 0.008013700358669966, 0.008169823477934064, 0.008332166886207469, 0.008488240737967202, 0.008650532465719783, 0.008812796978051913, 0.00896879672084766, 0.009131009602590294, 0.00928695927572951, 0.0094428841920931, 0.009605021075592165, 0.009760896409946722, 0.009922981744310949, 0.010078807088191975, 0.01024084090626153, 0.010396618050900263, 0.010558599505644964, 0.01071432672276545, 0.010876257166574569, 0.011031934927457342, 0.011187588017047256, 0.011349442289204807, 0.011505045530121858, 0.011666848432735806, 0.011822402735127009, 0.011984154300723011, 0.012139659256488425, 0.012301359517633129, 0.012456814719128474, 0.012618463708427619, 0.012780085693953506, 0.012941682000763746, 0.013097038577713317, 0.013258584994132334, 0.013413891034172485, 0.013569174273355316, 0.01373064268856845, 0.013885877191449755, 0.014047294481368041, 0.014202479840560944, 0.014363846037549016, 0.014518981846120547, 0.014686502087238571, 0.014705112790620093, 0.014767149178683457, 0.01487880533017078, 0.01503385952562318, 0.015219894669032513, 0.015430693018288665, 0.015660041193415956, 0.015889335467703578, 0.016124772927262183, 0.016347767660650728, 0.01655213666317404, 0.01675027207103448, 0.016929797042890316, 0.017103103634330905, 0.01727018983036406, 0.017424875450330213, 0.01757335040410188, 0.01772180506288424, 0.017857867759857118, 0.018000096087194176, 0.018142303752057314, 0.018290672668184266, 0.01843283901976972, 0.018587345349277605, 0.01874182737407507, 0.018890107372783214, 0.019050718975894835, 0.01921130478706183, 0.01936569045884554, 0.019532400810077788, 0.019692909294809016, 0.019859564673037764, 0.020013850738571634, 0.020174281971300816, 0.020334687469978276, 0.020495067242857795, 0.020649255297905407, 0.020809584632446237, 0.02096372376880715, 0.02112400269679322, 0.021278093815464052, 0.02143216119372017, 0.021592365064653306, 0.021746383600413515, 0.021900378852934346, 0.02205434995981885, 0.022214454192682195, 0.022368377386966398, 0.022528431354625254, 0.02268230623184567, 0.02283615526318057, 0.022996136121992285, 0.023149937316464204, 0.02330986798804165, 0.023469771349350087, 0.02362350102320846, 0.023777207501888362, 0.023937036157466885, 0.024090694455021166, 0.02425047301825628, 0.0244040827311523, 0.024563811233502167, 0.024717373259433132, 0.024877051732188696, 0.025030565667498617, 0.02519019414198982, 0.02534365958346771, 0.025503238091064858, 0.025662791137424933, 0.025816184507410123, 0.02597568763400976, 0.026129033018934048, 0.026282352728078974, 0.026441784985415773, 0.026601188365939644, 0.02675443787055266, 0.026913791424909544, 0.02706699260183852, 0.02722016728419365, 0.027379450105628957, 0.027532576938545224, 0.02769181001022209, 0.027844889023585034, 0.02800407194440102, 0.028157106624971902, 0.02831623683353757, 0.02846922332119376, 0.02862830430616576, 0.028781243062813846, 0.028934155410392178, 0.0290931654784816, 0.02924603014035377, 0.02940499019732873, 0.029557807203293197, 0.02971671814326143, 0.02986948752295671, 0.030028348945163794, 0.030181070728266833, 0.0303398822324003, 0.030492559897399647, 0.030651318927901332, 0.030803949054504322, 0.030962658660783564, 0.031115240847756957, 0.03127390106064563, 0.03142643619927779, 0.031578944629460835, 0.03173753430781864, 0.03188999573440757, 0.032042436502627815, 0.03219485446656544, 0.032353343493724575, 0.03251180740609256, 0.03266415342154616, 0.032822571534057716, 0.032974867206599076, 0.033133236107962635, 0.03328548447858336, 0.03344380376953663, 0.03359600486767583, 0.033748186241730226, 0.03390642929341548, 0.034058563437578335, 0.03421675738573408, 0.034368843899883615, 0.03452090771660625, 0.034679028547381266, 0.03483104477791103, 0.03498911658103495, 0.03514716683417149, 0.03529910891893604, 0.03545711018916805, 0.03560900519136637, 0.035760880126797845, 0.0359188050290845, 0.036070633353242676, 0.036228509349217196, 0.03638029066233616, 0.0365320485128832, 0.03668985168502952, 0.036841562996462955, 0.036999317337651626, 0.03715704679633341, 0.03730868725091086]}}, \"type\": \"ColumnDataSource\", \"id\": \"db472924-24cd-4290-93cf-a06a6740c57a\"}, {\"attributes\": {\"plot\": {\"subtype\": \"Figure\", \"type\": \"Plot\", \"id\": \"a4ee8438-a42e-460d-a66d-06b6cb244ff4\"}}, \"type\": \"ResizeTool\", \"id\": \"e621d586-c9d5-49fc-bc67-b298f59b0874\"}, {\"attributes\": {\"plot\": {\"subtype\": \"Figure\", \"type\": \"Plot\", \"id\": \"a4ee8438-a42e-460d-a66d-06b6cb244ff4\"}}, \"type\": \"PreviewSaveTool\", \"id\": \"6b3bcea7-aa61-4df0-9f21-28f19a556462\"}, {\"attributes\": {\"y\": {\"field\": \"y\"}, \"line_width\": {\"value\": 3}, \"x\": {\"field\": \"x\"}}, \"type\": \"Line\", \"id\": \"d97fee32-1fd6-482e-a9bd-aeff242a1c81\"}, {\"attributes\": {\"line_color\": {\"value\": \"red\"}, \"x\": {\"field\": \"x\"}, \"fill_color\": {\"value\": \"red\"}, \"y\": {\"field\": \"y\"}}, \"type\": \"X\", \"id\": \"3abf60ab-b042-475d-9483-8b0cdf50ec34\"}, {\"attributes\": {\"nonselection_glyph\": {\"type\": \"Line\", \"id\": \"439a52ad-180c-4a4a-855e-d584088ce5c3\"}, \"data_source\": {\"type\": \"ColumnDataSource\", \"id\": \"6f2e5387-3915-4aba-9434-1df0bc279e8a\"}, \"selection_glyph\": null, \"hover_glyph\": null, \"glyph\": {\"type\": \"Line\", \"id\": \"d97fee32-1fd6-482e-a9bd-aeff242a1c81\"}}, \"type\": \"GlyphRenderer\", \"id\": \"b6a410c4-7eaa-4a8b-8a9d-91a85399593f\"}, {\"attributes\": {}, \"type\": \"BasicTicker\", \"id\": \"d149aa20-eb40-4f1c-8fd0-f49aa4c9faee\"}, {\"attributes\": {\"plot\": {\"subtype\": \"Figure\", \"type\": \"Plot\", \"id\": \"a4ee8438-a42e-460d-a66d-06b6cb244ff4\"}, \"ticker\": {\"type\": \"BasicTicker\", \"id\": \"112520f7-9c1a-4c42-a761-1bfca449ea1d\"}}, \"type\": \"Grid\", \"id\": \"8825c27b-d522-44f5-95db-13a1d56f9d12\"}, {\"attributes\": {\"plot\": {\"subtype\": \"Figure\", \"type\": \"Plot\", \"id\": \"a4ee8438-a42e-460d-a66d-06b6cb244ff4\"}, \"axis_label\": \"E.XX\", \"formatter\": {\"type\": \"BasicTickFormatter\", \"id\": \"848f6e3e-31e2-4416-b952-f4347f6de206\"}, \"ticker\": {\"type\": \"BasicTicker\", \"id\": \"112520f7-9c1a-4c42-a761-1bfca449ea1d\"}}, \"type\": \"LinearAxis\", \"id\": \"50049cf0-56d5-4e55-93ec-db81b7ec543a\"}, {\"attributes\": {\"callback\": null}, \"type\": \"DataRange1d\", \"id\": \"55277de1-dd9b-4247-b948-1a8ae66218f7\"}, {\"attributes\": {\"plot\": {\"subtype\": \"Figure\", \"type\": \"Plot\", \"id\": \"a4ee8438-a42e-460d-a66d-06b6cb244ff4\"}, \"axis_label\": \"S.XX\", \"formatter\": {\"type\": \"BasicTickFormatter\", \"id\": \"77c47645-c1e3-4ca1-af8b-cc406a5c4eb2\"}, \"ticker\": {\"type\": \"BasicTicker\", \"id\": \"d149aa20-eb40-4f1c-8fd0-f49aa4c9faee\"}}, \"type\": \"LinearAxis\", \"id\": \"7c53ca0f-4594-484c-9522-ceb66136a78c\"}, {\"attributes\": {\"line_color\": {\"value\": \"black\"}, \"line_alpha\": {\"value\": 1.0}, \"render_mode\": \"css\", \"bottom_units\": \"screen\", \"level\": \"overlay\", \"top_units\": \"screen\", \"fill_alpha\": {\"value\": 0.5}, \"plot\": null, \"left_units\": \"screen\", \"line_dash\": [4, 4], \"line_width\": {\"value\": 2}, \"right_units\": \"screen\", \"fill_color\": {\"value\": \"lightgrey\"}}, \"type\": \"BoxAnnotation\", \"id\": \"b0595930-7b4e-459d-9ecd-ef79891ef757\"}, {\"attributes\": {\"nonselection_glyph\": {\"type\": \"X\", \"id\": \"9278596c-71a3-4d98-8180-4d05a2362e2c\"}, \"data_source\": {\"type\": \"ColumnDataSource\", \"id\": \"db472924-24cd-4290-93cf-a06a6740c57a\"}, \"selection_glyph\": null, \"hover_glyph\": null, \"glyph\": {\"type\": \"X\", \"id\": \"3abf60ab-b042-475d-9483-8b0cdf50ec34\"}}, \"type\": \"GlyphRenderer\", \"id\": \"70a5abc4-35a0-414b-8d7c-aa3b6f03a154\"}, {\"attributes\": {\"plot\": {\"subtype\": \"Figure\", \"type\": \"Plot\", \"id\": \"a4ee8438-a42e-460d-a66d-06b6cb244ff4\"}, \"ticker\": {\"type\": \"BasicTicker\", \"id\": \"d149aa20-eb40-4f1c-8fd0-f49aa4c9faee\"}, \"dimension\": 1}, \"type\": \"Grid\", \"id\": \"61e587a0-7990-4496-a088-05e205ae950e\"}, {\"attributes\": {\"plot\": {\"subtype\": \"Figure\", \"type\": \"Plot\", \"id\": \"a4ee8438-a42e-460d-a66d-06b6cb244ff4\"}}, \"type\": \"WheelZoomTool\", \"id\": \"8736c37d-bff1-49db-9dd5-52f4c8009858\"}]}, \"title\": \"Bokeh Application\"}};\n",
       "            var render_items = [{\"notebook_comms_target\": \"6e958396-7b15-4a99-8a82-55df2ad5acfe\", \"docid\": \"dacf5d2c-bc5d-41b9-86f3-96d0e9f2fdc1\", \"elementid\": \"f19ce868-ada6-43f6-993a-4e7056cab313\", \"modelid\": \"a4ee8438-a42e-460d-a66d-06b6cb244ff4\"}];\n",
       "            \n",
       "            Bokeh.embed.embed_items(docs_json, render_items);\n",
       "        });\n",
       "      },\n",
       "      function(Bokeh) {\n",
       "      }\n",
       "    ];\n",
       "  \n",
       "    function run_inline_js() {\n",
       "      for (var i = 0; i < inline_js.length; i++) {\n",
       "        inline_js[i](window.Bokeh);\n",
       "      }\n",
       "    }\n",
       "  \n",
       "    if (window._bokeh_is_loading === 0) {\n",
       "      console.log(\"Bokeh: BokehJS loaded, going straight to plotting\");\n",
       "      run_inline_js();\n",
       "    } else {\n",
       "      load_libs(js_urls, function() {\n",
       "        console.log(\"Bokeh: BokehJS plotting callback run at\", now());\n",
       "        run_inline_js();\n",
       "      });\n",
       "    }\n",
       "  }(this));\n",
       "</script>"
      ]
     },
     "metadata": {},
     "output_type": "display_data"
    },
    {
     "data": {
      "text/plain": [
       "<bokeh.io._CommsHandle at 0x108a1e050>"
      ]
     },
     "execution_count": 6,
     "metadata": {},
     "output_type": "execute_result"
    }
   ],
   "source": [
    "mps = runjob('Optimized', optimizer.names, optimizer.xopt)\n",
    "plot = create_figure(x_axis_label='E.XX', y_axis_label='S.XX')\n",
    "plot.scatter(data[:,0], data[:,1], marker='x', color='red', legend='Experimental data')\n",
    "mps.plot('E.XX', 'S.XX', legend='Simulation', color='black', plot=plot, line_width=3)\n",
    "show(plot)"
   ]
  }
 ],
 "metadata": {
  "kernelspec": {
   "display_name": "Python 2",
   "language": "python",
   "name": "python2"
  },
  "language_info": {
   "codemirror_mode": {
    "name": "ipython",
    "version": 2
   },
   "file_extension": ".py",
   "mimetype": "text/x-python",
   "name": "python",
   "nbconvert_exporter": "python",
   "pygments_lexer": "ipython2",
   "version": "2.7.11"
  }
 },
 "nbformat": 4,
 "nbformat_minor": 0
}
