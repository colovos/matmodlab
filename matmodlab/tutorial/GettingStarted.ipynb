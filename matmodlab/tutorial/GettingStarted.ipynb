{
 "cells": [
  {
   "cell_type": "markdown",
   "metadata": {},
   "source": [
    "# Getting Started"
   ]
  },
  {
   "cell_type": "markdown",
   "metadata": {},
   "source": [
    "<a name='contents'></a>\n",
    "## Contents\n",
    "\n",
    "1. <a href='#magic'>The <tt>%matmodlab</tt> Magic</a>\n",
    "1. <a href='#model.def'>Defining a Model</a>\n",
    "   1. <a href='#model.def.mat'>Material Model Definition</a>\n",
    "   2. <a href='#model.def.step'>Step Definitions</a>\n",
    "2. <a href='#model.run'>Running a Model</a>\n",
    "3. <a href='#model.out'>Model Outputs</a>\n",
    "4. <a href='#model.view'>Viewing Model Results</a>"
   ]
  },
  {
   "cell_type": "markdown",
   "metadata": {},
   "source": [
    "<a name='magic'></a>\n",
    "## The %matmodlab Magic\n",
    "\n",
    "A notebook should include the IPython magic\n",
    "\n",
    "    %matmodlab\n",
    "\n",
    "near its beginning to populate its namespace with Matmodlab specific parameters, classes, and symbolic constants."
   ]
  },
  {
   "cell_type": "code",
   "execution_count": 1,
   "metadata": {
    "collapsed": false
   },
   "outputs": [
    {
     "data": {
      "text/html": [
       "\n",
       "\n",
       "    <script type=\"text/javascript\">\n",
       "      \n",
       "      (function(global) {\n",
       "        function now() {\n",
       "          return new Date();\n",
       "        }\n",
       "      \n",
       "        if (typeof (window._bokeh_onload_callbacks) === \"undefined\") {\n",
       "          window._bokeh_onload_callbacks = [];\n",
       "        }\n",
       "      \n",
       "        function run_callbacks() {\n",
       "          window._bokeh_onload_callbacks.forEach(function(callback) { callback() });\n",
       "          delete window._bokeh_onload_callbacks\n",
       "          console.info(\"Bokeh: all callbacks have finished\");\n",
       "        }\n",
       "      \n",
       "        function load_libs(js_urls, callback) {\n",
       "          window._bokeh_onload_callbacks.push(callback);\n",
       "          if (window._bokeh_is_loading > 0) {\n",
       "            console.log(\"Bokeh: BokehJS is being loaded, scheduling callback at\", now());\n",
       "            return null;\n",
       "          }\n",
       "          if (js_urls == null || js_urls.length === 0) {\n",
       "            run_callbacks();\n",
       "            return null;\n",
       "          }\n",
       "          console.log(\"Bokeh: BokehJS not loaded, scheduling load and callback at\", now());\n",
       "          window._bokeh_is_loading = js_urls.length;\n",
       "          for (var i = 0; i < js_urls.length; i++) {\n",
       "            var url = js_urls[i];\n",
       "            var s = document.createElement('script');\n",
       "            s.src = url;\n",
       "            s.async = false;\n",
       "            s.onreadystatechange = s.onload = function() {\n",
       "              window._bokeh_is_loading--;\n",
       "              if (window._bokeh_is_loading === 0) {\n",
       "                console.log(\"Bokeh: all BokehJS libraries loaded\");\n",
       "                run_callbacks()\n",
       "              }\n",
       "            };\n",
       "            s.onerror = function() {\n",
       "              console.warn(\"failed to load library \" + url);\n",
       "            };\n",
       "            console.log(\"Bokeh: injecting script tag for BokehJS library: \", url);\n",
       "            document.getElementsByTagName(\"head\")[0].appendChild(s);\n",
       "          }\n",
       "        };var js_urls = ['https://cdn.pydata.org/bokeh/release/bokeh-0.11.0.min.js', 'https://cdn.pydata.org/bokeh/release/bokeh-widgets-0.11.0.min.js', 'https://cdn.pydata.org/bokeh/release/bokeh-compiler-0.11.0.min.js'];\n",
       "      \n",
       "        var inline_js = [\n",
       "          function(Bokeh) {\n",
       "            Bokeh.set_log_level(\"info\");\n",
       "          },\n",
       "          function(Bokeh) {\n",
       "            console.log(\"Bokeh: injecting CSS: https://cdn.pydata.org/bokeh/release/bokeh-0.11.0.min.css\");\n",
       "            Bokeh.embed.inject_css(\"https://cdn.pydata.org/bokeh/release/bokeh-0.11.0.min.css\");\n",
       "            console.log(\"Bokeh: injecting CSS: https://cdn.pydata.org/bokeh/release/bokeh-widgets-0.11.0.min.css\");\n",
       "            Bokeh.embed.inject_css(\"https://cdn.pydata.org/bokeh/release/bokeh-widgets-0.11.0.min.css\");\n",
       "          }\n",
       "        ];\n",
       "      \n",
       "        function run_inline_js() {\n",
       "          for (var i = 0; i < inline_js.length; i++) {\n",
       "            inline_js[i](window.Bokeh);\n",
       "          }\n",
       "        }\n",
       "      \n",
       "        if (window._bokeh_is_loading === 0) {\n",
       "          console.log(\"Bokeh: BokehJS loaded, going straight to plotting\");\n",
       "          run_inline_js();\n",
       "        } else {\n",
       "          load_libs(js_urls, function() {\n",
       "            console.log(\"Bokeh: BokehJS plotting callback run at\", now());\n",
       "            run_inline_js();\n",
       "          });\n",
       "        }\n",
       "      }(this));\n",
       "    </script>\n",
       "    <div>\n",
       "        <a href=\"http://bokeh.pydata.org\" target=\"_blank\" class=\"bk-logo bk-logo-small bk-logo-notebook\"></a>\n",
       "        <span>BokehJS successfully loaded.</span>\n",
       "    </div>"
      ]
     },
     "metadata": {},
     "output_type": "display_data"
    },
    {
     "name": "stdout",
     "output_type": "stream",
     "text": [
      "Populating the interactive namespace from matmodlab and bokeh\n"
     ]
    }
   ],
   "source": [
    "%matmodlab"
   ]
  },
  {
   "cell_type": "markdown",
   "metadata": {},
   "source": [
    "If the `%matmodlab` magic function cannot be found by IPython, check to be sure that the notebook server was launched by `mml notebook`."
   ]
  },
  {
   "cell_type": "markdown",
   "metadata": {},
   "source": [
    "<a name='model.def'></a>\n",
    "## Defining a Model\n",
    "\n",
    "The purpose of a Matmodlab model is to predict the response of a material to deformation.  A Matmodlab model requires two parts to be fully defined: \n",
    "\n",
    "- *Material* model: the material type and associated parameters.\n",
    "- Deformation *step[s]*: defines deformation paths through which the material model is exercised.\n",
    "\n",
    "The `MaterialPointSimulator` object manages and allocates memory for materials and analysis steps. Minimally, instantiating a `MaterialPointSimulator` object requires a simulation ID:"
   ]
  },
  {
   "cell_type": "code",
   "execution_count": 2,
   "metadata": {
    "collapsed": true
   },
   "outputs": [],
   "source": [
    "mps = MaterialPointSimulator('jobid')"
   ]
  },
  {
   "cell_type": "markdown",
   "metadata": {},
   "source": [
    "Other optional arguments to `MaterialPointSimulator` are\n",
    "\n",
    "- `output_format` defines the output format of the simulation results.  Valid choices are `REC` [default] and `TXT`.\n",
    "- `d` specifies the directory to which simulation results are written.  The default is the current directory.\n",
    "\n",
    "**Note:** by default results *are not* written when exercised from the Notebook.  If written results are required, the `MaterialPointSimulator.dump` method must be called explicitly."
   ]
  },
  {
   "cell_type": "markdown",
   "metadata": {},
   "source": [
    "<a name='model.def.mat'></a>\n",
    "### Material model definition\n",
    "\n",
    "The material model is defined in Matmodlab by the `MaterialPointSimulator.Material` factory method.  The `Material` fully defines the mechanical response of the material and requires a material type and parameters:"
   ]
  },
  {
   "cell_type": "code",
   "execution_count": 3,
   "metadata": {
    "collapsed": false
   },
   "outputs": [
    {
     "data": {
      "text/plain": [
       "<materials_mat_pyelastic.PyElastic at 0x117be7c10>"
      ]
     },
     "execution_count": 3,
     "metadata": {},
     "output_type": "execute_result"
    }
   ],
   "source": [
    "parameters = {'K': 1.3e11, 'G': 5.3e10}\n",
    "mps.Material('pyelastic', parameters)"
   ]
  },
  {
   "cell_type": "markdown",
   "metadata": {},
   "source": [
    "The `pyelastic` type is a linear elastic model implemented in Python.  The source code is contained in `matmodlab/materials/mat_pyelastic.py`.  The parameters `K` and `G` represent the bulk and shear modulus of the material, respectively."
   ]
  },
  {
   "cell_type": "markdown",
   "metadata": {},
   "source": [
    "<a name='model.def.step'></a>\n",
    "### Step Definitions\n",
    "\n",
    "Deformation steps define the components deformation and/or stress to be seen by the material model.  Deformation steps are defined by the `MaterialPointSimulator.AnalysisStep` factory method and several convenience functions:\n",
    "\n",
    "- `MaterialPointSimulator.StrainStep`: defines the components of strain\n",
    "- `MaterialPointSimulator.StrainRateStep`: defines the components of strain rate\n",
    "- `MaterialPointSimulator.StressStep`: defines the components of stress\n",
    "- `MaterialPointSimulator.StressRateStep`: defines the components of stress rate\n",
    "- `MaterialPointSimulator.MixedStep`: defines the mixed components of stress and strain (and their rates)\n",
    "\n",
    "Minimally, each of the preceding `Step` methods requires the six independent components of the associated second order tensor, arranged as the `XX`, `YY`, `ZZ`, `XY`, `YZ`, `XZ` components.  For example, a step of uniaxial strain is defined by:"
   ]
  },
  {
   "cell_type": "code",
   "execution_count": 4,
   "metadata": {
    "collapsed": true
   },
   "outputs": [],
   "source": [
    "ea = .1\n",
    "mps.StrainStep(components=(ea, 0, 0, 0, 0, 0))"
   ]
  },
  {
   "cell_type": "markdown",
   "metadata": {},
   "source": [
    "There is not limit to the number of steps in a model and steps are run in the order defined.  To reverse the step of uniaxial strain defined in the previous cell to a state of zero strain, simply define another step in which all components of strain are zero: "
   ]
  },
  {
   "cell_type": "code",
   "execution_count": 5,
   "metadata": {
    "collapsed": true
   },
   "outputs": [],
   "source": [
    "mps.StrainStep(components=(0, 0, 0))"
   ]
  },
  {
   "cell_type": "markdown",
   "metadata": {},
   "source": [
    "If `3 =< len(components) < 6`, the missing components are assumed to be zero (if `len(components)=1`, it is assumed to be volumetric strain).  \n",
    "\n",
    "From elementary linear elasticity, the axial and lateral stresses associated with the step of uniaxial strain are"
   ]
  },
  {
   "cell_type": "code",
   "execution_count": 6,
   "metadata": {
    "collapsed": true
   },
   "outputs": [],
   "source": [
    "sa = (parameters['K'] + 4 * parameters['G'] / 3) * ea\n",
    "sl = (parameters['K'] - 2 * parameters['G'] / 3) * ea"
   ]
  },
  {
   "cell_type": "markdown",
   "metadata": {},
   "source": [
    "Using a `StressStep`, an equivalent deformation path can be defined as"
   ]
  },
  {
   "cell_type": "code",
   "execution_count": 7,
   "metadata": {
    "collapsed": true
   },
   "outputs": [],
   "source": [
    "mps.StressStep(components=(sa, sl, sl), frames=50)\n",
    "mps.StressStep(components=(0, 0, 0), frames=50)"
   ]
  },
  {
   "cell_type": "markdown",
   "metadata": {},
   "source": [
    "The optional `frames` keyword was passed to the `StressStep` which instructs the `MaterialPointSimulator` object to perform the step in `frames` increments (50 in this case).  For `Stress` and `Mixed` steps, it is a good idea to increase the number of `frames` since the solution procedure involves a nonlinear Newton solve."
   ]
  },
  {
   "cell_type": "markdown",
   "metadata": {},
   "source": [
    "The `MixedStep` allows defining mixed-mode deformations of stress and strain.  The previous deformation path could have been defined by"
   ]
  },
  {
   "cell_type": "code",
   "execution_count": 8,
   "metadata": {
    "collapsed": true
   },
   "outputs": [],
   "source": [
    "mps.MixedStep(components=(ea, sl, sl), frames=50, descriptors=\"ESS\")\n",
    "mps.MixedStep(components=(0, 0, 0), frames=50, descriptors=\"ESS\")"
   ]
  },
  {
   "cell_type": "markdown",
   "metadata": {},
   "source": [
    "The keyword `descriptors` instructs the `MaterialPointSimulator` the intent of each `component`.  The i$^{\\rm th}$ descriptor corresponds to the i$^{\\rm th}$ component with `E` representing strain and `S` representing stress."
   ]
  },
  {
   "cell_type": "markdown",
   "metadata": {},
   "source": [
    "The deformation path can be defined equivalently through the specification of stress and strain rate steps:"
   ]
  },
  {
   "cell_type": "code",
   "execution_count": 9,
   "metadata": {
    "collapsed": false
   },
   "outputs": [],
   "source": [
    "mps.StrainRateStep(components=(ea, 0, 0), frames=50)\n",
    "mps.StrainRateStep(components=(ea, 0, 0), frames=50, scale=-1)\n",
    "mps.StressRateStep(components=(sa, sl, sl), frames=50)\n",
    "mps.StressRateStep(components=(sa, sl, sl), frames=50, scale=-1)"
   ]
  },
  {
   "cell_type": "markdown",
   "metadata": {},
   "source": [
    "The keyword `scale` is a scale factor applied to each of the components of `components`."
   ]
  },
  {
   "cell_type": "markdown",
   "metadata": {},
   "source": [
    "Two other factory methods allow defining components of the deformation gradient and displacement:\n",
    "\n",
    "- `MaterialPointSimulator.DefGradStep`: defines the components of the deformation gradient\n",
    "- `MaterialPointSimulator.DisplacementStep`: defines the components of displacement\n",
    "\n",
    "The `DefGradStep` method requires the nine components of the deformation gradient, arranged in row-major fashion.  The `DisplacementStep` method requires the three components of the displacement."
   ]
  },
  {
   "cell_type": "code",
   "execution_count": 10,
   "metadata": {
    "collapsed": true
   },
   "outputs": [],
   "source": [
    "fa = exp(ea)\n",
    "mps.DefGradStep(increment=1., components=((fa,0,0),(0,1,0),(0,0,1)))\n",
    "mps.DefGradStep(increment=1., components=((1,0,0),(0,1,0),(0,0,1)))"
   ]
  },
  {
   "cell_type": "markdown",
   "metadata": {},
   "source": [
    "<a name='model.run'></a>\n",
    "## Running the Model\n",
    "\n",
    "Deformation steps are run when they are created."
   ]
  },
  {
   "cell_type": "markdown",
   "metadata": {},
   "source": [
    "<a name='model.out'></a>\n",
    "## Model Outputs\n",
    "\n",
    "Model outputs computed by the `MaterialPointSimulator` are stored in the `records` object:"
   ]
  },
  {
   "cell_type": "code",
   "execution_count": 12,
   "metadata": {
    "collapsed": false
   },
   "outputs": [
    {
     "data": {
      "text/plain": [
       "['Step', 'Frame', 'Time', 'DTime', 'S', 'E', 'F', 'D', 'DS', 'EF', 'T']"
      ]
     },
     "execution_count": 12,
     "metadata": {},
     "output_type": "execute_result"
    }
   ],
   "source": [
    "mps.records.keys()"
   ]
  },
  {
   "cell_type": "markdown",
   "metadata": {},
   "source": [
    "Model outputs are stored as attributes to the `MaterialPointSimulator`.  For example, the components of stress throughout the history of the simulation is:"
   ]
  },
  {
   "cell_type": "code",
   "execution_count": 13,
   "metadata": {
    "collapsed": false
   },
   "outputs": [],
   "source": [
    "s = mps.S"
   ]
  },
  {
   "cell_type": "markdown",
   "metadata": {},
   "source": [
    "Individual components are also accessed by attribute:"
   ]
  },
  {
   "cell_type": "code",
   "execution_count": 14,
   "metadata": {
    "collapsed": false
   },
   "outputs": [],
   "source": [
    "sxx = mps.S.XX\n",
    "assert (amax(sxx) - sa) / amax(sxx) < 1e-8"
   ]
  },
  {
   "cell_type": "markdown",
   "metadata": {},
   "source": [
    "Equivalently, the `MaterialPointSimulator.get` method can retrieve components field outputs from the output database:"
   ]
  },
  {
   "cell_type": "code",
   "execution_count": 15,
   "metadata": {
    "collapsed": false
   },
   "outputs": [],
   "source": [
    "sxx_ = mps.get('S.XX')\n",
    "assert allclose(sxx_, sxx)"
   ]
  },
  {
   "cell_type": "markdown",
   "metadata": {},
   "source": [
    "<a name='model.view'></a>\n",
    "## Viewing Model Outputs\n",
    "\n",
    "Matmodlab leverages the `bokeh` and `matplotlib` plotting libraries for displaying model outputs.  By default, the `bokeh` library is loaded by the `%matmodlab` magic and `matplotlib` is loaded if `bokeh` cannot be found.  Optionally, `matplotlib` can be explicitly requested as the default plotting library by specifying \n",
    "\n",
    "```python\n",
    "    %matmodlab matplotlib\n",
    "```\n",
    "\n",
    "The simplest method of viewing model outputs is using the `MaterialPointSimulator.plot` method:"
   ]
  },
  {
   "cell_type": "code",
   "execution_count": 16,
   "metadata": {
    "collapsed": false
   },
   "outputs": [
    {
     "data": {
      "text/html": [
       "\n",
       "\n",
       "    <div class=\"plotdiv\" id=\"ffdb0c8c-a245-4d83-9a14-764ab588755c\"></div>\n",
       "<script type=\"text/javascript\">\n",
       "  \n",
       "  (function(global) {\n",
       "    function now() {\n",
       "      return new Date();\n",
       "    }\n",
       "  \n",
       "    if (typeof (window._bokeh_onload_callbacks) === \"undefined\") {\n",
       "      window._bokeh_onload_callbacks = [];\n",
       "    }\n",
       "  \n",
       "    function run_callbacks() {\n",
       "      window._bokeh_onload_callbacks.forEach(function(callback) { callback() });\n",
       "      delete window._bokeh_onload_callbacks\n",
       "      console.info(\"Bokeh: all callbacks have finished\");\n",
       "    }\n",
       "  \n",
       "    function load_libs(js_urls, callback) {\n",
       "      window._bokeh_onload_callbacks.push(callback);\n",
       "      if (window._bokeh_is_loading > 0) {\n",
       "        console.log(\"Bokeh: BokehJS is being loaded, scheduling callback at\", now());\n",
       "        return null;\n",
       "      }\n",
       "      if (js_urls == null || js_urls.length === 0) {\n",
       "        run_callbacks();\n",
       "        return null;\n",
       "      }\n",
       "      console.log(\"Bokeh: BokehJS not loaded, scheduling load and callback at\", now());\n",
       "      window._bokeh_is_loading = js_urls.length;\n",
       "      for (var i = 0; i < js_urls.length; i++) {\n",
       "        var url = js_urls[i];\n",
       "        var s = document.createElement('script');\n",
       "        s.src = url;\n",
       "        s.async = false;\n",
       "        s.onreadystatechange = s.onload = function() {\n",
       "          window._bokeh_is_loading--;\n",
       "          if (window._bokeh_is_loading === 0) {\n",
       "            console.log(\"Bokeh: all BokehJS libraries loaded\");\n",
       "            run_callbacks()\n",
       "          }\n",
       "        };\n",
       "        s.onerror = function() {\n",
       "          console.warn(\"failed to load library \" + url);\n",
       "        };\n",
       "        console.log(\"Bokeh: injecting script tag for BokehJS library: \", url);\n",
       "        document.getElementsByTagName(\"head\")[0].appendChild(s);\n",
       "      }\n",
       "    };var element = document.getElementById(\"ffdb0c8c-a245-4d83-9a14-764ab588755c\");\n",
       "    if (element == null) {\n",
       "      console.log(\"Bokeh: ERROR: autoload.js configured with elementid 'ffdb0c8c-a245-4d83-9a14-764ab588755c' but no matching script tag was found. \")\n",
       "      return false;\n",
       "    }var js_urls = [];\n",
       "  \n",
       "    var inline_js = [\n",
       "      function(Bokeh) {\n",
       "        Bokeh.$(function() {\n",
       "            var docs_json = {\"8ae0d29b-99bd-4811-a13e-3132a12157b4\": {\"version\": \"0.11.0\", \"roots\": {\"root_ids\": [\"d92e0424-df67-46ac-9b26-40a5800bd8cf\", \"4adaf421-e6c1-476c-b764-c02ceb0e1e36\"], \"references\": [{\"attributes\": {\"plot\": {\"subtype\": \"Figure\", \"type\": \"Plot\", \"id\": \"d92e0424-df67-46ac-9b26-40a5800bd8cf\"}, \"axis_label\": \"Time\", \"formatter\": {\"type\": \"BasicTickFormatter\", \"id\": \"d88b5487-a599-453e-9580-6280e529e1c7\"}, \"ticker\": {\"type\": \"BasicTicker\", \"id\": \"72baef79-5297-4a8e-9616-2d478704f20a\"}}, \"type\": \"LinearAxis\", \"id\": \"1054ef42-b95f-481c-b760-fca8eb735c92\"}, {\"attributes\": {\"x_range\": {\"type\": \"DataRange1d\", \"id\": \"f7826f1c-7cd5-4c10-a425-a6681f46a458\"}, \"y_range\": {\"type\": \"DataRange1d\", \"id\": \"83e809a9-f956-414d-b5e4-929a35f277e5\"}, \"renderers\": [{\"type\": \"LinearAxis\", \"id\": \"1054ef42-b95f-481c-b760-fca8eb735c92\"}, {\"type\": \"Grid\", \"id\": \"09d9b1a8-32a4-4799-958b-0db0a0561d09\"}, {\"type\": \"LinearAxis\", \"id\": \"c2126ede-c62b-4fde-a079-e4247dcdeb98\"}, {\"type\": \"Grid\", \"id\": \"90644cb0-c81c-4827-b31f-e80ba419af5a\"}, {\"type\": \"BoxAnnotation\", \"id\": \"4280df9e-f246-4fd2-bd12-cb63bee8d778\"}, {\"type\": \"GlyphRenderer\", \"id\": \"bc4ed081-6020-4508-a44e-57520706bc7f\"}], \"plot_width\": 650, \"below\": [{\"type\": \"LinearAxis\", \"id\": \"1054ef42-b95f-481c-b760-fca8eb735c92\"}], \"tool_events\": {\"type\": \"ToolEvents\", \"id\": \"6a18259d-50ae-4e3f-b5ef-34db87d8581b\"}, \"plot_height\": 500, \"tools\": [{\"type\": \"ResizeTool\", \"id\": \"0215ac9c-c5d6-422f-9c01-6a5a92a9077b\"}, {\"type\": \"PanTool\", \"id\": \"7bdc3a09-d7bc-4466-a656-278bfc51278f\"}, {\"type\": \"WheelZoomTool\", \"id\": \"371e8462-fa19-41ba-9256-beaadea225df\"}, {\"type\": \"BoxZoomTool\", \"id\": \"4b6f258d-8d18-4d66-add1-b62be731f00b\"}, {\"type\": \"ResetTool\", \"id\": \"a0449370-7af2-4653-9733-5949642330f6\"}, {\"type\": \"PreviewSaveTool\", \"id\": \"9c6eaff6-90a7-45a9-be4a-acfc9aa47baa\"}], \"left\": [{\"type\": \"LinearAxis\", \"id\": \"c2126ede-c62b-4fde-a079-e4247dcdeb98\"}]}, \"type\": \"Plot\", \"id\": \"d92e0424-df67-46ac-9b26-40a5800bd8cf\", \"subtype\": \"Figure\"}, {\"attributes\": {\"plot\": {\"subtype\": \"Figure\", \"type\": \"Plot\", \"id\": \"d92e0424-df67-46ac-9b26-40a5800bd8cf\"}}, \"type\": \"WheelZoomTool\", \"id\": \"371e8462-fa19-41ba-9256-beaadea225df\"}, {\"attributes\": {\"plot\": {\"subtype\": \"Figure\", \"type\": \"Plot\", \"id\": \"4adaf421-e6c1-476c-b764-c02ceb0e1e36\"}, \"overlay\": {\"type\": \"BoxAnnotation\", \"id\": \"feaf1991-ec66-4434-9fe2-aa3d66a86aed\"}}, \"type\": \"BoxZoomTool\", \"id\": \"e94534dc-6504-439c-a592-49c4a5c1b715\"}, {\"attributes\": {\"plot\": {\"subtype\": \"Figure\", \"type\": \"Plot\", \"id\": \"4adaf421-e6c1-476c-b764-c02ceb0e1e36\"}}, \"type\": \"PanTool\", \"id\": \"f1e83777-24ef-4927-b884-93baf6c3d0e5\"}, {\"attributes\": {\"callback\": null}, \"type\": \"DataRange1d\", \"id\": \"2ffb7639-8d53-4af8-930c-cd8529d6a034\"}, {\"attributes\": {\"line_color\": {\"value\": \"black\"}, \"line_alpha\": {\"value\": 1.0}, \"render_mode\": \"css\", \"bottom_units\": \"screen\", \"level\": \"overlay\", \"top_units\": \"screen\", \"fill_alpha\": {\"value\": 0.5}, \"plot\": null, \"left_units\": \"screen\", \"line_dash\": [4, 4], \"line_width\": {\"value\": 2}, \"right_units\": \"screen\", \"fill_color\": {\"value\": \"lightgrey\"}}, \"type\": \"BoxAnnotation\", \"id\": \"feaf1991-ec66-4434-9fe2-aa3d66a86aed\"}, {\"attributes\": {}, \"type\": \"BasicTickFormatter\", \"id\": \"d88b5487-a599-453e-9580-6280e529e1c7\"}, {\"attributes\": {\"callback\": null}, \"type\": \"DataRange1d\", \"id\": \"ab4f8e03-a48c-4f1b-8eb9-8ce6b4fd95ec\"}, {\"attributes\": {\"plot\": {\"subtype\": \"Figure\", \"type\": \"Plot\", \"id\": \"d92e0424-df67-46ac-9b26-40a5800bd8cf\"}, \"ticker\": {\"type\": \"BasicTicker\", \"id\": \"f49cbd64-c61b-49eb-b046-25c8b3774595\"}, \"dimension\": 1}, \"type\": \"Grid\", \"id\": \"90644cb0-c81c-4827-b31f-e80ba419af5a\"}, {\"attributes\": {\"plot\": {\"subtype\": \"Figure\", \"type\": \"Plot\", \"id\": \"4adaf421-e6c1-476c-b764-c02ceb0e1e36\"}}, \"type\": \"ResizeTool\", \"id\": \"592e6610-9484-4834-84ed-93a9a109114e\"}, {\"attributes\": {\"line_color\": {\"value\": \"#1f77b4\"}, \"x\": {\"field\": \"x\"}, \"y\": {\"field\": \"y\"}}, \"type\": \"Line\", \"id\": \"8dbf13ef-b623-4b1a-b391-bcb7588b0d8b\"}, {\"attributes\": {}, \"type\": \"BasicTicker\", \"id\": \"f49cbd64-c61b-49eb-b046-25c8b3774595\"}, {\"attributes\": {\"nonselection_glyph\": {\"type\": \"Line\", \"id\": \"4d0e2cec-1966-4e41-ae2f-3f25abbb0aa9\"}, \"data_source\": {\"type\": \"ColumnDataSource\", \"id\": \"0879b1e4-8d41-4f13-a9ee-b3d273e03e58\"}, \"selection_glyph\": null, \"hover_glyph\": null, \"glyph\": {\"type\": \"Line\", \"id\": \"db86850e-cd9c-4817-8725-f25f3c72e28d\"}}, \"type\": \"GlyphRenderer\", \"id\": \"7c74240a-8ef2-4f7a-98a6-a6fa86c8ade7\"}, {\"attributes\": {\"line_color\": {\"value\": \"black\"}, \"line_alpha\": {\"value\": 1.0}, \"render_mode\": \"css\", \"bottom_units\": \"screen\", \"level\": \"overlay\", \"top_units\": \"screen\", \"fill_alpha\": {\"value\": 0.5}, \"plot\": null, \"left_units\": \"screen\", \"line_dash\": [4, 4], \"line_width\": {\"value\": 2}, \"right_units\": \"screen\", \"fill_color\": {\"value\": \"lightgrey\"}}, \"type\": \"BoxAnnotation\", \"id\": \"4280df9e-f246-4fd2-bd12-cb63bee8d778\"}, {\"attributes\": {\"plot\": {\"subtype\": \"Figure\", \"type\": \"Plot\", \"id\": \"4adaf421-e6c1-476c-b764-c02ceb0e1e36\"}, \"ticker\": {\"type\": \"BasicTicker\", \"id\": \"3bd2a95e-0529-4cbb-a2ea-6f9520fd08fe\"}}, \"type\": \"Grid\", \"id\": \"8a177fe0-9772-45d0-bacf-16e4a8a21e13\"}, {\"attributes\": {\"line_color\": {\"value\": \"#1f77b4\"}, \"line_alpha\": {\"value\": 0.1}, \"y\": {\"field\": \"y\"}, \"x\": {\"field\": \"x\"}}, \"type\": \"Line\", \"id\": \"4d0e2cec-1966-4e41-ae2f-3f25abbb0aa9\"}, {\"attributes\": {}, \"type\": \"ToolEvents\", \"id\": \"6a18259d-50ae-4e3f-b5ef-34db87d8581b\"}, {\"attributes\": {}, \"type\": \"BasicTickFormatter\", \"id\": \"b518cbe7-289c-4f85-a800-eaf1853d1248\"}, {\"attributes\": {}, \"type\": \"BasicTicker\", \"id\": \"f02b533b-0622-46a6-b539-a44472e2580e\"}, {\"attributes\": {\"plot\": {\"subtype\": \"Figure\", \"type\": \"Plot\", \"id\": \"d92e0424-df67-46ac-9b26-40a5800bd8cf\"}}, \"type\": \"PreviewSaveTool\", \"id\": \"9c6eaff6-90a7-45a9-be4a-acfc9aa47baa\"}, {\"attributes\": {\"plot\": {\"subtype\": \"Figure\", \"type\": \"Plot\", \"id\": \"d92e0424-df67-46ac-9b26-40a5800bd8cf\"}}, \"type\": \"ResetTool\", \"id\": \"a0449370-7af2-4653-9733-5949642330f6\"}, {\"attributes\": {}, \"type\": \"ToolEvents\", \"id\": \"02d067f8-3014-4c8d-a2f1-ebb74764ec90\"}, {\"attributes\": {}, \"type\": \"BasicTicker\", \"id\": \"72baef79-5297-4a8e-9616-2d478704f20a\"}, {\"attributes\": {\"callback\": null}, \"type\": \"DataRange1d\", \"id\": \"83e809a9-f956-414d-b5e4-929a35f277e5\"}, {\"attributes\": {\"plot\": {\"subtype\": \"Figure\", \"type\": \"Plot\", \"id\": \"d92e0424-df67-46ac-9b26-40a5800bd8cf\"}}, \"type\": \"PanTool\", \"id\": \"7bdc3a09-d7bc-4466-a656-278bfc51278f\"}, {\"attributes\": {\"plot\": {\"subtype\": \"Figure\", \"type\": \"Plot\", \"id\": \"4adaf421-e6c1-476c-b764-c02ceb0e1e36\"}, \"axis_label\": \"Time\", \"formatter\": {\"type\": \"BasicTickFormatter\", \"id\": \"b9f7a174-ae0f-4513-943d-453dd1a23be4\"}, \"ticker\": {\"type\": \"BasicTicker\", \"id\": \"3bd2a95e-0529-4cbb-a2ea-6f9520fd08fe\"}}, \"type\": \"LinearAxis\", \"id\": \"2b1f6efc-1474-4b5c-9ff0-5bbaaecc7b96\"}, {\"attributes\": {}, \"type\": \"BasicTickFormatter\", \"id\": \"058ab957-fd5e-4482-a07b-4569f877ab5b\"}, {\"attributes\": {\"callback\": null}, \"type\": \"DataRange1d\", \"id\": \"f7826f1c-7cd5-4c10-a425-a6681f46a458\"}, {\"attributes\": {\"plot\": {\"subtype\": \"Figure\", \"type\": \"Plot\", \"id\": \"4adaf421-e6c1-476c-b764-c02ceb0e1e36\"}, \"axis_label\": \"E.XX\", \"formatter\": {\"type\": \"BasicTickFormatter\", \"id\": \"058ab957-fd5e-4482-a07b-4569f877ab5b\"}, \"ticker\": {\"type\": \"BasicTicker\", \"id\": \"f02b533b-0622-46a6-b539-a44472e2580e\"}}, \"type\": \"LinearAxis\", \"id\": \"33bef7c2-b1c6-4399-b914-944b87f96ed3\"}, {\"attributes\": {\"plot\": {\"subtype\": \"Figure\", \"type\": \"Plot\", \"id\": \"d92e0424-df67-46ac-9b26-40a5800bd8cf\"}, \"axis_label\": \"E.XX\", \"formatter\": {\"type\": \"BasicTickFormatter\", \"id\": \"b518cbe7-289c-4f85-a800-eaf1853d1248\"}, \"ticker\": {\"type\": \"BasicTicker\", \"id\": \"f49cbd64-c61b-49eb-b046-25c8b3774595\"}}, \"type\": \"LinearAxis\", \"id\": \"c2126ede-c62b-4fde-a079-e4247dcdeb98\"}, {\"attributes\": {\"line_color\": {\"value\": \"#1f77b4\"}, \"line_alpha\": {\"value\": 0.1}, \"y\": {\"field\": \"y\"}, \"x\": {\"field\": \"x\"}}, \"type\": \"Line\", \"id\": \"3e485694-c891-47f1-b7d8-b847f1dec6c6\"}, {\"attributes\": {\"plot\": {\"subtype\": \"Figure\", \"type\": \"Plot\", \"id\": \"4adaf421-e6c1-476c-b764-c02ceb0e1e36\"}}, \"type\": \"PreviewSaveTool\", \"id\": \"c35c7635-4d91-4797-bebb-52bd336e714a\"}, {\"attributes\": {\"plot\": {\"subtype\": \"Figure\", \"type\": \"Plot\", \"id\": \"d92e0424-df67-46ac-9b26-40a5800bd8cf\"}, \"overlay\": {\"type\": \"BoxAnnotation\", \"id\": \"4280df9e-f246-4fd2-bd12-cb63bee8d778\"}}, \"type\": \"BoxZoomTool\", \"id\": \"4b6f258d-8d18-4d66-add1-b62be731f00b\"}, {\"attributes\": {\"line_color\": {\"value\": \"#1f77b4\"}, \"x\": {\"field\": \"x\"}, \"y\": {\"field\": \"y\"}}, \"type\": \"Line\", \"id\": \"db86850e-cd9c-4817-8725-f25f3c72e28d\"}, {\"attributes\": {\"plot\": {\"subtype\": \"Figure\", \"type\": \"Plot\", \"id\": \"d92e0424-df67-46ac-9b26-40a5800bd8cf\"}, \"ticker\": {\"type\": \"BasicTicker\", \"id\": \"72baef79-5297-4a8e-9616-2d478704f20a\"}}, \"type\": \"Grid\", \"id\": \"09d9b1a8-32a4-4799-958b-0db0a0561d09\"}, {\"attributes\": {\"x_range\": {\"type\": \"DataRange1d\", \"id\": \"ab4f8e03-a48c-4f1b-8eb9-8ce6b4fd95ec\"}, \"y_range\": {\"type\": \"DataRange1d\", \"id\": \"2ffb7639-8d53-4af8-930c-cd8529d6a034\"}, \"renderers\": [{\"type\": \"LinearAxis\", \"id\": \"2b1f6efc-1474-4b5c-9ff0-5bbaaecc7b96\"}, {\"type\": \"Grid\", \"id\": \"8a177fe0-9772-45d0-bacf-16e4a8a21e13\"}, {\"type\": \"LinearAxis\", \"id\": \"33bef7c2-b1c6-4399-b914-944b87f96ed3\"}, {\"type\": \"Grid\", \"id\": \"8fa6e812-ebd2-4311-9a35-b3dfcdd5fe83\"}, {\"type\": \"BoxAnnotation\", \"id\": \"feaf1991-ec66-4434-9fe2-aa3d66a86aed\"}, {\"type\": \"GlyphRenderer\", \"id\": \"7c74240a-8ef2-4f7a-98a6-a6fa86c8ade7\"}], \"plot_width\": 650, \"below\": [{\"type\": \"LinearAxis\", \"id\": \"2b1f6efc-1474-4b5c-9ff0-5bbaaecc7b96\"}], \"tool_events\": {\"type\": \"ToolEvents\", \"id\": \"02d067f8-3014-4c8d-a2f1-ebb74764ec90\"}, \"plot_height\": 500, \"tools\": [{\"type\": \"ResizeTool\", \"id\": \"592e6610-9484-4834-84ed-93a9a109114e\"}, {\"type\": \"PanTool\", \"id\": \"f1e83777-24ef-4927-b884-93baf6c3d0e5\"}, {\"type\": \"WheelZoomTool\", \"id\": \"8b4c8688-de33-4326-99e7-b74140d1f7d5\"}, {\"type\": \"BoxZoomTool\", \"id\": \"e94534dc-6504-439c-a592-49c4a5c1b715\"}, {\"type\": \"ResetTool\", \"id\": \"e916ed2b-1d72-4b66-b88f-21f3757cb647\"}, {\"type\": \"PreviewSaveTool\", \"id\": \"c35c7635-4d91-4797-bebb-52bd336e714a\"}], \"left\": [{\"type\": \"LinearAxis\", \"id\": \"33bef7c2-b1c6-4399-b914-944b87f96ed3\"}]}, \"type\": \"Plot\", \"id\": \"4adaf421-e6c1-476c-b764-c02ceb0e1e36\", \"subtype\": \"Figure\"}, {\"attributes\": {\"plot\": {\"subtype\": \"Figure\", \"type\": \"Plot\", \"id\": \"4adaf421-e6c1-476c-b764-c02ceb0e1e36\"}, \"ticker\": {\"type\": \"BasicTicker\", \"id\": \"f02b533b-0622-46a6-b539-a44472e2580e\"}, \"dimension\": 1}, \"type\": \"Grid\", \"id\": \"8fa6e812-ebd2-4311-9a35-b3dfcdd5fe83\"}, {\"attributes\": {\"callback\": null, \"column_names\": [\"y\", \"x\"], \"data\": {\"y\": [0.0, 0.10000000149011612, 0.0, 0.0020000000949949026, 0.004000000189989805, 0.006000000052154064, 0.00800000037997961, 0.009999999776482582, 0.012000000104308128, 0.014000000432133675, 0.01600000075995922, 0.017999999225139618, 0.019999999552965164, 0.02199999988079071, 0.024000000208616257, 0.026000000536441803, 0.02800000086426735, 0.029999999329447746, 0.03200000151991844, 0.03400000184774399, 0.035999998450279236, 0.03799999877810478, 0.03999999910593033, 0.041999999433755875, 0.04399999976158142, 0.04600000008940697, 0.04800000041723251, 0.05000000074505806, 0.052000001072883606, 0.05400000140070915, 0.0560000017285347, 0.057999998331069946, 0.05999999865889549, 0.06199999898672104, 0.06400000303983688, 0.06599999964237213, 0.06800000369548798, 0.07000000029802322, 0.07199999690055847, 0.07400000095367432, 0.07599999755620956, 0.07800000160932541, 0.07999999821186066, 0.0820000022649765, 0.08399999886751175, 0.0860000029206276, 0.08799999952316284, 0.09000000357627869, 0.09200000017881393, 0.09399999678134918, 0.09600000083446503, 0.09799999743700027, 0.10000000149011612, 0.09799999743700027, 0.09600000083446503, 0.09399999678134918, 0.09200000017881393, 0.09000000357627869, 0.08799999952316284, 0.0860000029206276, 0.08399999886751175, 0.0820000022649765, 0.07999999821186066, 0.07800000160932541, 0.07599999755620956, 0.07400000095367432, 0.07199999690055847, 0.07000000029802322, 0.06800000369548798, 0.06599999964237213, 0.06400000303983688, 0.06199999898672104, 0.05999999865889549, 0.057999998331069946, 0.0560000017285347, 0.05400000140070915, 0.052000001072883606, 0.05000000074505806, 0.04800000041723251, 0.04600000008940697, 0.04399999976158142, 0.041999999433755875, 0.03999999910593033, 0.03799999877810478, 0.035999998450279236, 0.03400000184774399, 0.03200000151991844, 0.029999999329447746, 0.02800000086426735, 0.026000000536441803, 0.024000000208616257, 0.02199999988079071, 0.019999999552965164, 0.017999999225139618, 0.01600000075995922, 0.014000000432133675, 0.012000000104308128, 0.009999999776482582, 0.00800000037997961, 0.006000000052154064, 0.004000000189989805, 0.0020000000949949026, 2.220446049250313e-15, 0.0020000000949949026, 0.004000000189989805, 0.006000000052154064, 0.00800000037997961, 0.009999999776482582, 0.012000000104308128, 0.014000000432133675, 0.01600000075995922, 0.017999999225139618, 0.019999999552965164, 0.02199999988079071, 0.024000000208616257, 0.026000000536441803, 0.02800000086426735, 0.029999999329447746, 0.03200000151991844, 0.03400000184774399, 0.035999998450279236, 0.03799999877810478, 0.03999999910593033, 0.041999999433755875, 0.04399999976158142, 0.04600000008940697, 0.04800000041723251, 0.05000000074505806, 0.052000001072883606, 0.05400000140070915, 0.0560000017285347, 0.057999998331069946, 0.05999999865889549, 0.06199999898672104, 0.06400000303983688, 0.06599999964237213, 0.06800000369548798, 0.07000000029802322, 0.07199999690055847, 0.07400000095367432, 0.07599999755620956, 0.07800000160932541, 0.07999999821186066, 0.0820000022649765, 0.08399999886751175, 0.0860000029206276, 0.08799999952316284, 0.09000000357627869, 0.09200000017881393, 0.09399999678134918, 0.09600000083446503, 0.09799999743700027, 0.10000000149011612, 0.09799999743700027, 0.09600000083446503, 0.09399999678134918, 0.09200000017881393, 0.09000000357627869, 0.08799999952316284, 0.0860000029206276, 0.08399999886751175, 0.0820000022649765, 0.07999999821186066, 0.07800000160932541, 0.07599999755620956, 0.07400000095367432, 0.07199999690055847, 0.07000000029802322, 0.06800000369548798, 0.06599999964237213, 0.06400000303983688, 0.06199999898672104, 0.05999999865889549, 0.057999998331069946, 0.0560000017285347, 0.05400000140070915, 0.052000001072883606, 0.05000000074505806, 0.04800000041723251, 0.04600000008940697, 0.04399999976158142, 0.041999999433755875, 0.03999999910593033, 0.03799999877810478, 0.035999998450279236, 0.03400000184774399, 0.03200000151991844, 0.029999999329447746, 0.02800000086426735, 0.026000000536441803, 0.024000000208616257, 0.02199999988079071, 0.019999999552965164, 0.017999999225139618, 0.01600000075995922, 0.014000000432133675, 0.012000000104308128, 0.009999999776482582, 0.00800000037997961, 0.006000000052154064, 0.004000000189989805, 0.0020000000949949026, 0.0, 0.0020000000949949026, 0.004000000189989805, 0.006000000052154064, 0.00800000037997961, 0.009999999776482582, 0.012000000104308128, 0.014000000432133675, 0.01600000075995922, 0.017999999225139618, 0.019999999552965164, 0.02199999988079071, 0.024000000208616257, 0.026000000536441803, 0.02800000086426735, 0.029999999329447746, 0.03200000151991844, 0.03400000184774399, 0.035999998450279236, 0.03799999877810478, 0.03999999910593033, 0.041999999433755875, 0.04399999976158142, 0.04600000008940697, 0.04800000041723251, 0.05000000074505806, 0.052000001072883606, 0.05400000140070915, 0.0560000017285347, 0.057999998331069946, 0.05999999865889549, 0.06199999898672104, 0.06400000303983688, 0.06599999964237213, 0.06800000369548798, 0.07000000029802322, 0.07199999690055847, 0.07400000095367432, 0.07599999755620956, 0.07800000160932541, 0.07999999821186066, 0.0820000022649765, 0.08399999886751175, 0.0860000029206276, 0.08799999952316284, 0.09000000357627869, 0.09200000017881393, 0.09399999678134918, 0.09600000083446503, 0.09799999743700027, 0.10000000149011612, 0.09799999743700027, 0.09600000083446503, 0.09399999678134918, 0.09200000017881393, 0.09000000357627869, 0.08799999952316284, 0.0860000029206276, 0.08399999886751175, 0.0820000022649765, 0.07999999821186066, 0.07800000160932541, 0.07599999755620956, 0.07400000095367432, 0.07199999690055847, 0.07000000029802322, 0.06800000369548798, 0.06599999964237213, 0.06400000303983688, 0.06199999898672104, 0.05999999865889549, 0.057999998331069946, 0.0560000017285347, 0.05400000140070915, 0.052000001072883606, 0.05000000074505806, 0.04800000041723251, 0.04600000008940697, 0.04399999976158142, 0.041999999433755875, 0.03999999910593033, 0.03799999877810478, 0.035999998450279236, 0.03400000184774399, 0.03200000151991844, 0.029999999329447746, 0.02800000086426735, 0.026000000536441803, 0.024000000208616257, 0.02199999988079071, 0.019999999552965164, 0.017999999225139618, 0.01600000075995922, 0.014000000432133675, 0.012000000104308128, 0.009999999776482582, 0.00800000037997961, 0.006000000052154064, 0.004000000189989805, 0.0020000000949949026, 0.0, 0.0020000000949949026, 0.004000000189989805, 0.006000000052154064, 0.00800000037997961, 0.009999999776482582, 0.012000000104308128, 0.014000000432133675, 0.01600000075995922, 0.017999999225139618, 0.019999999552965164, 0.02199999988079071, 0.024000000208616257, 0.026000000536441803, 0.02800000086426735, 0.029999999329447746, 0.03200000151991844, 0.03400000184774399, 0.035999998450279236, 0.03799999877810478, 0.03999999910593033, 0.041999999433755875, 0.04399999976158142, 0.04600000008940697, 0.04800000041723251, 0.05000000074505806, 0.052000001072883606, 0.05400000140070915, 0.0560000017285347, 0.057999998331069946, 0.05999999865889549, 0.06199999898672104, 0.06400000303983688, 0.06599999964237213, 0.06800000369548798, 0.07000000029802322, 0.07199999690055847, 0.07400000095367432, 0.07599999755620956, 0.07800000160932541, 0.07999999821186066, 0.0820000022649765, 0.08399999886751175, 0.0860000029206276, 0.08799999952316284, 0.09000000357627869, 0.09200000017881393, 0.09399999678134918, 0.09600000083446503, 0.09799999743700027, 0.10000000149011612, 0.09799999743700027, 0.09600000083446503, 0.09399999678134918, 0.09200000017881393, 0.09000000357627869, 0.08799999952316284, 0.0860000029206276, 0.08399999886751175, 0.0820000022649765, 0.07999999821186066, 0.07800000160932541, 0.07599999755620956, 0.07400000095367432, 0.07199999690055847, 0.07000000029802322, 0.06800000369548798, 0.06599999964237213, 0.06400000303983688, 0.06199999898672104, 0.05999999865889549, 0.057999998331069946, 0.0560000017285347, 0.05400000140070915, 0.052000001072883606, 0.05000000074505806, 0.04800000041723251, 0.04600000008940697, 0.04399999976158142, 0.041999999433755875, 0.03999999910593033, 0.03799999877810478, 0.035999998450279236, 0.03400000184774399, 0.03200000151991844, 0.029999999329447746, 0.02800000086426735, 0.026000000536441803, 0.024000000208616257, 0.02199999988079071, 0.019999999552965164, 0.017999999225139618, 0.01600000075995922, 0.014000000432133675, 0.012000000104308128, 0.009999999776482582, 0.00800000037997961, 0.006000000052154064, 0.004000000189989805, 0.0020000000949949026, -1.3322676295501878e-15, 0.10000000149011612, 0.0], \"x\": [0.0, 1.0, 2.0, 2.0199999809265137, 2.0399999618530273, 2.059999942779541, 2.0799999237060547, 2.0999999046325684, 2.119999885559082, 2.140000104904175, 2.1600000858306885, 2.180000066757202, 2.200000047683716, 2.2200000286102295, 2.240000009536743, 2.259999990463257, 2.2799999713897705, 2.299999952316284, 2.319999933242798, 2.3399999141693115, 2.359999895095825, 2.380000114440918, 2.4000000953674316, 2.4200000762939453, 2.440000057220459, 2.4600000381469727, 2.4800000190734863, 2.5, 2.5199999809265137, 2.5399999618530273, 2.559999942779541, 2.5799999237060547, 2.5999999046325684, 2.619999885559082, 2.640000104904175, 2.6600000858306885, 2.680000066757202, 2.700000047683716, 2.7200000286102295, 2.740000009536743, 2.759999990463257, 2.7799999713897705, 2.799999952316284, 2.819999933242798, 2.8399999141693115, 2.859999895095825, 2.880000114440918, 2.9000000953674316, 2.9200000762939453, 2.940000057220459, 2.9600000381469727, 2.9800000190734863, 3.0, 3.0199999809265137, 3.0399999618530273, 3.059999942779541, 3.0799999237060547, 3.0999999046325684, 3.119999885559082, 3.140000104904175, 3.1600000858306885, 3.180000066757202, 3.200000047683716, 3.2200000286102295, 3.240000009536743, 3.259999990463257, 3.2799999713897705, 3.299999952316284, 3.319999933242798, 3.3399999141693115, 3.359999895095825, 3.380000114440918, 3.4000000953674316, 3.4200000762939453, 3.440000057220459, 3.4600000381469727, 3.4800000190734863, 3.5, 3.5199999809265137, 3.5399999618530273, 3.559999942779541, 3.5799999237060547, 3.5999999046325684, 3.619999885559082, 3.640000104904175, 3.6600000858306885, 3.680000066757202, 3.700000047683716, 3.7200000286102295, 3.740000009536743, 3.759999990463257, 3.7799999713897705, 3.799999952316284, 3.819999933242798, 3.8399999141693115, 3.859999895095825, 3.880000114440918, 3.9000000953674316, 3.9200000762939453, 3.940000057220459, 3.9600000381469727, 3.9800000190734863, 4.0, 4.019999980926514, 4.039999961853027, 4.059999942779541, 4.079999923706055, 4.099999904632568, 4.119999885559082, 4.139999866485596, 4.159999847412109, 4.179999828338623, 4.199999809265137, 4.21999979019165, 4.239999771118164, 4.260000228881836, 4.28000020980835, 4.300000190734863, 4.320000171661377, 4.340000152587891, 4.360000133514404, 4.380000114440918, 4.400000095367432, 4.420000076293945, 4.440000057220459, 4.460000038146973, 4.480000019073486, 4.5, 4.519999980926514, 4.539999961853027, 4.559999942779541, 4.579999923706055, 4.599999904632568, 4.619999885559082, 4.639999866485596, 4.659999847412109, 4.679999828338623, 4.699999809265137, 4.71999979019165, 4.739999771118164, 4.760000228881836, 4.78000020980835, 4.800000190734863, 4.820000171661377, 4.840000152587891, 4.860000133514404, 4.880000114440918, 4.900000095367432, 4.920000076293945, 4.940000057220459, 4.960000038146973, 4.980000019073486, 5.0, 5.019999980926514, 5.039999961853027, 5.059999942779541, 5.079999923706055, 5.099999904632568, 5.119999885559082, 5.139999866485596, 5.159999847412109, 5.179999828338623, 5.199999809265137, 5.21999979019165, 5.239999771118164, 5.260000228881836, 5.28000020980835, 5.300000190734863, 5.320000171661377, 5.340000152587891, 5.360000133514404, 5.380000114440918, 5.400000095367432, 5.420000076293945, 5.440000057220459, 5.460000038146973, 5.480000019073486, 5.5, 5.519999980926514, 5.539999961853027, 5.559999942779541, 5.579999923706055, 5.599999904632568, 5.619999885559082, 5.639999866485596, 5.659999847412109, 5.679999828338623, 5.699999809265137, 5.71999979019165, 5.739999771118164, 5.760000228881836, 5.78000020980835, 5.800000190734863, 5.820000171661377, 5.840000152587891, 5.860000133514404, 5.880000114440918, 5.900000095367432, 5.920000076293945, 5.940000057220459, 5.960000038146973, 5.980000019073486, 6.0, 6.019999980926514, 6.039999961853027, 6.059999942779541, 6.079999923706055, 6.099999904632568, 6.119999885559082, 6.139999866485596, 6.159999847412109, 6.179999828338623, 6.199999809265137, 6.21999979019165, 6.239999771118164, 6.260000228881836, 6.28000020980835, 6.300000190734863, 6.320000171661377, 6.340000152587891, 6.360000133514404, 6.380000114440918, 6.400000095367432, 6.420000076293945, 6.440000057220459, 6.460000038146973, 6.480000019073486, 6.5, 6.519999980926514, 6.539999961853027, 6.559999942779541, 6.579999923706055, 6.599999904632568, 6.619999885559082, 6.639999866485596, 6.659999847412109, 6.679999828338623, 6.699999809265137, 6.71999979019165, 6.739999771118164, 6.760000228881836, 6.78000020980835, 6.800000190734863, 6.820000171661377, 6.840000152587891, 6.860000133514404, 6.880000114440918, 6.900000095367432, 6.920000076293945, 6.940000057220459, 6.960000038146973, 6.980000019073486, 7.0, 7.019999980926514, 7.039999961853027, 7.059999942779541, 7.079999923706055, 7.099999904632568, 7.119999885559082, 7.139999866485596, 7.159999847412109, 7.179999828338623, 7.199999809265137, 7.21999979019165, 7.239999771118164, 7.260000228881836, 7.28000020980835, 7.300000190734863, 7.320000171661377, 7.340000152587891, 7.360000133514404, 7.380000114440918, 7.400000095367432, 7.420000076293945, 7.440000057220459, 7.460000038146973, 7.480000019073486, 7.5, 7.519999980926514, 7.539999961853027, 7.559999942779541, 7.579999923706055, 7.599999904632568, 7.619999885559082, 7.639999866485596, 7.659999847412109, 7.679999828338623, 7.699999809265137, 7.71999979019165, 7.739999771118164, 7.760000228881836, 7.78000020980835, 7.800000190734863, 7.820000171661377, 7.840000152587891, 7.860000133514404, 7.880000114440918, 7.900000095367432, 7.920000076293945, 7.940000057220459, 7.960000038146973, 7.980000019073486, 8.0, 8.020000457763672, 8.039999961853027, 8.0600004196167, 8.079999923706055, 8.100000381469727, 8.119999885559082, 8.140000343322754, 8.15999984741211, 8.180000305175781, 8.199999809265137, 8.220000267028809, 8.239999771118164, 8.260000228881836, 8.279999732971191, 8.300000190734863, 8.319999694824219, 8.34000015258789, 8.359999656677246, 8.380000114440918, 8.399999618530273, 8.420000076293945, 8.4399995803833, 8.460000038146973, 8.479999542236328, 8.5, 8.520000457763672, 8.539999961853027, 8.5600004196167, 8.579999923706055, 8.600000381469727, 8.619999885559082, 8.640000343322754, 8.65999984741211, 8.680000305175781, 8.699999809265137, 8.720000267028809, 8.739999771118164, 8.760000228881836, 8.779999732971191, 8.800000190734863, 8.819999694824219, 8.84000015258789, 8.859999656677246, 8.880000114440918, 8.899999618530273, 8.920000076293945, 8.9399995803833, 8.960000038146973, 8.979999542236328, 9.0, 9.020000457763672, 9.039999961853027, 9.0600004196167, 9.079999923706055, 9.100000381469727, 9.119999885559082, 9.140000343322754, 9.15999984741211, 9.180000305175781, 9.199999809265137, 9.220000267028809, 9.239999771118164, 9.260000228881836, 9.279999732971191, 9.300000190734863, 9.319999694824219, 9.34000015258789, 9.359999656677246, 9.380000114440918, 9.399999618530273, 9.420000076293945, 9.4399995803833, 9.460000038146973, 9.479999542236328, 9.5, 9.520000457763672, 9.539999961853027, 9.5600004196167, 9.579999923706055, 9.600000381469727, 9.619999885559082, 9.640000343322754, 9.65999984741211, 9.680000305175781, 9.699999809265137, 9.720000267028809, 9.739999771118164, 9.760000228881836, 9.779999732971191, 9.800000190734863, 9.819999694824219, 9.84000015258789, 9.859999656677246, 9.880000114440918, 9.899999618530273, 9.920000076293945, 9.9399995803833, 9.960000038146973, 9.979999542236328, 10.0, 11.0, 12.0]}}, \"type\": \"ColumnDataSource\", \"id\": \"0879b1e4-8d41-4f13-a9ee-b3d273e03e58\"}, {\"attributes\": {\"nonselection_glyph\": {\"type\": \"Line\", \"id\": \"3e485694-c891-47f1-b7d8-b847f1dec6c6\"}, \"data_source\": {\"type\": \"ColumnDataSource\", \"id\": \"508d6f2a-9f62-4e1b-b8f7-d6fc94c1bb9a\"}, \"selection_glyph\": null, \"hover_glyph\": null, \"glyph\": {\"type\": \"Line\", \"id\": \"8dbf13ef-b623-4b1a-b391-bcb7588b0d8b\"}}, \"type\": \"GlyphRenderer\", \"id\": \"bc4ed081-6020-4508-a44e-57520706bc7f\"}, {\"attributes\": {}, \"type\": \"BasicTicker\", \"id\": \"3bd2a95e-0529-4cbb-a2ea-6f9520fd08fe\"}, {\"attributes\": {}, \"type\": \"BasicTickFormatter\", \"id\": \"b9f7a174-ae0f-4513-943d-453dd1a23be4\"}, {\"attributes\": {\"plot\": {\"subtype\": \"Figure\", \"type\": \"Plot\", \"id\": \"d92e0424-df67-46ac-9b26-40a5800bd8cf\"}}, \"type\": \"ResizeTool\", \"id\": \"0215ac9c-c5d6-422f-9c01-6a5a92a9077b\"}, {\"attributes\": {\"plot\": {\"subtype\": \"Figure\", \"type\": \"Plot\", \"id\": \"4adaf421-e6c1-476c-b764-c02ceb0e1e36\"}}, \"type\": \"WheelZoomTool\", \"id\": \"8b4c8688-de33-4326-99e7-b74140d1f7d5\"}, {\"attributes\": {\"callback\": null, \"column_names\": [\"y\", \"x\"], \"data\": {\"y\": [0.0, 0.10000000149011612, 0.0, 0.0020000000949949026, 0.004000000189989805, 0.006000000052154064, 0.00800000037997961, 0.009999999776482582, 0.012000000104308128, 0.014000000432133675, 0.01600000075995922, 0.017999999225139618, 0.019999999552965164, 0.02199999988079071, 0.024000000208616257, 0.026000000536441803, 0.02800000086426735, 0.029999999329447746, 0.03200000151991844, 0.03400000184774399, 0.035999998450279236, 0.03799999877810478, 0.03999999910593033, 0.041999999433755875, 0.04399999976158142, 0.04600000008940697, 0.04800000041723251, 0.05000000074505806, 0.052000001072883606, 0.05400000140070915, 0.0560000017285347, 0.057999998331069946, 0.05999999865889549, 0.06199999898672104, 0.06400000303983688, 0.06599999964237213, 0.06800000369548798, 0.07000000029802322, 0.07199999690055847, 0.07400000095367432, 0.07599999755620956, 0.07800000160932541, 0.07999999821186066, 0.0820000022649765, 0.08399999886751175, 0.0860000029206276, 0.08799999952316284, 0.09000000357627869, 0.09200000017881393, 0.09399999678134918, 0.09600000083446503, 0.09799999743700027, 0.10000000149011612, 0.09799999743700027, 0.09600000083446503, 0.09399999678134918, 0.09200000017881393, 0.09000000357627869, 0.08799999952316284, 0.0860000029206276, 0.08399999886751175, 0.0820000022649765, 0.07999999821186066, 0.07800000160932541, 0.07599999755620956, 0.07400000095367432, 0.07199999690055847, 0.07000000029802322, 0.06800000369548798, 0.06599999964237213, 0.06400000303983688, 0.06199999898672104, 0.05999999865889549, 0.057999998331069946, 0.0560000017285347, 0.05400000140070915, 0.052000001072883606, 0.05000000074505806, 0.04800000041723251, 0.04600000008940697, 0.04399999976158142, 0.041999999433755875, 0.03999999910593033, 0.03799999877810478, 0.035999998450279236, 0.03400000184774399, 0.03200000151991844, 0.029999999329447746, 0.02800000086426735, 0.026000000536441803, 0.024000000208616257, 0.02199999988079071, 0.019999999552965164, 0.017999999225139618, 0.01600000075995922, 0.014000000432133675, 0.012000000104308128, 0.009999999776482582, 0.00800000037997961, 0.006000000052154064, 0.004000000189989805, 0.0020000000949949026, 2.220446049250313e-15, 0.0020000000949949026, 0.004000000189989805, 0.006000000052154064, 0.00800000037997961, 0.009999999776482582, 0.012000000104308128, 0.014000000432133675, 0.01600000075995922, 0.017999999225139618, 0.019999999552965164, 0.02199999988079071, 0.024000000208616257, 0.026000000536441803, 0.02800000086426735, 0.029999999329447746, 0.03200000151991844, 0.03400000184774399, 0.035999998450279236, 0.03799999877810478, 0.03999999910593033, 0.041999999433755875, 0.04399999976158142, 0.04600000008940697, 0.04800000041723251, 0.05000000074505806, 0.052000001072883606, 0.05400000140070915, 0.0560000017285347, 0.057999998331069946, 0.05999999865889549, 0.06199999898672104, 0.06400000303983688, 0.06599999964237213, 0.06800000369548798, 0.07000000029802322, 0.07199999690055847, 0.07400000095367432, 0.07599999755620956, 0.07800000160932541, 0.07999999821186066, 0.0820000022649765, 0.08399999886751175, 0.0860000029206276, 0.08799999952316284, 0.09000000357627869, 0.09200000017881393, 0.09399999678134918, 0.09600000083446503, 0.09799999743700027, 0.10000000149011612, 0.09799999743700027, 0.09600000083446503, 0.09399999678134918, 0.09200000017881393, 0.09000000357627869, 0.08799999952316284, 0.0860000029206276, 0.08399999886751175, 0.0820000022649765, 0.07999999821186066, 0.07800000160932541, 0.07599999755620956, 0.07400000095367432, 0.07199999690055847, 0.07000000029802322, 0.06800000369548798, 0.06599999964237213, 0.06400000303983688, 0.06199999898672104, 0.05999999865889549, 0.057999998331069946, 0.0560000017285347, 0.05400000140070915, 0.052000001072883606, 0.05000000074505806, 0.04800000041723251, 0.04600000008940697, 0.04399999976158142, 0.041999999433755875, 0.03999999910593033, 0.03799999877810478, 0.035999998450279236, 0.03400000184774399, 0.03200000151991844, 0.029999999329447746, 0.02800000086426735, 0.026000000536441803, 0.024000000208616257, 0.02199999988079071, 0.019999999552965164, 0.017999999225139618, 0.01600000075995922, 0.014000000432133675, 0.012000000104308128, 0.009999999776482582, 0.00800000037997961, 0.006000000052154064, 0.004000000189989805, 0.0020000000949949026, 0.0, 0.0020000000949949026, 0.004000000189989805, 0.006000000052154064, 0.00800000037997961, 0.009999999776482582, 0.012000000104308128, 0.014000000432133675, 0.01600000075995922, 0.017999999225139618, 0.019999999552965164, 0.02199999988079071, 0.024000000208616257, 0.026000000536441803, 0.02800000086426735, 0.029999999329447746, 0.03200000151991844, 0.03400000184774399, 0.035999998450279236, 0.03799999877810478, 0.03999999910593033, 0.041999999433755875, 0.04399999976158142, 0.04600000008940697, 0.04800000041723251, 0.05000000074505806, 0.052000001072883606, 0.05400000140070915, 0.0560000017285347, 0.057999998331069946, 0.05999999865889549, 0.06199999898672104, 0.06400000303983688, 0.06599999964237213, 0.06800000369548798, 0.07000000029802322, 0.07199999690055847, 0.07400000095367432, 0.07599999755620956, 0.07800000160932541, 0.07999999821186066, 0.0820000022649765, 0.08399999886751175, 0.0860000029206276, 0.08799999952316284, 0.09000000357627869, 0.09200000017881393, 0.09399999678134918, 0.09600000083446503, 0.09799999743700027, 0.10000000149011612, 0.09799999743700027, 0.09600000083446503, 0.09399999678134918, 0.09200000017881393, 0.09000000357627869, 0.08799999952316284, 0.0860000029206276, 0.08399999886751175, 0.0820000022649765, 0.07999999821186066, 0.07800000160932541, 0.07599999755620956, 0.07400000095367432, 0.07199999690055847, 0.07000000029802322, 0.06800000369548798, 0.06599999964237213, 0.06400000303983688, 0.06199999898672104, 0.05999999865889549, 0.057999998331069946, 0.0560000017285347, 0.05400000140070915, 0.052000001072883606, 0.05000000074505806, 0.04800000041723251, 0.04600000008940697, 0.04399999976158142, 0.041999999433755875, 0.03999999910593033, 0.03799999877810478, 0.035999998450279236, 0.03400000184774399, 0.03200000151991844, 0.029999999329447746, 0.02800000086426735, 0.026000000536441803, 0.024000000208616257, 0.02199999988079071, 0.019999999552965164, 0.017999999225139618, 0.01600000075995922, 0.014000000432133675, 0.012000000104308128, 0.009999999776482582, 0.00800000037997961, 0.006000000052154064, 0.004000000189989805, 0.0020000000949949026, 0.0, 0.0020000000949949026, 0.004000000189989805, 0.006000000052154064, 0.00800000037997961, 0.009999999776482582, 0.012000000104308128, 0.014000000432133675, 0.01600000075995922, 0.017999999225139618, 0.019999999552965164, 0.02199999988079071, 0.024000000208616257, 0.026000000536441803, 0.02800000086426735, 0.029999999329447746, 0.03200000151991844, 0.03400000184774399, 0.035999998450279236, 0.03799999877810478, 0.03999999910593033, 0.041999999433755875, 0.04399999976158142, 0.04600000008940697, 0.04800000041723251, 0.05000000074505806, 0.052000001072883606, 0.05400000140070915, 0.0560000017285347, 0.057999998331069946, 0.05999999865889549, 0.06199999898672104, 0.06400000303983688, 0.06599999964237213, 0.06800000369548798, 0.07000000029802322, 0.07199999690055847, 0.07400000095367432, 0.07599999755620956, 0.07800000160932541, 0.07999999821186066, 0.0820000022649765, 0.08399999886751175, 0.0860000029206276, 0.08799999952316284, 0.09000000357627869, 0.09200000017881393, 0.09399999678134918, 0.09600000083446503, 0.09799999743700027, 0.10000000149011612, 0.09799999743700027, 0.09600000083446503, 0.09399999678134918, 0.09200000017881393, 0.09000000357627869, 0.08799999952316284, 0.0860000029206276, 0.08399999886751175, 0.0820000022649765, 0.07999999821186066, 0.07800000160932541, 0.07599999755620956, 0.07400000095367432, 0.07199999690055847, 0.07000000029802322, 0.06800000369548798, 0.06599999964237213, 0.06400000303983688, 0.06199999898672104, 0.05999999865889549, 0.057999998331069946, 0.0560000017285347, 0.05400000140070915, 0.052000001072883606, 0.05000000074505806, 0.04800000041723251, 0.04600000008940697, 0.04399999976158142, 0.041999999433755875, 0.03999999910593033, 0.03799999877810478, 0.035999998450279236, 0.03400000184774399, 0.03200000151991844, 0.029999999329447746, 0.02800000086426735, 0.026000000536441803, 0.024000000208616257, 0.02199999988079071, 0.019999999552965164, 0.017999999225139618, 0.01600000075995922, 0.014000000432133675, 0.012000000104308128, 0.009999999776482582, 0.00800000037997961, 0.006000000052154064, 0.004000000189989805, 0.0020000000949949026, -1.3322676295501878e-15, 0.10000000149011612, 0.0], \"x\": [0.0, 1.0, 2.0, 2.0199999809265137, 2.0399999618530273, 2.059999942779541, 2.0799999237060547, 2.0999999046325684, 2.119999885559082, 2.140000104904175, 2.1600000858306885, 2.180000066757202, 2.200000047683716, 2.2200000286102295, 2.240000009536743, 2.259999990463257, 2.2799999713897705, 2.299999952316284, 2.319999933242798, 2.3399999141693115, 2.359999895095825, 2.380000114440918, 2.4000000953674316, 2.4200000762939453, 2.440000057220459, 2.4600000381469727, 2.4800000190734863, 2.5, 2.5199999809265137, 2.5399999618530273, 2.559999942779541, 2.5799999237060547, 2.5999999046325684, 2.619999885559082, 2.640000104904175, 2.6600000858306885, 2.680000066757202, 2.700000047683716, 2.7200000286102295, 2.740000009536743, 2.759999990463257, 2.7799999713897705, 2.799999952316284, 2.819999933242798, 2.8399999141693115, 2.859999895095825, 2.880000114440918, 2.9000000953674316, 2.9200000762939453, 2.940000057220459, 2.9600000381469727, 2.9800000190734863, 3.0, 3.0199999809265137, 3.0399999618530273, 3.059999942779541, 3.0799999237060547, 3.0999999046325684, 3.119999885559082, 3.140000104904175, 3.1600000858306885, 3.180000066757202, 3.200000047683716, 3.2200000286102295, 3.240000009536743, 3.259999990463257, 3.2799999713897705, 3.299999952316284, 3.319999933242798, 3.3399999141693115, 3.359999895095825, 3.380000114440918, 3.4000000953674316, 3.4200000762939453, 3.440000057220459, 3.4600000381469727, 3.4800000190734863, 3.5, 3.5199999809265137, 3.5399999618530273, 3.559999942779541, 3.5799999237060547, 3.5999999046325684, 3.619999885559082, 3.640000104904175, 3.6600000858306885, 3.680000066757202, 3.700000047683716, 3.7200000286102295, 3.740000009536743, 3.759999990463257, 3.7799999713897705, 3.799999952316284, 3.819999933242798, 3.8399999141693115, 3.859999895095825, 3.880000114440918, 3.9000000953674316, 3.9200000762939453, 3.940000057220459, 3.9600000381469727, 3.9800000190734863, 4.0, 4.019999980926514, 4.039999961853027, 4.059999942779541, 4.079999923706055, 4.099999904632568, 4.119999885559082, 4.139999866485596, 4.159999847412109, 4.179999828338623, 4.199999809265137, 4.21999979019165, 4.239999771118164, 4.260000228881836, 4.28000020980835, 4.300000190734863, 4.320000171661377, 4.340000152587891, 4.360000133514404, 4.380000114440918, 4.400000095367432, 4.420000076293945, 4.440000057220459, 4.460000038146973, 4.480000019073486, 4.5, 4.519999980926514, 4.539999961853027, 4.559999942779541, 4.579999923706055, 4.599999904632568, 4.619999885559082, 4.639999866485596, 4.659999847412109, 4.679999828338623, 4.699999809265137, 4.71999979019165, 4.739999771118164, 4.760000228881836, 4.78000020980835, 4.800000190734863, 4.820000171661377, 4.840000152587891, 4.860000133514404, 4.880000114440918, 4.900000095367432, 4.920000076293945, 4.940000057220459, 4.960000038146973, 4.980000019073486, 5.0, 5.019999980926514, 5.039999961853027, 5.059999942779541, 5.079999923706055, 5.099999904632568, 5.119999885559082, 5.139999866485596, 5.159999847412109, 5.179999828338623, 5.199999809265137, 5.21999979019165, 5.239999771118164, 5.260000228881836, 5.28000020980835, 5.300000190734863, 5.320000171661377, 5.340000152587891, 5.360000133514404, 5.380000114440918, 5.400000095367432, 5.420000076293945, 5.440000057220459, 5.460000038146973, 5.480000019073486, 5.5, 5.519999980926514, 5.539999961853027, 5.559999942779541, 5.579999923706055, 5.599999904632568, 5.619999885559082, 5.639999866485596, 5.659999847412109, 5.679999828338623, 5.699999809265137, 5.71999979019165, 5.739999771118164, 5.760000228881836, 5.78000020980835, 5.800000190734863, 5.820000171661377, 5.840000152587891, 5.860000133514404, 5.880000114440918, 5.900000095367432, 5.920000076293945, 5.940000057220459, 5.960000038146973, 5.980000019073486, 6.0, 6.019999980926514, 6.039999961853027, 6.059999942779541, 6.079999923706055, 6.099999904632568, 6.119999885559082, 6.139999866485596, 6.159999847412109, 6.179999828338623, 6.199999809265137, 6.21999979019165, 6.239999771118164, 6.260000228881836, 6.28000020980835, 6.300000190734863, 6.320000171661377, 6.340000152587891, 6.360000133514404, 6.380000114440918, 6.400000095367432, 6.420000076293945, 6.440000057220459, 6.460000038146973, 6.480000019073486, 6.5, 6.519999980926514, 6.539999961853027, 6.559999942779541, 6.579999923706055, 6.599999904632568, 6.619999885559082, 6.639999866485596, 6.659999847412109, 6.679999828338623, 6.699999809265137, 6.71999979019165, 6.739999771118164, 6.760000228881836, 6.78000020980835, 6.800000190734863, 6.820000171661377, 6.840000152587891, 6.860000133514404, 6.880000114440918, 6.900000095367432, 6.920000076293945, 6.940000057220459, 6.960000038146973, 6.980000019073486, 7.0, 7.019999980926514, 7.039999961853027, 7.059999942779541, 7.079999923706055, 7.099999904632568, 7.119999885559082, 7.139999866485596, 7.159999847412109, 7.179999828338623, 7.199999809265137, 7.21999979019165, 7.239999771118164, 7.260000228881836, 7.28000020980835, 7.300000190734863, 7.320000171661377, 7.340000152587891, 7.360000133514404, 7.380000114440918, 7.400000095367432, 7.420000076293945, 7.440000057220459, 7.460000038146973, 7.480000019073486, 7.5, 7.519999980926514, 7.539999961853027, 7.559999942779541, 7.579999923706055, 7.599999904632568, 7.619999885559082, 7.639999866485596, 7.659999847412109, 7.679999828338623, 7.699999809265137, 7.71999979019165, 7.739999771118164, 7.760000228881836, 7.78000020980835, 7.800000190734863, 7.820000171661377, 7.840000152587891, 7.860000133514404, 7.880000114440918, 7.900000095367432, 7.920000076293945, 7.940000057220459, 7.960000038146973, 7.980000019073486, 8.0, 8.020000457763672, 8.039999961853027, 8.0600004196167, 8.079999923706055, 8.100000381469727, 8.119999885559082, 8.140000343322754, 8.15999984741211, 8.180000305175781, 8.199999809265137, 8.220000267028809, 8.239999771118164, 8.260000228881836, 8.279999732971191, 8.300000190734863, 8.319999694824219, 8.34000015258789, 8.359999656677246, 8.380000114440918, 8.399999618530273, 8.420000076293945, 8.4399995803833, 8.460000038146973, 8.479999542236328, 8.5, 8.520000457763672, 8.539999961853027, 8.5600004196167, 8.579999923706055, 8.600000381469727, 8.619999885559082, 8.640000343322754, 8.65999984741211, 8.680000305175781, 8.699999809265137, 8.720000267028809, 8.739999771118164, 8.760000228881836, 8.779999732971191, 8.800000190734863, 8.819999694824219, 8.84000015258789, 8.859999656677246, 8.880000114440918, 8.899999618530273, 8.920000076293945, 8.9399995803833, 8.960000038146973, 8.979999542236328, 9.0, 9.020000457763672, 9.039999961853027, 9.0600004196167, 9.079999923706055, 9.100000381469727, 9.119999885559082, 9.140000343322754, 9.15999984741211, 9.180000305175781, 9.199999809265137, 9.220000267028809, 9.239999771118164, 9.260000228881836, 9.279999732971191, 9.300000190734863, 9.319999694824219, 9.34000015258789, 9.359999656677246, 9.380000114440918, 9.399999618530273, 9.420000076293945, 9.4399995803833, 9.460000038146973, 9.479999542236328, 9.5, 9.520000457763672, 9.539999961853027, 9.5600004196167, 9.579999923706055, 9.600000381469727, 9.619999885559082, 9.640000343322754, 9.65999984741211, 9.680000305175781, 9.699999809265137, 9.720000267028809, 9.739999771118164, 9.760000228881836, 9.779999732971191, 9.800000190734863, 9.819999694824219, 9.84000015258789, 9.859999656677246, 9.880000114440918, 9.899999618530273, 9.920000076293945, 9.9399995803833, 9.960000038146973, 9.979999542236328, 10.0, 11.0, 12.0]}}, \"type\": \"ColumnDataSource\", \"id\": \"508d6f2a-9f62-4e1b-b8f7-d6fc94c1bb9a\"}, {\"attributes\": {\"plot\": {\"subtype\": \"Figure\", \"type\": \"Plot\", \"id\": \"4adaf421-e6c1-476c-b764-c02ceb0e1e36\"}}, \"type\": \"ResetTool\", \"id\": \"e916ed2b-1d72-4b66-b88f-21f3757cb647\"}]}, \"title\": \"Bokeh Application\"}};\n",
       "            var render_items = [{\"notebook_comms_target\": \"8fd3c1d7-8b1f-47b4-8c64-6045d0f4bb88\", \"docid\": \"8ae0d29b-99bd-4811-a13e-3132a12157b4\", \"elementid\": \"ffdb0c8c-a245-4d83-9a14-764ab588755c\", \"modelid\": \"4adaf421-e6c1-476c-b764-c02ceb0e1e36\"}];\n",
       "            \n",
       "            Bokeh.embed.embed_items(docs_json, render_items);\n",
       "        });\n",
       "      },\n",
       "      function(Bokeh) {\n",
       "      }\n",
       "    ];\n",
       "  \n",
       "    function run_inline_js() {\n",
       "      for (var i = 0; i < inline_js.length; i++) {\n",
       "        inline_js[i](window.Bokeh);\n",
       "      }\n",
       "    }\n",
       "  \n",
       "    if (window._bokeh_is_loading === 0) {\n",
       "      console.log(\"Bokeh: BokehJS loaded, going straight to plotting\");\n",
       "      run_inline_js();\n",
       "    } else {\n",
       "      load_libs(js_urls, function() {\n",
       "        console.log(\"Bokeh: BokehJS plotting callback run at\", now());\n",
       "        run_inline_js();\n",
       "      });\n",
       "    }\n",
       "  }(this));\n",
       "</script>"
      ]
     },
     "metadata": {},
     "output_type": "display_data"
    }
   ],
   "source": [
    "p = mps.plot('Time', 'E.XX')\n",
    "show(p);"
   ]
  },
  {
   "cell_type": "markdown",
   "metadata": {},
   "source": [
    "`MaterialPointSimulator.plot` takes as string arguments the `x` and `y` `MaterialPointSimulator` attributes to plot.  Incidentally (and as expected) the plot shows that axial compoent of strain was cycled from 0-10% strain through a variety of deformation steps. "
   ]
  },
  {
   "cell_type": "markdown",
   "metadata": {},
   "source": [
    "Greater flexibility in plotting can be obtained by generating a `plot` object and directly plotting variables of interest"
   ]
  },
  {
   "cell_type": "code",
   "execution_count": 17,
   "metadata": {
    "collapsed": false
   },
   "outputs": [
    {
     "data": {
      "text/html": [
       "\n",
       "\n",
       "    <div class=\"plotdiv\" id=\"07b5f3b6-d565-49cb-b869-31b7b05527b9\"></div>\n",
       "<script type=\"text/javascript\">\n",
       "  \n",
       "  (function(global) {\n",
       "    function now() {\n",
       "      return new Date();\n",
       "    }\n",
       "  \n",
       "    if (typeof (window._bokeh_onload_callbacks) === \"undefined\") {\n",
       "      window._bokeh_onload_callbacks = [];\n",
       "    }\n",
       "  \n",
       "    function run_callbacks() {\n",
       "      window._bokeh_onload_callbacks.forEach(function(callback) { callback() });\n",
       "      delete window._bokeh_onload_callbacks\n",
       "      console.info(\"Bokeh: all callbacks have finished\");\n",
       "    }\n",
       "  \n",
       "    function load_libs(js_urls, callback) {\n",
       "      window._bokeh_onload_callbacks.push(callback);\n",
       "      if (window._bokeh_is_loading > 0) {\n",
       "        console.log(\"Bokeh: BokehJS is being loaded, scheduling callback at\", now());\n",
       "        return null;\n",
       "      }\n",
       "      if (js_urls == null || js_urls.length === 0) {\n",
       "        run_callbacks();\n",
       "        return null;\n",
       "      }\n",
       "      console.log(\"Bokeh: BokehJS not loaded, scheduling load and callback at\", now());\n",
       "      window._bokeh_is_loading = js_urls.length;\n",
       "      for (var i = 0; i < js_urls.length; i++) {\n",
       "        var url = js_urls[i];\n",
       "        var s = document.createElement('script');\n",
       "        s.src = url;\n",
       "        s.async = false;\n",
       "        s.onreadystatechange = s.onload = function() {\n",
       "          window._bokeh_is_loading--;\n",
       "          if (window._bokeh_is_loading === 0) {\n",
       "            console.log(\"Bokeh: all BokehJS libraries loaded\");\n",
       "            run_callbacks()\n",
       "          }\n",
       "        };\n",
       "        s.onerror = function() {\n",
       "          console.warn(\"failed to load library \" + url);\n",
       "        };\n",
       "        console.log(\"Bokeh: injecting script tag for BokehJS library: \", url);\n",
       "        document.getElementsByTagName(\"head\")[0].appendChild(s);\n",
       "      }\n",
       "    };var element = document.getElementById(\"07b5f3b6-d565-49cb-b869-31b7b05527b9\");\n",
       "    if (element == null) {\n",
       "      console.log(\"Bokeh: ERROR: autoload.js configured with elementid '07b5f3b6-d565-49cb-b869-31b7b05527b9' but no matching script tag was found. \")\n",
       "      return false;\n",
       "    }var js_urls = [];\n",
       "  \n",
       "    var inline_js = [\n",
       "      function(Bokeh) {\n",
       "        Bokeh.$(function() {\n",
       "            var docs_json = {\"42f53529-25d7-47a0-9fc3-70921d7b80d7\": {\"version\": \"0.11.0\", \"roots\": {\"root_ids\": [\"d92e0424-df67-46ac-9b26-40a5800bd8cf\", \"4adaf421-e6c1-476c-b764-c02ceb0e1e36\", \"c21886f1-09f4-46cc-bf63-7a130eb644c0\"], \"references\": [{\"attributes\": {\"plot\": {\"subtype\": \"Figure\", \"type\": \"Plot\", \"id\": \"d92e0424-df67-46ac-9b26-40a5800bd8cf\"}, \"axis_label\": \"Time\", \"formatter\": {\"type\": \"BasicTickFormatter\", \"id\": \"d88b5487-a599-453e-9580-6280e529e1c7\"}, \"ticker\": {\"type\": \"BasicTicker\", \"id\": \"72baef79-5297-4a8e-9616-2d478704f20a\"}}, \"type\": \"LinearAxis\", \"id\": \"1054ef42-b95f-481c-b760-fca8eb735c92\"}, {\"attributes\": {\"plot\": {\"subtype\": \"Figure\", \"type\": \"Plot\", \"id\": \"c21886f1-09f4-46cc-bf63-7a130eb644c0\"}, \"axis_label\": \"Stress\", \"formatter\": {\"type\": \"BasicTickFormatter\", \"id\": \"8b8976b1-b7a8-4232-afd1-158b70ef2c84\"}, \"ticker\": {\"type\": \"BasicTicker\", \"id\": \"dfd7d315-ef27-44b7-af76-545414c72807\"}}, \"type\": \"LinearAxis\", \"id\": \"6a0c75af-1e54-4715-bf87-8ad3ad0374ec\"}, {\"attributes\": {}, \"type\": \"BasicTickFormatter\", \"id\": \"058ab957-fd5e-4482-a07b-4569f877ab5b\"}, {\"attributes\": {\"x_range\": {\"type\": \"DataRange1d\", \"id\": \"f7826f1c-7cd5-4c10-a425-a6681f46a458\"}, \"y_range\": {\"type\": \"DataRange1d\", \"id\": \"83e809a9-f956-414d-b5e4-929a35f277e5\"}, \"renderers\": [{\"type\": \"LinearAxis\", \"id\": \"1054ef42-b95f-481c-b760-fca8eb735c92\"}, {\"type\": \"Grid\", \"id\": \"09d9b1a8-32a4-4799-958b-0db0a0561d09\"}, {\"type\": \"LinearAxis\", \"id\": \"c2126ede-c62b-4fde-a079-e4247dcdeb98\"}, {\"type\": \"Grid\", \"id\": \"90644cb0-c81c-4827-b31f-e80ba419af5a\"}, {\"type\": \"BoxAnnotation\", \"id\": \"4280df9e-f246-4fd2-bd12-cb63bee8d778\"}, {\"type\": \"GlyphRenderer\", \"id\": \"bc4ed081-6020-4508-a44e-57520706bc7f\"}], \"plot_width\": 650, \"below\": [{\"type\": \"LinearAxis\", \"id\": \"1054ef42-b95f-481c-b760-fca8eb735c92\"}], \"tool_events\": {\"type\": \"ToolEvents\", \"id\": \"6a18259d-50ae-4e3f-b5ef-34db87d8581b\"}, \"plot_height\": 500, \"tools\": [{\"type\": \"ResizeTool\", \"id\": \"0215ac9c-c5d6-422f-9c01-6a5a92a9077b\"}, {\"type\": \"PanTool\", \"id\": \"7bdc3a09-d7bc-4466-a656-278bfc51278f\"}, {\"type\": \"WheelZoomTool\", \"id\": \"371e8462-fa19-41ba-9256-beaadea225df\"}, {\"type\": \"BoxZoomTool\", \"id\": \"4b6f258d-8d18-4d66-add1-b62be731f00b\"}, {\"type\": \"ResetTool\", \"id\": \"a0449370-7af2-4653-9733-5949642330f6\"}, {\"type\": \"PreviewSaveTool\", \"id\": \"9c6eaff6-90a7-45a9-be4a-acfc9aa47baa\"}], \"left\": [{\"type\": \"LinearAxis\", \"id\": \"c2126ede-c62b-4fde-a079-e4247dcdeb98\"}]}, \"type\": \"Plot\", \"id\": \"d92e0424-df67-46ac-9b26-40a5800bd8cf\", \"subtype\": \"Figure\"}, {\"attributes\": {\"line_color\": {\"value\": \"blue\"}, \"x\": {\"field\": \"x\"}, \"y\": {\"field\": \"y\"}}, \"type\": \"Line\", \"id\": \"854b8b60-97a2-4373-8c1c-df332988dd64\"}, {\"attributes\": {\"line_color\": {\"value\": \"#1f77b4\"}, \"line_alpha\": {\"value\": 0.1}, \"y\": {\"field\": \"y\"}, \"x\": {\"field\": \"x\"}}, \"type\": \"Line\", \"id\": \"f27aae0e-54ae-4124-8a3e-a378ed3199f7\"}, {\"attributes\": {\"plot\": {\"subtype\": \"Figure\", \"type\": \"Plot\", \"id\": \"4adaf421-e6c1-476c-b764-c02ceb0e1e36\"}, \"overlay\": {\"type\": \"BoxAnnotation\", \"id\": \"feaf1991-ec66-4434-9fe2-aa3d66a86aed\"}}, \"type\": \"BoxZoomTool\", \"id\": \"e94534dc-6504-439c-a592-49c4a5c1b715\"}, {\"attributes\": {\"plot\": {\"subtype\": \"Figure\", \"type\": \"Plot\", \"id\": \"4adaf421-e6c1-476c-b764-c02ceb0e1e36\"}}, \"type\": \"PanTool\", \"id\": \"f1e83777-24ef-4927-b884-93baf6c3d0e5\"}, {\"attributes\": {\"callback\": null, \"column_names\": [\"y\", \"x\"], \"data\": {\"y\": [0.0, 9466667008.0, 0.0, 189333328.0, 378666656.0, 568000000.0, 757333312.0, 946666688.0, 1136000000.0, 1325333376.0, 1514666624.0, 1704000000.0, 1893333376.0, 2082666624.0, 2272000000.0, 2461333248.0, 2650666752.0, 2840000000.0, 3029333248.0, 3218666752.0, 3408000000.0, 3597333248.0, 3786666752.0, 3976000000.0, 4165333248.0, 4354666496.0, 4544000000.0, 4733333504.0, 4922666496.0, 5112000000.0, 5301333504.0, 5490666496.0, 5680000000.0, 5869333504.0, 6058666496.0, 6248000000.0, 6437333504.0, 6626666496.0, 6816000000.0, 7005333504.0, 7194666496.0, 7384000000.0, 7573333504.0, 7762666496.0, 7952000000.0, 8141333504.0, 8330666496.0, 8520000000.0, 8709332992.0, 8898666496.0, 9088000000.0, 9277333504.0, 9466667008.0, 9277333504.0, 9088000000.0, 8898666496.0, 8709332992.0, 8520000000.0, 8330666496.0, 8141333504.0, 7952000000.0, 7762666496.0, 7573333504.0, 7384000000.0, 7194666496.0, 7005333504.0, 6816000000.0, 6626666496.0, 6437333504.0, 6248000000.0, 6058666496.0, 5869333504.0, 5680000000.0, 5490666496.0, 5301333504.0, 5112000000.0, 4922666496.0, 4733333504.0, 4544000000.0, 4354666496.0, 4165333248.0, 3976000000.0, 3786666752.0, 3597333248.0, 3408000000.0, 3218666752.0, 3029333248.0, 2840000000.0, 2650666752.0, 2461333248.0, 2272000000.0, 2082666624.0, 1893333376.0, 1704000000.0, 1514666624.0, 1325333376.0, 1136000000.0, 946666688.0, 757333312.0, 568000000.0, 378666656.0, 189333328.0, 0.0, 189333328.0, 378666656.0, 568000000.0, 757333312.0, 946666688.0, 1136000000.0, 1325333376.0, 1514666624.0, 1704000000.0, 1893333376.0, 2082666624.0, 2272000000.0, 2461333248.0, 2650666752.0, 2840000000.0, 3029333248.0, 3218666752.0, 3408000000.0, 3597333248.0, 3786666752.0, 3976000000.0, 4165333248.0, 4354666496.0, 4544000000.0, 4733333504.0, 4922666496.0, 5112000000.0, 5301333504.0, 5490666496.0, 5680000000.0, 5869333504.0, 6058666496.0, 6248000000.0, 6437333504.0, 6626666496.0, 6816000000.0, 7005333504.0, 7194666496.0, 7384000000.0, 7573333504.0, 7762666496.0, 7952000000.0, 8141333504.0, 8330666496.0, 8520000000.0, 8709332992.0, 8898666496.0, 9088000000.0, 9277333504.0, 9466667008.0, 9277333504.0, 9088000000.0, 8898666496.0, 8709332992.0, 8520000000.0, 8330666496.0, 8141333504.0, 7952000000.0, 7762666496.0, 7573333504.0, 7384000000.0, 7194666496.0, 7005333504.0, 6816000000.0, 6626666496.0, 6437333504.0, 6248000000.0, 6058666496.0, 5869333504.0, 5680000000.0, 5490666496.0, 5301333504.0, 5112000000.0, 4922666496.0, 4733333504.0, 4544000000.0, 4354666496.0, 4165333248.0, 3976000000.0, 3786666752.0, 3597333248.0, 3408000000.0, 3218666752.0, 3029333248.0, 2840000000.0, 2650666752.0, 2461333248.0, 2272000000.0, 2082666624.0, 1893333376.0, 1704000000.0, 1514666624.0, 1325333376.0, 1136000000.0, 946666688.0, 757333312.0, 568000000.0, 378666656.0, 189333328.0, 0.0, 189333328.0, 378666656.0, 568000000.0, 757333312.0, 946666688.0, 1136000000.0, 1325333376.0, 1514666624.0, 1704000000.0, 1893333376.0, 2082666624.0, 2272000000.0, 2461333248.0, 2650666752.0, 2840000000.0, 3029333248.0, 3218666752.0, 3408000000.0, 3597333248.0, 3786666752.0, 3976000000.0, 4165333248.0, 4354666496.0, 4544000000.0, 4733333504.0, 4922666496.0, 5112000000.0, 5301333504.0, 5490666496.0, 5680000000.0, 5869333504.0, 6058666496.0, 6248000000.0, 6437333504.0, 6626666496.0, 6816000000.0, 7005333504.0, 7194666496.0, 7384000000.0, 7573333504.0, 7762666496.0, 7952000000.0, 8141333504.0, 8330666496.0, 8520000000.0, 8709332992.0, 8898666496.0, 9088000000.0, 9277333504.0, 9466667008.0, 9277333504.0, 9088000000.0, 8898666496.0, 8709332992.0, 8520000000.0, 8330666496.0, 8141333504.0, 7952000000.0, 7762666496.0, 7573333504.0, 7384000000.0, 7194666496.0, 7005333504.0, 6816000000.0, 6626666496.0, 6437333504.0, 6248000000.0, 6058666496.0, 5869333504.0, 5680000000.0, 5490666496.0, 5301333504.0, 5112000000.0, 4922666496.0, 4733333504.0, 4544000000.0, 4354666496.0, 4165333248.0, 3976000000.0, 3786666752.0, 3597333248.0, 3408000000.0, 3218666752.0, 3029333248.0, 2840000000.0, 2650666752.0, 2461333248.0, 2272000000.0, 2082666624.0, 1893333376.0, 1704000000.0, 1514666624.0, 1325333376.0, 1136000000.0, 946666688.0, 757333312.0, 568000000.0, 378666656.0, 189333328.0, 1.1920928955078125e-06, 189333328.0, 378666656.0, 568000000.0, 757333312.0, 946666688.0, 1136000000.0, 1325333376.0, 1514666624.0, 1704000000.0, 1893333376.0, 2082666624.0, 2272000000.0, 2461333248.0, 2650666752.0, 2840000000.0, 3029333248.0, 3218666752.0, 3408000000.0, 3597333248.0, 3786666752.0, 3976000000.0, 4165333248.0, 4354666496.0, 4544000000.0, 4733333504.0, 4922666496.0, 5112000000.0, 5301333504.0, 5490666496.0, 5680000000.0, 5869333504.0, 6058666496.0, 6248000000.0, 6437333504.0, 6626666496.0, 6816000000.0, 7005333504.0, 7194666496.0, 7384000000.0, 7573333504.0, 7762666496.0, 7952000000.0, 8141333504.0, 8330666496.0, 8520000000.0, 8709332992.0, 8898666496.0, 9088000000.0, 9277333504.0, 9466667008.0, 9277333504.0, 9088000000.0, 8898666496.0, 8709332992.0, 8520000000.0, 8330666496.0, 8141333504.0, 7952000000.0, 7762666496.0, 7573333504.0, 7384000000.0, 7194666496.0, 7005333504.0, 6816000000.0, 6626666496.0, 6437333504.0, 6248000000.0, 6058666496.0, 5869333504.0, 5680000000.0, 5490666496.0, 5301333504.0, 5112000000.0, 4922666496.0, 4733333504.0, 4544000000.0, 4354666496.0, 4165333248.0, 3976000000.0, 3786666752.0, 3597333248.0, 3408000000.0, 3218666752.0, 3029333248.0, 2840000000.0, 2650666752.0, 2461333248.0, 2272000000.0, 2082666624.0, 1893333376.0, 1704000000.0, 1514666624.0, 1325333376.0, 1136000000.0, 946666688.0, 757333312.0, 568000000.0, 378666656.0, 189333328.0, 1.9073486328125e-06, 9466667008.0, 0.0001277923583984375], \"x\": [0.0, 1.0, 2.0, 2.0199999809265137, 2.0399999618530273, 2.059999942779541, 2.0799999237060547, 2.0999999046325684, 2.119999885559082, 2.140000104904175, 2.1600000858306885, 2.180000066757202, 2.200000047683716, 2.2200000286102295, 2.240000009536743, 2.259999990463257, 2.2799999713897705, 2.299999952316284, 2.319999933242798, 2.3399999141693115, 2.359999895095825, 2.380000114440918, 2.4000000953674316, 2.4200000762939453, 2.440000057220459, 2.4600000381469727, 2.4800000190734863, 2.5, 2.5199999809265137, 2.5399999618530273, 2.559999942779541, 2.5799999237060547, 2.5999999046325684, 2.619999885559082, 2.640000104904175, 2.6600000858306885, 2.680000066757202, 2.700000047683716, 2.7200000286102295, 2.740000009536743, 2.759999990463257, 2.7799999713897705, 2.799999952316284, 2.819999933242798, 2.8399999141693115, 2.859999895095825, 2.880000114440918, 2.9000000953674316, 2.9200000762939453, 2.940000057220459, 2.9600000381469727, 2.9800000190734863, 3.0, 3.0199999809265137, 3.0399999618530273, 3.059999942779541, 3.0799999237060547, 3.0999999046325684, 3.119999885559082, 3.140000104904175, 3.1600000858306885, 3.180000066757202, 3.200000047683716, 3.2200000286102295, 3.240000009536743, 3.259999990463257, 3.2799999713897705, 3.299999952316284, 3.319999933242798, 3.3399999141693115, 3.359999895095825, 3.380000114440918, 3.4000000953674316, 3.4200000762939453, 3.440000057220459, 3.4600000381469727, 3.4800000190734863, 3.5, 3.5199999809265137, 3.5399999618530273, 3.559999942779541, 3.5799999237060547, 3.5999999046325684, 3.619999885559082, 3.640000104904175, 3.6600000858306885, 3.680000066757202, 3.700000047683716, 3.7200000286102295, 3.740000009536743, 3.759999990463257, 3.7799999713897705, 3.799999952316284, 3.819999933242798, 3.8399999141693115, 3.859999895095825, 3.880000114440918, 3.9000000953674316, 3.9200000762939453, 3.940000057220459, 3.9600000381469727, 3.9800000190734863, 4.0, 4.019999980926514, 4.039999961853027, 4.059999942779541, 4.079999923706055, 4.099999904632568, 4.119999885559082, 4.139999866485596, 4.159999847412109, 4.179999828338623, 4.199999809265137, 4.21999979019165, 4.239999771118164, 4.260000228881836, 4.28000020980835, 4.300000190734863, 4.320000171661377, 4.340000152587891, 4.360000133514404, 4.380000114440918, 4.400000095367432, 4.420000076293945, 4.440000057220459, 4.460000038146973, 4.480000019073486, 4.5, 4.519999980926514, 4.539999961853027, 4.559999942779541, 4.579999923706055, 4.599999904632568, 4.619999885559082, 4.639999866485596, 4.659999847412109, 4.679999828338623, 4.699999809265137, 4.71999979019165, 4.739999771118164, 4.760000228881836, 4.78000020980835, 4.800000190734863, 4.820000171661377, 4.840000152587891, 4.860000133514404, 4.880000114440918, 4.900000095367432, 4.920000076293945, 4.940000057220459, 4.960000038146973, 4.980000019073486, 5.0, 5.019999980926514, 5.039999961853027, 5.059999942779541, 5.079999923706055, 5.099999904632568, 5.119999885559082, 5.139999866485596, 5.159999847412109, 5.179999828338623, 5.199999809265137, 5.21999979019165, 5.239999771118164, 5.260000228881836, 5.28000020980835, 5.300000190734863, 5.320000171661377, 5.340000152587891, 5.360000133514404, 5.380000114440918, 5.400000095367432, 5.420000076293945, 5.440000057220459, 5.460000038146973, 5.480000019073486, 5.5, 5.519999980926514, 5.539999961853027, 5.559999942779541, 5.579999923706055, 5.599999904632568, 5.619999885559082, 5.639999866485596, 5.659999847412109, 5.679999828338623, 5.699999809265137, 5.71999979019165, 5.739999771118164, 5.760000228881836, 5.78000020980835, 5.800000190734863, 5.820000171661377, 5.840000152587891, 5.860000133514404, 5.880000114440918, 5.900000095367432, 5.920000076293945, 5.940000057220459, 5.960000038146973, 5.980000019073486, 6.0, 6.019999980926514, 6.039999961853027, 6.059999942779541, 6.079999923706055, 6.099999904632568, 6.119999885559082, 6.139999866485596, 6.159999847412109, 6.179999828338623, 6.199999809265137, 6.21999979019165, 6.239999771118164, 6.260000228881836, 6.28000020980835, 6.300000190734863, 6.320000171661377, 6.340000152587891, 6.360000133514404, 6.380000114440918, 6.400000095367432, 6.420000076293945, 6.440000057220459, 6.460000038146973, 6.480000019073486, 6.5, 6.519999980926514, 6.539999961853027, 6.559999942779541, 6.579999923706055, 6.599999904632568, 6.619999885559082, 6.639999866485596, 6.659999847412109, 6.679999828338623, 6.699999809265137, 6.71999979019165, 6.739999771118164, 6.760000228881836, 6.78000020980835, 6.800000190734863, 6.820000171661377, 6.840000152587891, 6.860000133514404, 6.880000114440918, 6.900000095367432, 6.920000076293945, 6.940000057220459, 6.960000038146973, 6.980000019073486, 7.0, 7.019999980926514, 7.039999961853027, 7.059999942779541, 7.079999923706055, 7.099999904632568, 7.119999885559082, 7.139999866485596, 7.159999847412109, 7.179999828338623, 7.199999809265137, 7.21999979019165, 7.239999771118164, 7.260000228881836, 7.28000020980835, 7.300000190734863, 7.320000171661377, 7.340000152587891, 7.360000133514404, 7.380000114440918, 7.400000095367432, 7.420000076293945, 7.440000057220459, 7.460000038146973, 7.480000019073486, 7.5, 7.519999980926514, 7.539999961853027, 7.559999942779541, 7.579999923706055, 7.599999904632568, 7.619999885559082, 7.639999866485596, 7.659999847412109, 7.679999828338623, 7.699999809265137, 7.71999979019165, 7.739999771118164, 7.760000228881836, 7.78000020980835, 7.800000190734863, 7.820000171661377, 7.840000152587891, 7.860000133514404, 7.880000114440918, 7.900000095367432, 7.920000076293945, 7.940000057220459, 7.960000038146973, 7.980000019073486, 8.0, 8.020000457763672, 8.039999961853027, 8.0600004196167, 8.079999923706055, 8.100000381469727, 8.119999885559082, 8.140000343322754, 8.15999984741211, 8.180000305175781, 8.199999809265137, 8.220000267028809, 8.239999771118164, 8.260000228881836, 8.279999732971191, 8.300000190734863, 8.319999694824219, 8.34000015258789, 8.359999656677246, 8.380000114440918, 8.399999618530273, 8.420000076293945, 8.4399995803833, 8.460000038146973, 8.479999542236328, 8.5, 8.520000457763672, 8.539999961853027, 8.5600004196167, 8.579999923706055, 8.600000381469727, 8.619999885559082, 8.640000343322754, 8.65999984741211, 8.680000305175781, 8.699999809265137, 8.720000267028809, 8.739999771118164, 8.760000228881836, 8.779999732971191, 8.800000190734863, 8.819999694824219, 8.84000015258789, 8.859999656677246, 8.880000114440918, 8.899999618530273, 8.920000076293945, 8.9399995803833, 8.960000038146973, 8.979999542236328, 9.0, 9.020000457763672, 9.039999961853027, 9.0600004196167, 9.079999923706055, 9.100000381469727, 9.119999885559082, 9.140000343322754, 9.15999984741211, 9.180000305175781, 9.199999809265137, 9.220000267028809, 9.239999771118164, 9.260000228881836, 9.279999732971191, 9.300000190734863, 9.319999694824219, 9.34000015258789, 9.359999656677246, 9.380000114440918, 9.399999618530273, 9.420000076293945, 9.4399995803833, 9.460000038146973, 9.479999542236328, 9.5, 9.520000457763672, 9.539999961853027, 9.5600004196167, 9.579999923706055, 9.600000381469727, 9.619999885559082, 9.640000343322754, 9.65999984741211, 9.680000305175781, 9.699999809265137, 9.720000267028809, 9.739999771118164, 9.760000228881836, 9.779999732971191, 9.800000190734863, 9.819999694824219, 9.84000015258789, 9.859999656677246, 9.880000114440918, 9.899999618530273, 9.920000076293945, 9.9399995803833, 9.960000038146973, 9.979999542236328, 10.0, 11.0, 12.0]}}, \"type\": \"ColumnDataSource\", \"id\": \"60804458-819c-4f5f-897b-80f928b48507\"}, {\"attributes\": {\"x_range\": {\"type\": \"DataRange1d\", \"id\": \"ab4f8e03-a48c-4f1b-8eb9-8ce6b4fd95ec\"}, \"y_range\": {\"type\": \"DataRange1d\", \"id\": \"2ffb7639-8d53-4af8-930c-cd8529d6a034\"}, \"renderers\": [{\"type\": \"LinearAxis\", \"id\": \"2b1f6efc-1474-4b5c-9ff0-5bbaaecc7b96\"}, {\"type\": \"Grid\", \"id\": \"8a177fe0-9772-45d0-bacf-16e4a8a21e13\"}, {\"type\": \"LinearAxis\", \"id\": \"33bef7c2-b1c6-4399-b914-944b87f96ed3\"}, {\"type\": \"Grid\", \"id\": \"8fa6e812-ebd2-4311-9a35-b3dfcdd5fe83\"}, {\"type\": \"BoxAnnotation\", \"id\": \"feaf1991-ec66-4434-9fe2-aa3d66a86aed\"}, {\"type\": \"GlyphRenderer\", \"id\": \"7c74240a-8ef2-4f7a-98a6-a6fa86c8ade7\"}], \"plot_width\": 650, \"below\": [{\"type\": \"LinearAxis\", \"id\": \"2b1f6efc-1474-4b5c-9ff0-5bbaaecc7b96\"}], \"tool_events\": {\"type\": \"ToolEvents\", \"id\": \"02d067f8-3014-4c8d-a2f1-ebb74764ec90\"}, \"plot_height\": 500, \"tools\": [{\"type\": \"ResizeTool\", \"id\": \"592e6610-9484-4834-84ed-93a9a109114e\"}, {\"type\": \"PanTool\", \"id\": \"f1e83777-24ef-4927-b884-93baf6c3d0e5\"}, {\"type\": \"WheelZoomTool\", \"id\": \"8b4c8688-de33-4326-99e7-b74140d1f7d5\"}, {\"type\": \"BoxZoomTool\", \"id\": \"e94534dc-6504-439c-a592-49c4a5c1b715\"}, {\"type\": \"ResetTool\", \"id\": \"e916ed2b-1d72-4b66-b88f-21f3757cb647\"}, {\"type\": \"PreviewSaveTool\", \"id\": \"c35c7635-4d91-4797-bebb-52bd336e714a\"}], \"left\": [{\"type\": \"LinearAxis\", \"id\": \"33bef7c2-b1c6-4399-b914-944b87f96ed3\"}]}, \"type\": \"Plot\", \"id\": \"4adaf421-e6c1-476c-b764-c02ceb0e1e36\", \"subtype\": \"Figure\"}, {\"attributes\": {\"callback\": null}, \"type\": \"DataRange1d\", \"id\": \"2ffb7639-8d53-4af8-930c-cd8529d6a034\"}, {\"attributes\": {}, \"type\": \"ToolEvents\", \"id\": \"1a8f3a65-861f-4690-bdd3-34c560881eae\"}, {\"attributes\": {}, \"type\": \"BasicTickFormatter\", \"id\": \"d88b5487-a599-453e-9580-6280e529e1c7\"}, {\"attributes\": {\"callback\": null}, \"type\": \"DataRange1d\", \"id\": \"ab4f8e03-a48c-4f1b-8eb9-8ce6b4fd95ec\"}, {\"attributes\": {\"plot\": {\"subtype\": \"Figure\", \"type\": \"Plot\", \"id\": \"d92e0424-df67-46ac-9b26-40a5800bd8cf\"}, \"ticker\": {\"type\": \"BasicTicker\", \"id\": \"f49cbd64-c61b-49eb-b046-25c8b3774595\"}, \"dimension\": 1}, \"type\": \"Grid\", \"id\": \"90644cb0-c81c-4827-b31f-e80ba419af5a\"}, {\"attributes\": {\"plot\": {\"subtype\": \"Figure\", \"type\": \"Plot\", \"id\": \"d92e0424-df67-46ac-9b26-40a5800bd8cf\"}}, \"type\": \"WheelZoomTool\", \"id\": \"371e8462-fa19-41ba-9256-beaadea225df\"}, {\"attributes\": {\"line_color\": {\"value\": \"#1f77b4\"}, \"x\": {\"field\": \"x\"}, \"y\": {\"field\": \"y\"}}, \"type\": \"Line\", \"id\": \"8dbf13ef-b623-4b1a-b391-bcb7588b0d8b\"}, {\"attributes\": {\"line_color\": {\"value\": \"#1f77b4\"}, \"line_alpha\": {\"value\": 0.1}, \"y\": {\"field\": \"y\"}, \"x\": {\"field\": \"x\"}}, \"type\": \"Line\", \"id\": \"4d0e2cec-1966-4e41-ae2f-3f25abbb0aa9\"}, {\"attributes\": {}, \"type\": \"BasicTicker\", \"id\": \"f49cbd64-c61b-49eb-b046-25c8b3774595\"}, {\"attributes\": {\"line_color\": {\"value\": \"#1f77b4\"}, \"line_alpha\": {\"value\": 0.1}, \"y\": {\"field\": \"y\"}, \"x\": {\"field\": \"x\"}}, \"type\": \"Line\", \"id\": \"3e485694-c891-47f1-b7d8-b847f1dec6c6\"}, {\"attributes\": {\"nonselection_glyph\": {\"type\": \"Line\", \"id\": \"4d0e2cec-1966-4e41-ae2f-3f25abbb0aa9\"}, \"data_source\": {\"type\": \"ColumnDataSource\", \"id\": \"0879b1e4-8d41-4f13-a9ee-b3d273e03e58\"}, \"selection_glyph\": null, \"hover_glyph\": null, \"glyph\": {\"type\": \"Line\", \"id\": \"db86850e-cd9c-4817-8725-f25f3c72e28d\"}}, \"type\": \"GlyphRenderer\", \"id\": \"7c74240a-8ef2-4f7a-98a6-a6fa86c8ade7\"}, {\"attributes\": {\"plot\": {\"subtype\": \"Figure\", \"type\": \"Plot\", \"id\": \"c21886f1-09f4-46cc-bf63-7a130eb644c0\"}, \"ticker\": {\"type\": \"BasicTicker\", \"id\": \"8fca9a2d-4050-4ba2-a219-657d83bf336c\"}}, \"type\": \"Grid\", \"id\": \"d65e90e7-537d-4c7c-a3a7-cd7d1781e22d\"}, {\"attributes\": {\"callback\": null}, \"type\": \"DataRange1d\", \"id\": \"3cc17919-641d-4b2f-b0d2-ad3e0b2d0110\"}, {\"attributes\": {\"plot\": {\"subtype\": \"Figure\", \"type\": \"Plot\", \"id\": \"d92e0424-df67-46ac-9b26-40a5800bd8cf\"}}, \"type\": \"PreviewSaveTool\", \"id\": \"9c6eaff6-90a7-45a9-be4a-acfc9aa47baa\"}, {\"attributes\": {\"plot\": {\"subtype\": \"Figure\", \"type\": \"Plot\", \"id\": \"c21886f1-09f4-46cc-bf63-7a130eb644c0\"}, \"axis_label\": \"Time\", \"formatter\": {\"type\": \"BasicTickFormatter\", \"id\": \"00c9fbf6-2ede-4682-8beb-fb4bedb59cf9\"}, \"ticker\": {\"type\": \"BasicTicker\", \"id\": \"8fca9a2d-4050-4ba2-a219-657d83bf336c\"}}, \"type\": \"LinearAxis\", \"id\": \"e8b4d002-16a5-4c4d-bb38-4af9eaa96a27\"}, {\"attributes\": {\"callback\": null}, \"type\": \"DataRange1d\", \"id\": \"c46804a2-25fe-47e8-9d36-40bf56c4914c\"}, {\"attributes\": {}, \"type\": \"BasicTicker\", \"id\": \"8fca9a2d-4050-4ba2-a219-657d83bf336c\"}, {\"attributes\": {\"line_color\": {\"value\": \"black\"}, \"line_alpha\": {\"value\": 1.0}, \"render_mode\": \"css\", \"bottom_units\": \"screen\", \"level\": \"overlay\", \"top_units\": \"screen\", \"fill_alpha\": {\"value\": 0.5}, \"plot\": null, \"left_units\": \"screen\", \"line_dash\": [4, 4], \"line_width\": {\"value\": 2}, \"right_units\": \"screen\", \"fill_color\": {\"value\": \"lightgrey\"}}, \"type\": \"BoxAnnotation\", \"id\": \"4280df9e-f246-4fd2-bd12-cb63bee8d778\"}, {\"attributes\": {\"plot\": {\"subtype\": \"Figure\", \"type\": \"Plot\", \"id\": \"c21886f1-09f4-46cc-bf63-7a130eb644c0\"}}, \"type\": \"ResetTool\", \"id\": \"2ce2aaf8-1096-452a-b2a0-da5caa0390bd\"}, {\"attributes\": {\"line_color\": {\"value\": \"black\"}, \"line_alpha\": {\"value\": 1.0}, \"render_mode\": \"css\", \"bottom_units\": \"screen\", \"level\": \"overlay\", \"top_units\": \"screen\", \"fill_alpha\": {\"value\": 0.5}, \"plot\": null, \"left_units\": \"screen\", \"line_dash\": [4, 4], \"line_width\": {\"value\": 2}, \"right_units\": \"screen\", \"fill_color\": {\"value\": \"lightgrey\"}}, \"type\": \"BoxAnnotation\", \"id\": \"bc0411b0-c8fa-4561-9a79-baeedbbef81e\"}, {\"attributes\": {}, \"type\": \"BasicTickFormatter\", \"id\": \"00c9fbf6-2ede-4682-8beb-fb4bedb59cf9\"}, {\"attributes\": {}, \"type\": \"ToolEvents\", \"id\": \"6a18259d-50ae-4e3f-b5ef-34db87d8581b\"}, {\"attributes\": {}, \"type\": \"BasicTickFormatter\", \"id\": \"b518cbe7-289c-4f85-a800-eaf1853d1248\"}, {\"attributes\": {\"plot\": {\"subtype\": \"Figure\", \"type\": \"Plot\", \"id\": \"d92e0424-df67-46ac-9b26-40a5800bd8cf\"}}, \"type\": \"ResetTool\", \"id\": \"a0449370-7af2-4653-9733-5949642330f6\"}, {\"attributes\": {}, \"type\": \"BasicTicker\", \"id\": \"f02b533b-0622-46a6-b539-a44472e2580e\"}, {\"attributes\": {\"plot\": {\"subtype\": \"Figure\", \"type\": \"Plot\", \"id\": \"4adaf421-e6c1-476c-b764-c02ceb0e1e36\"}}, \"type\": \"ResizeTool\", \"id\": \"592e6610-9484-4834-84ed-93a9a109114e\"}, {\"attributes\": {\"plot\": {\"subtype\": \"Figure\", \"type\": \"Plot\", \"id\": \"c21886f1-09f4-46cc-bf63-7a130eb644c0\"}}, \"type\": \"PanTool\", \"id\": \"9756966e-7a8d-4f95-9112-d6a00d432e00\"}, {\"attributes\": {\"plot\": {\"subtype\": \"Figure\", \"type\": \"Plot\", \"id\": \"c21886f1-09f4-46cc-bf63-7a130eb644c0\"}, \"ticker\": {\"type\": \"BasicTicker\", \"id\": \"dfd7d315-ef27-44b7-af76-545414c72807\"}, \"dimension\": 1}, \"type\": \"Grid\", \"id\": \"ea19137f-aee2-4c4b-8fa2-962afb8dea2b\"}, {\"attributes\": {\"x_range\": {\"type\": \"DataRange1d\", \"id\": \"c46804a2-25fe-47e8-9d36-40bf56c4914c\"}, \"y_range\": {\"type\": \"DataRange1d\", \"id\": \"3cc17919-641d-4b2f-b0d2-ad3e0b2d0110\"}, \"renderers\": [{\"type\": \"LinearAxis\", \"id\": \"e8b4d002-16a5-4c4d-bb38-4af9eaa96a27\"}, {\"type\": \"Grid\", \"id\": \"d65e90e7-537d-4c7c-a3a7-cd7d1781e22d\"}, {\"type\": \"LinearAxis\", \"id\": \"6a0c75af-1e54-4715-bf87-8ad3ad0374ec\"}, {\"type\": \"Grid\", \"id\": \"ea19137f-aee2-4c4b-8fa2-962afb8dea2b\"}, {\"type\": \"BoxAnnotation\", \"id\": \"bc0411b0-c8fa-4561-9a79-baeedbbef81e\"}, {\"type\": \"GlyphRenderer\", \"id\": \"eace9b34-9c53-4b5b-9c54-35fe57b9f1c0\"}, {\"type\": \"GlyphRenderer\", \"id\": \"02f95a6a-5f22-42cb-9ee6-2aed7d746877\"}], \"below\": [{\"type\": \"LinearAxis\", \"id\": \"e8b4d002-16a5-4c4d-bb38-4af9eaa96a27\"}], \"tool_events\": {\"type\": \"ToolEvents\", \"id\": \"1a8f3a65-861f-4690-bdd3-34c560881eae\"}, \"tools\": [{\"type\": \"ResizeTool\", \"id\": \"434cc667-2ef6-46d6-b0e6-f5787abdb36d\"}, {\"type\": \"PanTool\", \"id\": \"9756966e-7a8d-4f95-9112-d6a00d432e00\"}, {\"type\": \"WheelZoomTool\", \"id\": \"1fe8c439-d643-4fe4-ac2c-b8d526bc00ed\"}, {\"type\": \"BoxZoomTool\", \"id\": \"916b8eeb-c860-43e0-9398-16cb54e2fc6b\"}, {\"type\": \"ResetTool\", \"id\": \"2ce2aaf8-1096-452a-b2a0-da5caa0390bd\"}, {\"type\": \"PreviewSaveTool\", \"id\": \"1f8ce26e-30cc-4ca4-ba9d-e0662f2112db\"}], \"left\": [{\"type\": \"LinearAxis\", \"id\": \"6a0c75af-1e54-4715-bf87-8ad3ad0374ec\"}]}, \"type\": \"Plot\", \"id\": \"c21886f1-09f4-46cc-bf63-7a130eb644c0\", \"subtype\": \"Figure\"}, {\"attributes\": {}, \"type\": \"ToolEvents\", \"id\": \"02d067f8-3014-4c8d-a2f1-ebb74764ec90\"}, {\"attributes\": {}, \"type\": \"BasicTicker\", \"id\": \"72baef79-5297-4a8e-9616-2d478704f20a\"}, {\"attributes\": {\"callback\": null}, \"type\": \"DataRange1d\", \"id\": \"83e809a9-f956-414d-b5e4-929a35f277e5\"}, {\"attributes\": {\"plot\": {\"subtype\": \"Figure\", \"type\": \"Plot\", \"id\": \"4adaf421-e6c1-476c-b764-c02ceb0e1e36\"}, \"ticker\": {\"type\": \"BasicTicker\", \"id\": \"f02b533b-0622-46a6-b539-a44472e2580e\"}, \"dimension\": 1}, \"type\": \"Grid\", \"id\": \"8fa6e812-ebd2-4311-9a35-b3dfcdd5fe83\"}, {\"attributes\": {\"plot\": {\"subtype\": \"Figure\", \"type\": \"Plot\", \"id\": \"4adaf421-e6c1-476c-b764-c02ceb0e1e36\"}, \"axis_label\": \"Time\", \"formatter\": {\"type\": \"BasicTickFormatter\", \"id\": \"b9f7a174-ae0f-4513-943d-453dd1a23be4\"}, \"ticker\": {\"type\": \"BasicTicker\", \"id\": \"3bd2a95e-0529-4cbb-a2ea-6f9520fd08fe\"}}, \"type\": \"LinearAxis\", \"id\": \"2b1f6efc-1474-4b5c-9ff0-5bbaaecc7b96\"}, {\"attributes\": {\"plot\": {\"subtype\": \"Figure\", \"type\": \"Plot\", \"id\": \"4adaf421-e6c1-476c-b764-c02ceb0e1e36\"}, \"ticker\": {\"type\": \"BasicTicker\", \"id\": \"3bd2a95e-0529-4cbb-a2ea-6f9520fd08fe\"}}, \"type\": \"Grid\", \"id\": \"8a177fe0-9772-45d0-bacf-16e4a8a21e13\"}, {\"attributes\": {\"line_color\": {\"value\": \"red\"}, \"x\": {\"field\": \"x\"}, \"y\": {\"field\": \"y\"}}, \"type\": \"Line\", \"id\": \"cf40ed19-90fd-4799-a924-a164adb2a9e6\"}, {\"attributes\": {\"callback\": null}, \"type\": \"DataRange1d\", \"id\": \"f7826f1c-7cd5-4c10-a425-a6681f46a458\"}, {\"attributes\": {\"plot\": {\"subtype\": \"Figure\", \"type\": \"Plot\", \"id\": \"4adaf421-e6c1-476c-b764-c02ceb0e1e36\"}, \"axis_label\": \"E.XX\", \"formatter\": {\"type\": \"BasicTickFormatter\", \"id\": \"058ab957-fd5e-4482-a07b-4569f877ab5b\"}, \"ticker\": {\"type\": \"BasicTicker\", \"id\": \"f02b533b-0622-46a6-b539-a44472e2580e\"}}, \"type\": \"LinearAxis\", \"id\": \"33bef7c2-b1c6-4399-b914-944b87f96ed3\"}, {\"attributes\": {\"plot\": {\"subtype\": \"Figure\", \"type\": \"Plot\", \"id\": \"d92e0424-df67-46ac-9b26-40a5800bd8cf\"}, \"axis_label\": \"E.XX\", \"formatter\": {\"type\": \"BasicTickFormatter\", \"id\": \"b518cbe7-289c-4f85-a800-eaf1853d1248\"}, \"ticker\": {\"type\": \"BasicTicker\", \"id\": \"f49cbd64-c61b-49eb-b046-25c8b3774595\"}}, \"type\": \"LinearAxis\", \"id\": \"c2126ede-c62b-4fde-a079-e4247dcdeb98\"}, {\"attributes\": {}, \"type\": \"BasicTickFormatter\", \"id\": \"8b8976b1-b7a8-4232-afd1-158b70ef2c84\"}, {\"attributes\": {\"plot\": {\"subtype\": \"Figure\", \"type\": \"Plot\", \"id\": \"4adaf421-e6c1-476c-b764-c02ceb0e1e36\"}}, \"type\": \"PreviewSaveTool\", \"id\": \"c35c7635-4d91-4797-bebb-52bd336e714a\"}, {\"attributes\": {\"plot\": {\"subtype\": \"Figure\", \"type\": \"Plot\", \"id\": \"d92e0424-df67-46ac-9b26-40a5800bd8cf\"}, \"overlay\": {\"type\": \"BoxAnnotation\", \"id\": \"4280df9e-f246-4fd2-bd12-cb63bee8d778\"}}, \"type\": \"BoxZoomTool\", \"id\": \"4b6f258d-8d18-4d66-add1-b62be731f00b\"}, {\"attributes\": {\"line_color\": {\"value\": \"#1f77b4\"}, \"x\": {\"field\": \"x\"}, \"y\": {\"field\": \"y\"}}, \"type\": \"Line\", \"id\": \"db86850e-cd9c-4817-8725-f25f3c72e28d\"}, {\"attributes\": {\"callback\": null, \"column_names\": [\"y\", \"x\"], \"data\": {\"y\": [0.0, 0.10000000149011612, 0.0, 0.0020000000949949026, 0.004000000189989805, 0.006000000052154064, 0.00800000037997961, 0.009999999776482582, 0.012000000104308128, 0.014000000432133675, 0.01600000075995922, 0.017999999225139618, 0.019999999552965164, 0.02199999988079071, 0.024000000208616257, 0.026000000536441803, 0.02800000086426735, 0.029999999329447746, 0.03200000151991844, 0.03400000184774399, 0.035999998450279236, 0.03799999877810478, 0.03999999910593033, 0.041999999433755875, 0.04399999976158142, 0.04600000008940697, 0.04800000041723251, 0.05000000074505806, 0.052000001072883606, 0.05400000140070915, 0.0560000017285347, 0.057999998331069946, 0.05999999865889549, 0.06199999898672104, 0.06400000303983688, 0.06599999964237213, 0.06800000369548798, 0.07000000029802322, 0.07199999690055847, 0.07400000095367432, 0.07599999755620956, 0.07800000160932541, 0.07999999821186066, 0.0820000022649765, 0.08399999886751175, 0.0860000029206276, 0.08799999952316284, 0.09000000357627869, 0.09200000017881393, 0.09399999678134918, 0.09600000083446503, 0.09799999743700027, 0.10000000149011612, 0.09799999743700027, 0.09600000083446503, 0.09399999678134918, 0.09200000017881393, 0.09000000357627869, 0.08799999952316284, 0.0860000029206276, 0.08399999886751175, 0.0820000022649765, 0.07999999821186066, 0.07800000160932541, 0.07599999755620956, 0.07400000095367432, 0.07199999690055847, 0.07000000029802322, 0.06800000369548798, 0.06599999964237213, 0.06400000303983688, 0.06199999898672104, 0.05999999865889549, 0.057999998331069946, 0.0560000017285347, 0.05400000140070915, 0.052000001072883606, 0.05000000074505806, 0.04800000041723251, 0.04600000008940697, 0.04399999976158142, 0.041999999433755875, 0.03999999910593033, 0.03799999877810478, 0.035999998450279236, 0.03400000184774399, 0.03200000151991844, 0.029999999329447746, 0.02800000086426735, 0.026000000536441803, 0.024000000208616257, 0.02199999988079071, 0.019999999552965164, 0.017999999225139618, 0.01600000075995922, 0.014000000432133675, 0.012000000104308128, 0.009999999776482582, 0.00800000037997961, 0.006000000052154064, 0.004000000189989805, 0.0020000000949949026, 2.220446049250313e-15, 0.0020000000949949026, 0.004000000189989805, 0.006000000052154064, 0.00800000037997961, 0.009999999776482582, 0.012000000104308128, 0.014000000432133675, 0.01600000075995922, 0.017999999225139618, 0.019999999552965164, 0.02199999988079071, 0.024000000208616257, 0.026000000536441803, 0.02800000086426735, 0.029999999329447746, 0.03200000151991844, 0.03400000184774399, 0.035999998450279236, 0.03799999877810478, 0.03999999910593033, 0.041999999433755875, 0.04399999976158142, 0.04600000008940697, 0.04800000041723251, 0.05000000074505806, 0.052000001072883606, 0.05400000140070915, 0.0560000017285347, 0.057999998331069946, 0.05999999865889549, 0.06199999898672104, 0.06400000303983688, 0.06599999964237213, 0.06800000369548798, 0.07000000029802322, 0.07199999690055847, 0.07400000095367432, 0.07599999755620956, 0.07800000160932541, 0.07999999821186066, 0.0820000022649765, 0.08399999886751175, 0.0860000029206276, 0.08799999952316284, 0.09000000357627869, 0.09200000017881393, 0.09399999678134918, 0.09600000083446503, 0.09799999743700027, 0.10000000149011612, 0.09799999743700027, 0.09600000083446503, 0.09399999678134918, 0.09200000017881393, 0.09000000357627869, 0.08799999952316284, 0.0860000029206276, 0.08399999886751175, 0.0820000022649765, 0.07999999821186066, 0.07800000160932541, 0.07599999755620956, 0.07400000095367432, 0.07199999690055847, 0.07000000029802322, 0.06800000369548798, 0.06599999964237213, 0.06400000303983688, 0.06199999898672104, 0.05999999865889549, 0.057999998331069946, 0.0560000017285347, 0.05400000140070915, 0.052000001072883606, 0.05000000074505806, 0.04800000041723251, 0.04600000008940697, 0.04399999976158142, 0.041999999433755875, 0.03999999910593033, 0.03799999877810478, 0.035999998450279236, 0.03400000184774399, 0.03200000151991844, 0.029999999329447746, 0.02800000086426735, 0.026000000536441803, 0.024000000208616257, 0.02199999988079071, 0.019999999552965164, 0.017999999225139618, 0.01600000075995922, 0.014000000432133675, 0.012000000104308128, 0.009999999776482582, 0.00800000037997961, 0.006000000052154064, 0.004000000189989805, 0.0020000000949949026, 0.0, 0.0020000000949949026, 0.004000000189989805, 0.006000000052154064, 0.00800000037997961, 0.009999999776482582, 0.012000000104308128, 0.014000000432133675, 0.01600000075995922, 0.017999999225139618, 0.019999999552965164, 0.02199999988079071, 0.024000000208616257, 0.026000000536441803, 0.02800000086426735, 0.029999999329447746, 0.03200000151991844, 0.03400000184774399, 0.035999998450279236, 0.03799999877810478, 0.03999999910593033, 0.041999999433755875, 0.04399999976158142, 0.04600000008940697, 0.04800000041723251, 0.05000000074505806, 0.052000001072883606, 0.05400000140070915, 0.0560000017285347, 0.057999998331069946, 0.05999999865889549, 0.06199999898672104, 0.06400000303983688, 0.06599999964237213, 0.06800000369548798, 0.07000000029802322, 0.07199999690055847, 0.07400000095367432, 0.07599999755620956, 0.07800000160932541, 0.07999999821186066, 0.0820000022649765, 0.08399999886751175, 0.0860000029206276, 0.08799999952316284, 0.09000000357627869, 0.09200000017881393, 0.09399999678134918, 0.09600000083446503, 0.09799999743700027, 0.10000000149011612, 0.09799999743700027, 0.09600000083446503, 0.09399999678134918, 0.09200000017881393, 0.09000000357627869, 0.08799999952316284, 0.0860000029206276, 0.08399999886751175, 0.0820000022649765, 0.07999999821186066, 0.07800000160932541, 0.07599999755620956, 0.07400000095367432, 0.07199999690055847, 0.07000000029802322, 0.06800000369548798, 0.06599999964237213, 0.06400000303983688, 0.06199999898672104, 0.05999999865889549, 0.057999998331069946, 0.0560000017285347, 0.05400000140070915, 0.052000001072883606, 0.05000000074505806, 0.04800000041723251, 0.04600000008940697, 0.04399999976158142, 0.041999999433755875, 0.03999999910593033, 0.03799999877810478, 0.035999998450279236, 0.03400000184774399, 0.03200000151991844, 0.029999999329447746, 0.02800000086426735, 0.026000000536441803, 0.024000000208616257, 0.02199999988079071, 0.019999999552965164, 0.017999999225139618, 0.01600000075995922, 0.014000000432133675, 0.012000000104308128, 0.009999999776482582, 0.00800000037997961, 0.006000000052154064, 0.004000000189989805, 0.0020000000949949026, 0.0, 0.0020000000949949026, 0.004000000189989805, 0.006000000052154064, 0.00800000037997961, 0.009999999776482582, 0.012000000104308128, 0.014000000432133675, 0.01600000075995922, 0.017999999225139618, 0.019999999552965164, 0.02199999988079071, 0.024000000208616257, 0.026000000536441803, 0.02800000086426735, 0.029999999329447746, 0.03200000151991844, 0.03400000184774399, 0.035999998450279236, 0.03799999877810478, 0.03999999910593033, 0.041999999433755875, 0.04399999976158142, 0.04600000008940697, 0.04800000041723251, 0.05000000074505806, 0.052000001072883606, 0.05400000140070915, 0.0560000017285347, 0.057999998331069946, 0.05999999865889549, 0.06199999898672104, 0.06400000303983688, 0.06599999964237213, 0.06800000369548798, 0.07000000029802322, 0.07199999690055847, 0.07400000095367432, 0.07599999755620956, 0.07800000160932541, 0.07999999821186066, 0.0820000022649765, 0.08399999886751175, 0.0860000029206276, 0.08799999952316284, 0.09000000357627869, 0.09200000017881393, 0.09399999678134918, 0.09600000083446503, 0.09799999743700027, 0.10000000149011612, 0.09799999743700027, 0.09600000083446503, 0.09399999678134918, 0.09200000017881393, 0.09000000357627869, 0.08799999952316284, 0.0860000029206276, 0.08399999886751175, 0.0820000022649765, 0.07999999821186066, 0.07800000160932541, 0.07599999755620956, 0.07400000095367432, 0.07199999690055847, 0.07000000029802322, 0.06800000369548798, 0.06599999964237213, 0.06400000303983688, 0.06199999898672104, 0.05999999865889549, 0.057999998331069946, 0.0560000017285347, 0.05400000140070915, 0.052000001072883606, 0.05000000074505806, 0.04800000041723251, 0.04600000008940697, 0.04399999976158142, 0.041999999433755875, 0.03999999910593033, 0.03799999877810478, 0.035999998450279236, 0.03400000184774399, 0.03200000151991844, 0.029999999329447746, 0.02800000086426735, 0.026000000536441803, 0.024000000208616257, 0.02199999988079071, 0.019999999552965164, 0.017999999225139618, 0.01600000075995922, 0.014000000432133675, 0.012000000104308128, 0.009999999776482582, 0.00800000037997961, 0.006000000052154064, 0.004000000189989805, 0.0020000000949949026, -1.3322676295501878e-15, 0.10000000149011612, 0.0], \"x\": [0.0, 1.0, 2.0, 2.0199999809265137, 2.0399999618530273, 2.059999942779541, 2.0799999237060547, 2.0999999046325684, 2.119999885559082, 2.140000104904175, 2.1600000858306885, 2.180000066757202, 2.200000047683716, 2.2200000286102295, 2.240000009536743, 2.259999990463257, 2.2799999713897705, 2.299999952316284, 2.319999933242798, 2.3399999141693115, 2.359999895095825, 2.380000114440918, 2.4000000953674316, 2.4200000762939453, 2.440000057220459, 2.4600000381469727, 2.4800000190734863, 2.5, 2.5199999809265137, 2.5399999618530273, 2.559999942779541, 2.5799999237060547, 2.5999999046325684, 2.619999885559082, 2.640000104904175, 2.6600000858306885, 2.680000066757202, 2.700000047683716, 2.7200000286102295, 2.740000009536743, 2.759999990463257, 2.7799999713897705, 2.799999952316284, 2.819999933242798, 2.8399999141693115, 2.859999895095825, 2.880000114440918, 2.9000000953674316, 2.9200000762939453, 2.940000057220459, 2.9600000381469727, 2.9800000190734863, 3.0, 3.0199999809265137, 3.0399999618530273, 3.059999942779541, 3.0799999237060547, 3.0999999046325684, 3.119999885559082, 3.140000104904175, 3.1600000858306885, 3.180000066757202, 3.200000047683716, 3.2200000286102295, 3.240000009536743, 3.259999990463257, 3.2799999713897705, 3.299999952316284, 3.319999933242798, 3.3399999141693115, 3.359999895095825, 3.380000114440918, 3.4000000953674316, 3.4200000762939453, 3.440000057220459, 3.4600000381469727, 3.4800000190734863, 3.5, 3.5199999809265137, 3.5399999618530273, 3.559999942779541, 3.5799999237060547, 3.5999999046325684, 3.619999885559082, 3.640000104904175, 3.6600000858306885, 3.680000066757202, 3.700000047683716, 3.7200000286102295, 3.740000009536743, 3.759999990463257, 3.7799999713897705, 3.799999952316284, 3.819999933242798, 3.8399999141693115, 3.859999895095825, 3.880000114440918, 3.9000000953674316, 3.9200000762939453, 3.940000057220459, 3.9600000381469727, 3.9800000190734863, 4.0, 4.019999980926514, 4.039999961853027, 4.059999942779541, 4.079999923706055, 4.099999904632568, 4.119999885559082, 4.139999866485596, 4.159999847412109, 4.179999828338623, 4.199999809265137, 4.21999979019165, 4.239999771118164, 4.260000228881836, 4.28000020980835, 4.300000190734863, 4.320000171661377, 4.340000152587891, 4.360000133514404, 4.380000114440918, 4.400000095367432, 4.420000076293945, 4.440000057220459, 4.460000038146973, 4.480000019073486, 4.5, 4.519999980926514, 4.539999961853027, 4.559999942779541, 4.579999923706055, 4.599999904632568, 4.619999885559082, 4.639999866485596, 4.659999847412109, 4.679999828338623, 4.699999809265137, 4.71999979019165, 4.739999771118164, 4.760000228881836, 4.78000020980835, 4.800000190734863, 4.820000171661377, 4.840000152587891, 4.860000133514404, 4.880000114440918, 4.900000095367432, 4.920000076293945, 4.940000057220459, 4.960000038146973, 4.980000019073486, 5.0, 5.019999980926514, 5.039999961853027, 5.059999942779541, 5.079999923706055, 5.099999904632568, 5.119999885559082, 5.139999866485596, 5.159999847412109, 5.179999828338623, 5.199999809265137, 5.21999979019165, 5.239999771118164, 5.260000228881836, 5.28000020980835, 5.300000190734863, 5.320000171661377, 5.340000152587891, 5.360000133514404, 5.380000114440918, 5.400000095367432, 5.420000076293945, 5.440000057220459, 5.460000038146973, 5.480000019073486, 5.5, 5.519999980926514, 5.539999961853027, 5.559999942779541, 5.579999923706055, 5.599999904632568, 5.619999885559082, 5.639999866485596, 5.659999847412109, 5.679999828338623, 5.699999809265137, 5.71999979019165, 5.739999771118164, 5.760000228881836, 5.78000020980835, 5.800000190734863, 5.820000171661377, 5.840000152587891, 5.860000133514404, 5.880000114440918, 5.900000095367432, 5.920000076293945, 5.940000057220459, 5.960000038146973, 5.980000019073486, 6.0, 6.019999980926514, 6.039999961853027, 6.059999942779541, 6.079999923706055, 6.099999904632568, 6.119999885559082, 6.139999866485596, 6.159999847412109, 6.179999828338623, 6.199999809265137, 6.21999979019165, 6.239999771118164, 6.260000228881836, 6.28000020980835, 6.300000190734863, 6.320000171661377, 6.340000152587891, 6.360000133514404, 6.380000114440918, 6.400000095367432, 6.420000076293945, 6.440000057220459, 6.460000038146973, 6.480000019073486, 6.5, 6.519999980926514, 6.539999961853027, 6.559999942779541, 6.579999923706055, 6.599999904632568, 6.619999885559082, 6.639999866485596, 6.659999847412109, 6.679999828338623, 6.699999809265137, 6.71999979019165, 6.739999771118164, 6.760000228881836, 6.78000020980835, 6.800000190734863, 6.820000171661377, 6.840000152587891, 6.860000133514404, 6.880000114440918, 6.900000095367432, 6.920000076293945, 6.940000057220459, 6.960000038146973, 6.980000019073486, 7.0, 7.019999980926514, 7.039999961853027, 7.059999942779541, 7.079999923706055, 7.099999904632568, 7.119999885559082, 7.139999866485596, 7.159999847412109, 7.179999828338623, 7.199999809265137, 7.21999979019165, 7.239999771118164, 7.260000228881836, 7.28000020980835, 7.300000190734863, 7.320000171661377, 7.340000152587891, 7.360000133514404, 7.380000114440918, 7.400000095367432, 7.420000076293945, 7.440000057220459, 7.460000038146973, 7.480000019073486, 7.5, 7.519999980926514, 7.539999961853027, 7.559999942779541, 7.579999923706055, 7.599999904632568, 7.619999885559082, 7.639999866485596, 7.659999847412109, 7.679999828338623, 7.699999809265137, 7.71999979019165, 7.739999771118164, 7.760000228881836, 7.78000020980835, 7.800000190734863, 7.820000171661377, 7.840000152587891, 7.860000133514404, 7.880000114440918, 7.900000095367432, 7.920000076293945, 7.940000057220459, 7.960000038146973, 7.980000019073486, 8.0, 8.020000457763672, 8.039999961853027, 8.0600004196167, 8.079999923706055, 8.100000381469727, 8.119999885559082, 8.140000343322754, 8.15999984741211, 8.180000305175781, 8.199999809265137, 8.220000267028809, 8.239999771118164, 8.260000228881836, 8.279999732971191, 8.300000190734863, 8.319999694824219, 8.34000015258789, 8.359999656677246, 8.380000114440918, 8.399999618530273, 8.420000076293945, 8.4399995803833, 8.460000038146973, 8.479999542236328, 8.5, 8.520000457763672, 8.539999961853027, 8.5600004196167, 8.579999923706055, 8.600000381469727, 8.619999885559082, 8.640000343322754, 8.65999984741211, 8.680000305175781, 8.699999809265137, 8.720000267028809, 8.739999771118164, 8.760000228881836, 8.779999732971191, 8.800000190734863, 8.819999694824219, 8.84000015258789, 8.859999656677246, 8.880000114440918, 8.899999618530273, 8.920000076293945, 8.9399995803833, 8.960000038146973, 8.979999542236328, 9.0, 9.020000457763672, 9.039999961853027, 9.0600004196167, 9.079999923706055, 9.100000381469727, 9.119999885559082, 9.140000343322754, 9.15999984741211, 9.180000305175781, 9.199999809265137, 9.220000267028809, 9.239999771118164, 9.260000228881836, 9.279999732971191, 9.300000190734863, 9.319999694824219, 9.34000015258789, 9.359999656677246, 9.380000114440918, 9.399999618530273, 9.420000076293945, 9.4399995803833, 9.460000038146973, 9.479999542236328, 9.5, 9.520000457763672, 9.539999961853027, 9.5600004196167, 9.579999923706055, 9.600000381469727, 9.619999885559082, 9.640000343322754, 9.65999984741211, 9.680000305175781, 9.699999809265137, 9.720000267028809, 9.739999771118164, 9.760000228881836, 9.779999732971191, 9.800000190734863, 9.819999694824219, 9.84000015258789, 9.859999656677246, 9.880000114440918, 9.899999618530273, 9.920000076293945, 9.9399995803833, 9.960000038146973, 9.979999542236328, 10.0, 11.0, 12.0]}}, \"type\": \"ColumnDataSource\", \"id\": \"0879b1e4-8d41-4f13-a9ee-b3d273e03e58\"}, {\"attributes\": {\"plot\": {\"subtype\": \"Figure\", \"type\": \"Plot\", \"id\": \"d92e0424-df67-46ac-9b26-40a5800bd8cf\"}, \"ticker\": {\"type\": \"BasicTicker\", \"id\": \"72baef79-5297-4a8e-9616-2d478704f20a\"}}, \"type\": \"Grid\", \"id\": \"09d9b1a8-32a4-4799-958b-0db0a0561d09\"}, {\"attributes\": {\"callback\": null, \"column_names\": [\"y\", \"x\"], \"data\": {\"y\": [0.0, 20066666496.0, 0.0, 401333344.0, 802666688.0, 1204000000.0, 1605333376.0, 2006666624.0, 2408000000.0, 2809333248.0, 3210666752.0, 3612000000.0, 4013333248.0, 4414666752.0, 4816000000.0, 5217333248.0, 5618666496.0, 6019999744.0, 6421333504.0, 6822666752.0, 7224000000.0, 7625333248.0, 8026666496.0, 8428000256.0, 8829333504.0, 9230666752.0, 9632000000.0, 10033333248.0, 10434666496.0, 10835999744.0, 11237332992.0, 11638666240.0, 12039999488.0, 12441333760.0, 12842667008.0, 13244000256.0, 13645333504.0, 14046666752.0, 14448000000.0, 14849333248.0, 15250666496.0, 15651999744.0, 16053332992.0, 16454666240.0, 16856000512.0, 17257332736.0, 17658667008.0, 18059999232.0, 18461333504.0, 18862665728.0, 19264000000.0, 19665334272.0, 20066666496.0, 19665334272.0, 19264000000.0, 18862665728.0, 18461333504.0, 18059999232.0, 17658667008.0, 17257332736.0, 16856000512.0, 16454666240.0, 16053332992.0, 15651999744.0, 15250666496.0, 14849333248.0, 14448000000.0, 14046666752.0, 13645333504.0, 13244000256.0, 12842667008.0, 12441333760.0, 12039999488.0, 11638666240.0, 11237332992.0, 10835999744.0, 10434666496.0, 10033333248.0, 9632000000.0, 9230666752.0, 8829333504.0, 8428000256.0, 8026666496.0, 7625333248.0, 7224000000.0, 6822666752.0, 6421333504.0, 6019999744.0, 5618666496.0, 5217333248.0, 4816000000.0, 4414666752.0, 4013333248.0, 3612000000.0, 3210666752.0, 2809333248.0, 2408000000.0, 2006666624.0, 1605333376.0, 1204000000.0, 802666688.0, 401333344.0, 0.0, 401333344.0, 802666688.0, 1204000000.0, 1605333376.0, 2006666624.0, 2408000000.0, 2809333248.0, 3210666752.0, 3612000000.0, 4013333248.0, 4414666752.0, 4816000000.0, 5217333248.0, 5618666496.0, 6019999744.0, 6421333504.0, 6822666752.0, 7224000000.0, 7625333248.0, 8026666496.0, 8427999744.0, 8829333504.0, 9230666752.0, 9632000000.0, 10033333248.0, 10434666496.0, 10835999744.0, 11237332992.0, 11638666240.0, 12039999488.0, 12441333760.0, 12842667008.0, 13244000256.0, 13645333504.0, 14046666752.0, 14448000000.0, 14849333248.0, 15250666496.0, 15651999744.0, 16053332992.0, 16454666240.0, 16855999488.0, 17257332736.0, 17658667008.0, 18059999232.0, 18461333504.0, 18862665728.0, 19264000000.0, 19665334272.0, 20066666496.0, 19665334272.0, 19264000000.0, 18862665728.0, 18461333504.0, 18059999232.0, 17658667008.0, 17257332736.0, 16855999488.0, 16454666240.0, 16053332992.0, 15651999744.0, 15250666496.0, 14849333248.0, 14448000000.0, 14046666752.0, 13645333504.0, 13244000256.0, 12842667008.0, 12441333760.0, 12039999488.0, 11638666240.0, 11237332992.0, 10835999744.0, 10434666496.0, 10033333248.0, 9632000000.0, 9230666752.0, 8829333504.0, 8427999744.0, 8026666496.0, 7625333248.0, 7224000000.0, 6822666752.0, 6421333504.0, 6019999744.0, 5618666496.0, 5217333248.0, 4816000000.0, 4414666752.0, 4013333248.0, 3612000000.0, 3210666752.0, 2809333248.0, 2408000000.0, 2006666624.0, 1605333376.0, 1204000000.0, 802666688.0, 401333344.0, -0.0003489255905151367, 401333344.0, 802666688.0, 1204000000.0, 1605333376.0, 2006666624.0, 2408000000.0, 2809333248.0, 3210666752.0, 3612000000.0, 4013333248.0, 4414666752.0, 4816000000.0, 5217333248.0, 5618666496.0, 6019999744.0, 6421333504.0, 6822666752.0, 7224000000.0, 7625333248.0, 8026666496.0, 8427999744.0, 8829333504.0, 9230666752.0, 9632000000.0, 10033333248.0, 10434666496.0, 10835999744.0, 11237332992.0, 11638666240.0, 12039999488.0, 12441333760.0, 12842667008.0, 13244000256.0, 13645333504.0, 14046666752.0, 14448000000.0, 14849333248.0, 15250666496.0, 15651999744.0, 16053332992.0, 16454666240.0, 16855999488.0, 17257332736.0, 17658667008.0, 18059999232.0, 18461333504.0, 18862665728.0, 19264000000.0, 19665334272.0, 20066666496.0, 19665334272.0, 19264000000.0, 18862665728.0, 18461333504.0, 18059999232.0, 17658667008.0, 17257332736.0, 16855999488.0, 16454666240.0, 16053332992.0, 15651999744.0, 15250666496.0, 14849333248.0, 14448000000.0, 14046666752.0, 13645333504.0, 13244000256.0, 12842667008.0, 12441333760.0, 12039999488.0, 11638666240.0, 11237332992.0, 10835999744.0, 10434666496.0, 10033333248.0, 9632000000.0, 9230666752.0, 8829333504.0, 8427999744.0, 8026666496.0, 7625333248.0, 7224000000.0, 6822666752.0, 6421333504.0, 6019999744.0, 5618666496.0, 5217333248.0, 4816000000.0, 4414666752.0, 4013333248.0, 3612000000.0, 3210666752.0, 2809333248.0, 2408000000.0, 2006666624.0, 1605333376.0, 1204000000.0, 802666688.0, 401333344.0, -0.0003484487533569336, 401333344.0, 802666688.0, 1204000000.0, 1605333376.0, 2006666624.0, 2408000000.0, 2809333248.0, 3210666752.0, 3612000000.0, 4013333248.0, 4414666752.0, 4816000000.0, 5217333248.0, 5618666496.0, 6019999744.0, 6421333504.0, 6822666752.0, 7224000000.0, 7625333248.0, 8026666496.0, 8427999744.0, 8829333504.0, 9230666752.0, 9632000000.0, 10033333248.0, 10434666496.0, 10835999744.0, 11237332992.0, 11638666240.0, 12039999488.0, 12441333760.0, 12842667008.0, 13244000256.0, 13645333504.0, 14046666752.0, 14448000000.0, 14849333248.0, 15250666496.0, 15651999744.0, 16053332992.0, 16454666240.0, 16855999488.0, 17257332736.0, 17658667008.0, 18059999232.0, 18461333504.0, 18862665728.0, 19264000000.0, 19665334272.0, 20066666496.0, 19665334272.0, 19264000000.0, 18862665728.0, 18461333504.0, 18059999232.0, 17658667008.0, 17257332736.0, 16855999488.0, 16454666240.0, 16053332992.0, 15651999744.0, 15250666496.0, 14849333248.0, 14448000000.0, 14046666752.0, 13645333504.0, 13244000256.0, 12842667008.0, 12441333760.0, 12039999488.0, 11638666240.0, 11237332992.0, 10835999744.0, 10434666496.0, 10033333248.0, 9632000000.0, 9230666752.0, 8829333504.0, 8427999744.0, 8026666496.0, 7625333248.0, 7224000000.0, 6822666752.0, 6421333504.0, 6019999744.0, 5618666496.0, 5217333248.0, 4816000000.0, 4414666752.0, 4013333248.0, 3612000000.0, 3210666752.0, 2809333248.0, 2408000000.0, 2006666624.0, 1605333376.0, 1204000000.0, 802666688.0, 401333344.0, -0.000347137451171875, 20066666496.0, -8.0108642578125e-05], \"x\": [0.0, 1.0, 2.0, 2.0199999809265137, 2.0399999618530273, 2.059999942779541, 2.0799999237060547, 2.0999999046325684, 2.119999885559082, 2.140000104904175, 2.1600000858306885, 2.180000066757202, 2.200000047683716, 2.2200000286102295, 2.240000009536743, 2.259999990463257, 2.2799999713897705, 2.299999952316284, 2.319999933242798, 2.3399999141693115, 2.359999895095825, 2.380000114440918, 2.4000000953674316, 2.4200000762939453, 2.440000057220459, 2.4600000381469727, 2.4800000190734863, 2.5, 2.5199999809265137, 2.5399999618530273, 2.559999942779541, 2.5799999237060547, 2.5999999046325684, 2.619999885559082, 2.640000104904175, 2.6600000858306885, 2.680000066757202, 2.700000047683716, 2.7200000286102295, 2.740000009536743, 2.759999990463257, 2.7799999713897705, 2.799999952316284, 2.819999933242798, 2.8399999141693115, 2.859999895095825, 2.880000114440918, 2.9000000953674316, 2.9200000762939453, 2.940000057220459, 2.9600000381469727, 2.9800000190734863, 3.0, 3.0199999809265137, 3.0399999618530273, 3.059999942779541, 3.0799999237060547, 3.0999999046325684, 3.119999885559082, 3.140000104904175, 3.1600000858306885, 3.180000066757202, 3.200000047683716, 3.2200000286102295, 3.240000009536743, 3.259999990463257, 3.2799999713897705, 3.299999952316284, 3.319999933242798, 3.3399999141693115, 3.359999895095825, 3.380000114440918, 3.4000000953674316, 3.4200000762939453, 3.440000057220459, 3.4600000381469727, 3.4800000190734863, 3.5, 3.5199999809265137, 3.5399999618530273, 3.559999942779541, 3.5799999237060547, 3.5999999046325684, 3.619999885559082, 3.640000104904175, 3.6600000858306885, 3.680000066757202, 3.700000047683716, 3.7200000286102295, 3.740000009536743, 3.759999990463257, 3.7799999713897705, 3.799999952316284, 3.819999933242798, 3.8399999141693115, 3.859999895095825, 3.880000114440918, 3.9000000953674316, 3.9200000762939453, 3.940000057220459, 3.9600000381469727, 3.9800000190734863, 4.0, 4.019999980926514, 4.039999961853027, 4.059999942779541, 4.079999923706055, 4.099999904632568, 4.119999885559082, 4.139999866485596, 4.159999847412109, 4.179999828338623, 4.199999809265137, 4.21999979019165, 4.239999771118164, 4.260000228881836, 4.28000020980835, 4.300000190734863, 4.320000171661377, 4.340000152587891, 4.360000133514404, 4.380000114440918, 4.400000095367432, 4.420000076293945, 4.440000057220459, 4.460000038146973, 4.480000019073486, 4.5, 4.519999980926514, 4.539999961853027, 4.559999942779541, 4.579999923706055, 4.599999904632568, 4.619999885559082, 4.639999866485596, 4.659999847412109, 4.679999828338623, 4.699999809265137, 4.71999979019165, 4.739999771118164, 4.760000228881836, 4.78000020980835, 4.800000190734863, 4.820000171661377, 4.840000152587891, 4.860000133514404, 4.880000114440918, 4.900000095367432, 4.920000076293945, 4.940000057220459, 4.960000038146973, 4.980000019073486, 5.0, 5.019999980926514, 5.039999961853027, 5.059999942779541, 5.079999923706055, 5.099999904632568, 5.119999885559082, 5.139999866485596, 5.159999847412109, 5.179999828338623, 5.199999809265137, 5.21999979019165, 5.239999771118164, 5.260000228881836, 5.28000020980835, 5.300000190734863, 5.320000171661377, 5.340000152587891, 5.360000133514404, 5.380000114440918, 5.400000095367432, 5.420000076293945, 5.440000057220459, 5.460000038146973, 5.480000019073486, 5.5, 5.519999980926514, 5.539999961853027, 5.559999942779541, 5.579999923706055, 5.599999904632568, 5.619999885559082, 5.639999866485596, 5.659999847412109, 5.679999828338623, 5.699999809265137, 5.71999979019165, 5.739999771118164, 5.760000228881836, 5.78000020980835, 5.800000190734863, 5.820000171661377, 5.840000152587891, 5.860000133514404, 5.880000114440918, 5.900000095367432, 5.920000076293945, 5.940000057220459, 5.960000038146973, 5.980000019073486, 6.0, 6.019999980926514, 6.039999961853027, 6.059999942779541, 6.079999923706055, 6.099999904632568, 6.119999885559082, 6.139999866485596, 6.159999847412109, 6.179999828338623, 6.199999809265137, 6.21999979019165, 6.239999771118164, 6.260000228881836, 6.28000020980835, 6.300000190734863, 6.320000171661377, 6.340000152587891, 6.360000133514404, 6.380000114440918, 6.400000095367432, 6.420000076293945, 6.440000057220459, 6.460000038146973, 6.480000019073486, 6.5, 6.519999980926514, 6.539999961853027, 6.559999942779541, 6.579999923706055, 6.599999904632568, 6.619999885559082, 6.639999866485596, 6.659999847412109, 6.679999828338623, 6.699999809265137, 6.71999979019165, 6.739999771118164, 6.760000228881836, 6.78000020980835, 6.800000190734863, 6.820000171661377, 6.840000152587891, 6.860000133514404, 6.880000114440918, 6.900000095367432, 6.920000076293945, 6.940000057220459, 6.960000038146973, 6.980000019073486, 7.0, 7.019999980926514, 7.039999961853027, 7.059999942779541, 7.079999923706055, 7.099999904632568, 7.119999885559082, 7.139999866485596, 7.159999847412109, 7.179999828338623, 7.199999809265137, 7.21999979019165, 7.239999771118164, 7.260000228881836, 7.28000020980835, 7.300000190734863, 7.320000171661377, 7.340000152587891, 7.360000133514404, 7.380000114440918, 7.400000095367432, 7.420000076293945, 7.440000057220459, 7.460000038146973, 7.480000019073486, 7.5, 7.519999980926514, 7.539999961853027, 7.559999942779541, 7.579999923706055, 7.599999904632568, 7.619999885559082, 7.639999866485596, 7.659999847412109, 7.679999828338623, 7.699999809265137, 7.71999979019165, 7.739999771118164, 7.760000228881836, 7.78000020980835, 7.800000190734863, 7.820000171661377, 7.840000152587891, 7.860000133514404, 7.880000114440918, 7.900000095367432, 7.920000076293945, 7.940000057220459, 7.960000038146973, 7.980000019073486, 8.0, 8.020000457763672, 8.039999961853027, 8.0600004196167, 8.079999923706055, 8.100000381469727, 8.119999885559082, 8.140000343322754, 8.15999984741211, 8.180000305175781, 8.199999809265137, 8.220000267028809, 8.239999771118164, 8.260000228881836, 8.279999732971191, 8.300000190734863, 8.319999694824219, 8.34000015258789, 8.359999656677246, 8.380000114440918, 8.399999618530273, 8.420000076293945, 8.4399995803833, 8.460000038146973, 8.479999542236328, 8.5, 8.520000457763672, 8.539999961853027, 8.5600004196167, 8.579999923706055, 8.600000381469727, 8.619999885559082, 8.640000343322754, 8.65999984741211, 8.680000305175781, 8.699999809265137, 8.720000267028809, 8.739999771118164, 8.760000228881836, 8.779999732971191, 8.800000190734863, 8.819999694824219, 8.84000015258789, 8.859999656677246, 8.880000114440918, 8.899999618530273, 8.920000076293945, 8.9399995803833, 8.960000038146973, 8.979999542236328, 9.0, 9.020000457763672, 9.039999961853027, 9.0600004196167, 9.079999923706055, 9.100000381469727, 9.119999885559082, 9.140000343322754, 9.15999984741211, 9.180000305175781, 9.199999809265137, 9.220000267028809, 9.239999771118164, 9.260000228881836, 9.279999732971191, 9.300000190734863, 9.319999694824219, 9.34000015258789, 9.359999656677246, 9.380000114440918, 9.399999618530273, 9.420000076293945, 9.4399995803833, 9.460000038146973, 9.479999542236328, 9.5, 9.520000457763672, 9.539999961853027, 9.5600004196167, 9.579999923706055, 9.600000381469727, 9.619999885559082, 9.640000343322754, 9.65999984741211, 9.680000305175781, 9.699999809265137, 9.720000267028809, 9.739999771118164, 9.760000228881836, 9.779999732971191, 9.800000190734863, 9.819999694824219, 9.84000015258789, 9.859999656677246, 9.880000114440918, 9.899999618530273, 9.920000076293945, 9.9399995803833, 9.960000038146973, 9.979999542236328, 10.0, 11.0, 12.0]}}, \"type\": \"ColumnDataSource\", \"id\": \"53be7c6a-7492-405a-bcc6-f560a61b2301\"}, {\"attributes\": {\"plot\": {\"subtype\": \"Figure\", \"type\": \"Plot\", \"id\": \"c21886f1-09f4-46cc-bf63-7a130eb644c0\"}}, \"type\": \"ResizeTool\", \"id\": \"434cc667-2ef6-46d6-b0e6-f5787abdb36d\"}, {\"attributes\": {\"plot\": {\"subtype\": \"Figure\", \"type\": \"Plot\", \"id\": \"d92e0424-df67-46ac-9b26-40a5800bd8cf\"}}, \"type\": \"PanTool\", \"id\": \"7bdc3a09-d7bc-4466-a656-278bfc51278f\"}, {\"attributes\": {\"line_color\": {\"value\": \"#1f77b4\"}, \"line_alpha\": {\"value\": 0.1}, \"y\": {\"field\": \"y\"}, \"x\": {\"field\": \"x\"}}, \"type\": \"Line\", \"id\": \"dfa0ad30-fe19-4802-96d9-9dc396f0d879\"}, {\"attributes\": {\"nonselection_glyph\": {\"type\": \"Line\", \"id\": \"3e485694-c891-47f1-b7d8-b847f1dec6c6\"}, \"data_source\": {\"type\": \"ColumnDataSource\", \"id\": \"508d6f2a-9f62-4e1b-b8f7-d6fc94c1bb9a\"}, \"selection_glyph\": null, \"hover_glyph\": null, \"glyph\": {\"type\": \"Line\", \"id\": \"8dbf13ef-b623-4b1a-b391-bcb7588b0d8b\"}}, \"type\": \"GlyphRenderer\", \"id\": \"bc4ed081-6020-4508-a44e-57520706bc7f\"}, {\"attributes\": {\"nonselection_glyph\": {\"type\": \"Line\", \"id\": \"dfa0ad30-fe19-4802-96d9-9dc396f0d879\"}, \"data_source\": {\"type\": \"ColumnDataSource\", \"id\": \"60804458-819c-4f5f-897b-80f928b48507\"}, \"selection_glyph\": null, \"hover_glyph\": null, \"glyph\": {\"type\": \"Line\", \"id\": \"cf40ed19-90fd-4799-a924-a164adb2a9e6\"}}, \"type\": \"GlyphRenderer\", \"id\": \"02f95a6a-5f22-42cb-9ee6-2aed7d746877\"}, {\"attributes\": {}, \"type\": \"BasicTicker\", \"id\": \"3bd2a95e-0529-4cbb-a2ea-6f9520fd08fe\"}, {\"attributes\": {}, \"type\": \"BasicTickFormatter\", \"id\": \"b9f7a174-ae0f-4513-943d-453dd1a23be4\"}, {\"attributes\": {\"plot\": {\"subtype\": \"Figure\", \"type\": \"Plot\", \"id\": \"d92e0424-df67-46ac-9b26-40a5800bd8cf\"}}, \"type\": \"ResizeTool\", \"id\": \"0215ac9c-c5d6-422f-9c01-6a5a92a9077b\"}, {\"attributes\": {\"plot\": {\"subtype\": \"Figure\", \"type\": \"Plot\", \"id\": \"4adaf421-e6c1-476c-b764-c02ceb0e1e36\"}}, \"type\": \"WheelZoomTool\", \"id\": \"8b4c8688-de33-4326-99e7-b74140d1f7d5\"}, {\"attributes\": {\"line_color\": {\"value\": \"black\"}, \"line_alpha\": {\"value\": 1.0}, \"render_mode\": \"css\", \"bottom_units\": \"screen\", \"level\": \"overlay\", \"top_units\": \"screen\", \"fill_alpha\": {\"value\": 0.5}, \"plot\": null, \"left_units\": \"screen\", \"line_dash\": [4, 4], \"line_width\": {\"value\": 2}, \"right_units\": \"screen\", \"fill_color\": {\"value\": \"lightgrey\"}}, \"type\": \"BoxAnnotation\", \"id\": \"feaf1991-ec66-4434-9fe2-aa3d66a86aed\"}, {\"attributes\": {\"nonselection_glyph\": {\"type\": \"Line\", \"id\": \"f27aae0e-54ae-4124-8a3e-a378ed3199f7\"}, \"data_source\": {\"type\": \"ColumnDataSource\", \"id\": \"53be7c6a-7492-405a-bcc6-f560a61b2301\"}, \"selection_glyph\": null, \"hover_glyph\": null, \"glyph\": {\"type\": \"Line\", \"id\": \"854b8b60-97a2-4373-8c1c-df332988dd64\"}}, \"type\": \"GlyphRenderer\", \"id\": \"eace9b34-9c53-4b5b-9c54-35fe57b9f1c0\"}, {\"attributes\": {\"plot\": {\"subtype\": \"Figure\", \"type\": \"Plot\", \"id\": \"c21886f1-09f4-46cc-bf63-7a130eb644c0\"}, \"overlay\": {\"type\": \"BoxAnnotation\", \"id\": \"bc0411b0-c8fa-4561-9a79-baeedbbef81e\"}}, \"type\": \"BoxZoomTool\", \"id\": \"916b8eeb-c860-43e0-9398-16cb54e2fc6b\"}, {\"attributes\": {\"callback\": null, \"column_names\": [\"y\", \"x\"], \"data\": {\"y\": [0.0, 0.10000000149011612, 0.0, 0.0020000000949949026, 0.004000000189989805, 0.006000000052154064, 0.00800000037997961, 0.009999999776482582, 0.012000000104308128, 0.014000000432133675, 0.01600000075995922, 0.017999999225139618, 0.019999999552965164, 0.02199999988079071, 0.024000000208616257, 0.026000000536441803, 0.02800000086426735, 0.029999999329447746, 0.03200000151991844, 0.03400000184774399, 0.035999998450279236, 0.03799999877810478, 0.03999999910593033, 0.041999999433755875, 0.04399999976158142, 0.04600000008940697, 0.04800000041723251, 0.05000000074505806, 0.052000001072883606, 0.05400000140070915, 0.0560000017285347, 0.057999998331069946, 0.05999999865889549, 0.06199999898672104, 0.06400000303983688, 0.06599999964237213, 0.06800000369548798, 0.07000000029802322, 0.07199999690055847, 0.07400000095367432, 0.07599999755620956, 0.07800000160932541, 0.07999999821186066, 0.0820000022649765, 0.08399999886751175, 0.0860000029206276, 0.08799999952316284, 0.09000000357627869, 0.09200000017881393, 0.09399999678134918, 0.09600000083446503, 0.09799999743700027, 0.10000000149011612, 0.09799999743700027, 0.09600000083446503, 0.09399999678134918, 0.09200000017881393, 0.09000000357627869, 0.08799999952316284, 0.0860000029206276, 0.08399999886751175, 0.0820000022649765, 0.07999999821186066, 0.07800000160932541, 0.07599999755620956, 0.07400000095367432, 0.07199999690055847, 0.07000000029802322, 0.06800000369548798, 0.06599999964237213, 0.06400000303983688, 0.06199999898672104, 0.05999999865889549, 0.057999998331069946, 0.0560000017285347, 0.05400000140070915, 0.052000001072883606, 0.05000000074505806, 0.04800000041723251, 0.04600000008940697, 0.04399999976158142, 0.041999999433755875, 0.03999999910593033, 0.03799999877810478, 0.035999998450279236, 0.03400000184774399, 0.03200000151991844, 0.029999999329447746, 0.02800000086426735, 0.026000000536441803, 0.024000000208616257, 0.02199999988079071, 0.019999999552965164, 0.017999999225139618, 0.01600000075995922, 0.014000000432133675, 0.012000000104308128, 0.009999999776482582, 0.00800000037997961, 0.006000000052154064, 0.004000000189989805, 0.0020000000949949026, 2.220446049250313e-15, 0.0020000000949949026, 0.004000000189989805, 0.006000000052154064, 0.00800000037997961, 0.009999999776482582, 0.012000000104308128, 0.014000000432133675, 0.01600000075995922, 0.017999999225139618, 0.019999999552965164, 0.02199999988079071, 0.024000000208616257, 0.026000000536441803, 0.02800000086426735, 0.029999999329447746, 0.03200000151991844, 0.03400000184774399, 0.035999998450279236, 0.03799999877810478, 0.03999999910593033, 0.041999999433755875, 0.04399999976158142, 0.04600000008940697, 0.04800000041723251, 0.05000000074505806, 0.052000001072883606, 0.05400000140070915, 0.0560000017285347, 0.057999998331069946, 0.05999999865889549, 0.06199999898672104, 0.06400000303983688, 0.06599999964237213, 0.06800000369548798, 0.07000000029802322, 0.07199999690055847, 0.07400000095367432, 0.07599999755620956, 0.07800000160932541, 0.07999999821186066, 0.0820000022649765, 0.08399999886751175, 0.0860000029206276, 0.08799999952316284, 0.09000000357627869, 0.09200000017881393, 0.09399999678134918, 0.09600000083446503, 0.09799999743700027, 0.10000000149011612, 0.09799999743700027, 0.09600000083446503, 0.09399999678134918, 0.09200000017881393, 0.09000000357627869, 0.08799999952316284, 0.0860000029206276, 0.08399999886751175, 0.0820000022649765, 0.07999999821186066, 0.07800000160932541, 0.07599999755620956, 0.07400000095367432, 0.07199999690055847, 0.07000000029802322, 0.06800000369548798, 0.06599999964237213, 0.06400000303983688, 0.06199999898672104, 0.05999999865889549, 0.057999998331069946, 0.0560000017285347, 0.05400000140070915, 0.052000001072883606, 0.05000000074505806, 0.04800000041723251, 0.04600000008940697, 0.04399999976158142, 0.041999999433755875, 0.03999999910593033, 0.03799999877810478, 0.035999998450279236, 0.03400000184774399, 0.03200000151991844, 0.029999999329447746, 0.02800000086426735, 0.026000000536441803, 0.024000000208616257, 0.02199999988079071, 0.019999999552965164, 0.017999999225139618, 0.01600000075995922, 0.014000000432133675, 0.012000000104308128, 0.009999999776482582, 0.00800000037997961, 0.006000000052154064, 0.004000000189989805, 0.0020000000949949026, 0.0, 0.0020000000949949026, 0.004000000189989805, 0.006000000052154064, 0.00800000037997961, 0.009999999776482582, 0.012000000104308128, 0.014000000432133675, 0.01600000075995922, 0.017999999225139618, 0.019999999552965164, 0.02199999988079071, 0.024000000208616257, 0.026000000536441803, 0.02800000086426735, 0.029999999329447746, 0.03200000151991844, 0.03400000184774399, 0.035999998450279236, 0.03799999877810478, 0.03999999910593033, 0.041999999433755875, 0.04399999976158142, 0.04600000008940697, 0.04800000041723251, 0.05000000074505806, 0.052000001072883606, 0.05400000140070915, 0.0560000017285347, 0.057999998331069946, 0.05999999865889549, 0.06199999898672104, 0.06400000303983688, 0.06599999964237213, 0.06800000369548798, 0.07000000029802322, 0.07199999690055847, 0.07400000095367432, 0.07599999755620956, 0.07800000160932541, 0.07999999821186066, 0.0820000022649765, 0.08399999886751175, 0.0860000029206276, 0.08799999952316284, 0.09000000357627869, 0.09200000017881393, 0.09399999678134918, 0.09600000083446503, 0.09799999743700027, 0.10000000149011612, 0.09799999743700027, 0.09600000083446503, 0.09399999678134918, 0.09200000017881393, 0.09000000357627869, 0.08799999952316284, 0.0860000029206276, 0.08399999886751175, 0.0820000022649765, 0.07999999821186066, 0.07800000160932541, 0.07599999755620956, 0.07400000095367432, 0.07199999690055847, 0.07000000029802322, 0.06800000369548798, 0.06599999964237213, 0.06400000303983688, 0.06199999898672104, 0.05999999865889549, 0.057999998331069946, 0.0560000017285347, 0.05400000140070915, 0.052000001072883606, 0.05000000074505806, 0.04800000041723251, 0.04600000008940697, 0.04399999976158142, 0.041999999433755875, 0.03999999910593033, 0.03799999877810478, 0.035999998450279236, 0.03400000184774399, 0.03200000151991844, 0.029999999329447746, 0.02800000086426735, 0.026000000536441803, 0.024000000208616257, 0.02199999988079071, 0.019999999552965164, 0.017999999225139618, 0.01600000075995922, 0.014000000432133675, 0.012000000104308128, 0.009999999776482582, 0.00800000037997961, 0.006000000052154064, 0.004000000189989805, 0.0020000000949949026, 0.0, 0.0020000000949949026, 0.004000000189989805, 0.006000000052154064, 0.00800000037997961, 0.009999999776482582, 0.012000000104308128, 0.014000000432133675, 0.01600000075995922, 0.017999999225139618, 0.019999999552965164, 0.02199999988079071, 0.024000000208616257, 0.026000000536441803, 0.02800000086426735, 0.029999999329447746, 0.03200000151991844, 0.03400000184774399, 0.035999998450279236, 0.03799999877810478, 0.03999999910593033, 0.041999999433755875, 0.04399999976158142, 0.04600000008940697, 0.04800000041723251, 0.05000000074505806, 0.052000001072883606, 0.05400000140070915, 0.0560000017285347, 0.057999998331069946, 0.05999999865889549, 0.06199999898672104, 0.06400000303983688, 0.06599999964237213, 0.06800000369548798, 0.07000000029802322, 0.07199999690055847, 0.07400000095367432, 0.07599999755620956, 0.07800000160932541, 0.07999999821186066, 0.0820000022649765, 0.08399999886751175, 0.0860000029206276, 0.08799999952316284, 0.09000000357627869, 0.09200000017881393, 0.09399999678134918, 0.09600000083446503, 0.09799999743700027, 0.10000000149011612, 0.09799999743700027, 0.09600000083446503, 0.09399999678134918, 0.09200000017881393, 0.09000000357627869, 0.08799999952316284, 0.0860000029206276, 0.08399999886751175, 0.0820000022649765, 0.07999999821186066, 0.07800000160932541, 0.07599999755620956, 0.07400000095367432, 0.07199999690055847, 0.07000000029802322, 0.06800000369548798, 0.06599999964237213, 0.06400000303983688, 0.06199999898672104, 0.05999999865889549, 0.057999998331069946, 0.0560000017285347, 0.05400000140070915, 0.052000001072883606, 0.05000000074505806, 0.04800000041723251, 0.04600000008940697, 0.04399999976158142, 0.041999999433755875, 0.03999999910593033, 0.03799999877810478, 0.035999998450279236, 0.03400000184774399, 0.03200000151991844, 0.029999999329447746, 0.02800000086426735, 0.026000000536441803, 0.024000000208616257, 0.02199999988079071, 0.019999999552965164, 0.017999999225139618, 0.01600000075995922, 0.014000000432133675, 0.012000000104308128, 0.009999999776482582, 0.00800000037997961, 0.006000000052154064, 0.004000000189989805, 0.0020000000949949026, -1.3322676295501878e-15, 0.10000000149011612, 0.0], \"x\": [0.0, 1.0, 2.0, 2.0199999809265137, 2.0399999618530273, 2.059999942779541, 2.0799999237060547, 2.0999999046325684, 2.119999885559082, 2.140000104904175, 2.1600000858306885, 2.180000066757202, 2.200000047683716, 2.2200000286102295, 2.240000009536743, 2.259999990463257, 2.2799999713897705, 2.299999952316284, 2.319999933242798, 2.3399999141693115, 2.359999895095825, 2.380000114440918, 2.4000000953674316, 2.4200000762939453, 2.440000057220459, 2.4600000381469727, 2.4800000190734863, 2.5, 2.5199999809265137, 2.5399999618530273, 2.559999942779541, 2.5799999237060547, 2.5999999046325684, 2.619999885559082, 2.640000104904175, 2.6600000858306885, 2.680000066757202, 2.700000047683716, 2.7200000286102295, 2.740000009536743, 2.759999990463257, 2.7799999713897705, 2.799999952316284, 2.819999933242798, 2.8399999141693115, 2.859999895095825, 2.880000114440918, 2.9000000953674316, 2.9200000762939453, 2.940000057220459, 2.9600000381469727, 2.9800000190734863, 3.0, 3.0199999809265137, 3.0399999618530273, 3.059999942779541, 3.0799999237060547, 3.0999999046325684, 3.119999885559082, 3.140000104904175, 3.1600000858306885, 3.180000066757202, 3.200000047683716, 3.2200000286102295, 3.240000009536743, 3.259999990463257, 3.2799999713897705, 3.299999952316284, 3.319999933242798, 3.3399999141693115, 3.359999895095825, 3.380000114440918, 3.4000000953674316, 3.4200000762939453, 3.440000057220459, 3.4600000381469727, 3.4800000190734863, 3.5, 3.5199999809265137, 3.5399999618530273, 3.559999942779541, 3.5799999237060547, 3.5999999046325684, 3.619999885559082, 3.640000104904175, 3.6600000858306885, 3.680000066757202, 3.700000047683716, 3.7200000286102295, 3.740000009536743, 3.759999990463257, 3.7799999713897705, 3.799999952316284, 3.819999933242798, 3.8399999141693115, 3.859999895095825, 3.880000114440918, 3.9000000953674316, 3.9200000762939453, 3.940000057220459, 3.9600000381469727, 3.9800000190734863, 4.0, 4.019999980926514, 4.039999961853027, 4.059999942779541, 4.079999923706055, 4.099999904632568, 4.119999885559082, 4.139999866485596, 4.159999847412109, 4.179999828338623, 4.199999809265137, 4.21999979019165, 4.239999771118164, 4.260000228881836, 4.28000020980835, 4.300000190734863, 4.320000171661377, 4.340000152587891, 4.360000133514404, 4.380000114440918, 4.400000095367432, 4.420000076293945, 4.440000057220459, 4.460000038146973, 4.480000019073486, 4.5, 4.519999980926514, 4.539999961853027, 4.559999942779541, 4.579999923706055, 4.599999904632568, 4.619999885559082, 4.639999866485596, 4.659999847412109, 4.679999828338623, 4.699999809265137, 4.71999979019165, 4.739999771118164, 4.760000228881836, 4.78000020980835, 4.800000190734863, 4.820000171661377, 4.840000152587891, 4.860000133514404, 4.880000114440918, 4.900000095367432, 4.920000076293945, 4.940000057220459, 4.960000038146973, 4.980000019073486, 5.0, 5.019999980926514, 5.039999961853027, 5.059999942779541, 5.079999923706055, 5.099999904632568, 5.119999885559082, 5.139999866485596, 5.159999847412109, 5.179999828338623, 5.199999809265137, 5.21999979019165, 5.239999771118164, 5.260000228881836, 5.28000020980835, 5.300000190734863, 5.320000171661377, 5.340000152587891, 5.360000133514404, 5.380000114440918, 5.400000095367432, 5.420000076293945, 5.440000057220459, 5.460000038146973, 5.480000019073486, 5.5, 5.519999980926514, 5.539999961853027, 5.559999942779541, 5.579999923706055, 5.599999904632568, 5.619999885559082, 5.639999866485596, 5.659999847412109, 5.679999828338623, 5.699999809265137, 5.71999979019165, 5.739999771118164, 5.760000228881836, 5.78000020980835, 5.800000190734863, 5.820000171661377, 5.840000152587891, 5.860000133514404, 5.880000114440918, 5.900000095367432, 5.920000076293945, 5.940000057220459, 5.960000038146973, 5.980000019073486, 6.0, 6.019999980926514, 6.039999961853027, 6.059999942779541, 6.079999923706055, 6.099999904632568, 6.119999885559082, 6.139999866485596, 6.159999847412109, 6.179999828338623, 6.199999809265137, 6.21999979019165, 6.239999771118164, 6.260000228881836, 6.28000020980835, 6.300000190734863, 6.320000171661377, 6.340000152587891, 6.360000133514404, 6.380000114440918, 6.400000095367432, 6.420000076293945, 6.440000057220459, 6.460000038146973, 6.480000019073486, 6.5, 6.519999980926514, 6.539999961853027, 6.559999942779541, 6.579999923706055, 6.599999904632568, 6.619999885559082, 6.639999866485596, 6.659999847412109, 6.679999828338623, 6.699999809265137, 6.71999979019165, 6.739999771118164, 6.760000228881836, 6.78000020980835, 6.800000190734863, 6.820000171661377, 6.840000152587891, 6.860000133514404, 6.880000114440918, 6.900000095367432, 6.920000076293945, 6.940000057220459, 6.960000038146973, 6.980000019073486, 7.0, 7.019999980926514, 7.039999961853027, 7.059999942779541, 7.079999923706055, 7.099999904632568, 7.119999885559082, 7.139999866485596, 7.159999847412109, 7.179999828338623, 7.199999809265137, 7.21999979019165, 7.239999771118164, 7.260000228881836, 7.28000020980835, 7.300000190734863, 7.320000171661377, 7.340000152587891, 7.360000133514404, 7.380000114440918, 7.400000095367432, 7.420000076293945, 7.440000057220459, 7.460000038146973, 7.480000019073486, 7.5, 7.519999980926514, 7.539999961853027, 7.559999942779541, 7.579999923706055, 7.599999904632568, 7.619999885559082, 7.639999866485596, 7.659999847412109, 7.679999828338623, 7.699999809265137, 7.71999979019165, 7.739999771118164, 7.760000228881836, 7.78000020980835, 7.800000190734863, 7.820000171661377, 7.840000152587891, 7.860000133514404, 7.880000114440918, 7.900000095367432, 7.920000076293945, 7.940000057220459, 7.960000038146973, 7.980000019073486, 8.0, 8.020000457763672, 8.039999961853027, 8.0600004196167, 8.079999923706055, 8.100000381469727, 8.119999885559082, 8.140000343322754, 8.15999984741211, 8.180000305175781, 8.199999809265137, 8.220000267028809, 8.239999771118164, 8.260000228881836, 8.279999732971191, 8.300000190734863, 8.319999694824219, 8.34000015258789, 8.359999656677246, 8.380000114440918, 8.399999618530273, 8.420000076293945, 8.4399995803833, 8.460000038146973, 8.479999542236328, 8.5, 8.520000457763672, 8.539999961853027, 8.5600004196167, 8.579999923706055, 8.600000381469727, 8.619999885559082, 8.640000343322754, 8.65999984741211, 8.680000305175781, 8.699999809265137, 8.720000267028809, 8.739999771118164, 8.760000228881836, 8.779999732971191, 8.800000190734863, 8.819999694824219, 8.84000015258789, 8.859999656677246, 8.880000114440918, 8.899999618530273, 8.920000076293945, 8.9399995803833, 8.960000038146973, 8.979999542236328, 9.0, 9.020000457763672, 9.039999961853027, 9.0600004196167, 9.079999923706055, 9.100000381469727, 9.119999885559082, 9.140000343322754, 9.15999984741211, 9.180000305175781, 9.199999809265137, 9.220000267028809, 9.239999771118164, 9.260000228881836, 9.279999732971191, 9.300000190734863, 9.319999694824219, 9.34000015258789, 9.359999656677246, 9.380000114440918, 9.399999618530273, 9.420000076293945, 9.4399995803833, 9.460000038146973, 9.479999542236328, 9.5, 9.520000457763672, 9.539999961853027, 9.5600004196167, 9.579999923706055, 9.600000381469727, 9.619999885559082, 9.640000343322754, 9.65999984741211, 9.680000305175781, 9.699999809265137, 9.720000267028809, 9.739999771118164, 9.760000228881836, 9.779999732971191, 9.800000190734863, 9.819999694824219, 9.84000015258789, 9.859999656677246, 9.880000114440918, 9.899999618530273, 9.920000076293945, 9.9399995803833, 9.960000038146973, 9.979999542236328, 10.0, 11.0, 12.0]}}, \"type\": \"ColumnDataSource\", \"id\": \"508d6f2a-9f62-4e1b-b8f7-d6fc94c1bb9a\"}, {\"attributes\": {\"plot\": {\"subtype\": \"Figure\", \"type\": \"Plot\", \"id\": \"c21886f1-09f4-46cc-bf63-7a130eb644c0\"}}, \"type\": \"WheelZoomTool\", \"id\": \"1fe8c439-d643-4fe4-ac2c-b8d526bc00ed\"}, {\"attributes\": {\"plot\": {\"subtype\": \"Figure\", \"type\": \"Plot\", \"id\": \"4adaf421-e6c1-476c-b764-c02ceb0e1e36\"}}, \"type\": \"ResetTool\", \"id\": \"e916ed2b-1d72-4b66-b88f-21f3757cb647\"}, {\"attributes\": {\"plot\": {\"subtype\": \"Figure\", \"type\": \"Plot\", \"id\": \"c21886f1-09f4-46cc-bf63-7a130eb644c0\"}}, \"type\": \"PreviewSaveTool\", \"id\": \"1f8ce26e-30cc-4ca4-ba9d-e0662f2112db\"}, {\"attributes\": {}, \"type\": \"BasicTicker\", \"id\": \"dfd7d315-ef27-44b7-af76-545414c72807\"}]}, \"title\": \"Bokeh Application\"}};\n",
       "            var render_items = [{\"notebook_comms_target\": \"3d9e40d1-e18c-4a34-b19a-097faf29cf2b\", \"docid\": \"42f53529-25d7-47a0-9fc3-70921d7b80d7\", \"elementid\": \"07b5f3b6-d565-49cb-b869-31b7b05527b9\", \"modelid\": \"c21886f1-09f4-46cc-bf63-7a130eb644c0\"}];\n",
       "            \n",
       "            Bokeh.embed.embed_items(docs_json, render_items);\n",
       "        });\n",
       "      },\n",
       "      function(Bokeh) {\n",
       "      }\n",
       "    ];\n",
       "  \n",
       "    function run_inline_js() {\n",
       "      for (var i = 0; i < inline_js.length; i++) {\n",
       "        inline_js[i](window.Bokeh);\n",
       "      }\n",
       "    }\n",
       "  \n",
       "    if (window._bokeh_is_loading === 0) {\n",
       "      console.log(\"Bokeh: BokehJS loaded, going straight to plotting\");\n",
       "      run_inline_js();\n",
       "    } else {\n",
       "      load_libs(js_urls, function() {\n",
       "        console.log(\"Bokeh: BokehJS plotting callback run at\", now());\n",
       "        run_inline_js();\n",
       "      });\n",
       "    }\n",
       "  }(this));\n",
       "</script>"
      ]
     },
     "metadata": {},
     "output_type": "display_data"
    },
    {
     "data": {
      "text/plain": [
       "<bokeh.io._CommsHandle at 0x11a21de50>"
      ]
     },
     "execution_count": 17,
     "metadata": {},
     "output_type": "execute_result"
    }
   ],
   "source": [
    "p = create_figure(x_axis_label='Time', y_axis_label='Stress')\n",
    "p.line(mps.Time, mps.S.XX, color='blue')\n",
    "p.line(mps.Time, mps.S.YY, color='red')\n",
    "show(p)"
   ]
  },
  {
   "cell_type": "markdown",
   "metadata": {},
   "source": [
    "## Where to Next?\n",
    "\n",
    "[User Defined Materials](UserMaterials.ipynb)"
   ]
  }
 ],
 "metadata": {
  "kernelspec": {
   "display_name": "Python 2",
   "language": "python",
   "name": "python2"
  },
  "language_info": {
   "codemirror_mode": {
    "name": "ipython",
    "version": 2
   },
   "file_extension": ".py",
   "mimetype": "text/x-python",
   "name": "python",
   "nbconvert_exporter": "python",
   "pygments_lexer": "ipython2",
   "version": "2.7.11"
  }
 },
 "nbformat": 4,
 "nbformat_minor": 0
}
