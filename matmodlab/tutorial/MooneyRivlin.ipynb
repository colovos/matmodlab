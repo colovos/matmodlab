{
 "cells": [
  {
   "cell_type": "markdown",
   "metadata": {
    "slideshow": {
     "slide_type": "slide"
    }
   },
   "source": [
    "# Mooney-Rivlin Hyperelasticity"
   ]
  },
  {
   "cell_type": "markdown",
   "metadata": {},
   "source": [
    "## Overview\n",
    "\n",
    "A Mooney-Rivlin hyperelastic material is one for which the derivatives of the free energy with respect to the invariants of stretch are constant.  The Mooney-Rivlin model\n",
    "\n",
    "- a special case of the more general [polynomial hyperelastic model](PolynomialHyperelastic.ipynb)\n",
    "- has 2 elastic constants, typically fit to uniaxial extension/compression, equibiaxial extension/compression, or shear experimental data\n",
    "- usually valid for strains less than 100%\n",
    "\n",
    "## See Also\n",
    "\n",
    "- [User Defined Materials](UserMaterial.ipynb)\n",
    "- [Linear Elastic Material](LinearElastic.ipynb)\n",
    "- [Polynomial Hyperelastic Material](PolynomialHyperelastic.ipynb)\n",
    "\n",
    "## Contents\n",
    "\n",
    "1. <a href='#basic'>Fundamental Equations</a>\n",
    "2. <a href='#implement'>Model Implementation</a>\n",
    "3. <a href='#verify'>Model Verification</a>"
   ]
  },
  {
   "cell_type": "code",
   "execution_count": 1,
   "metadata": {
    "collapsed": false,
    "slideshow": {
     "slide_type": "skip"
    }
   },
   "outputs": [
    {
     "data": {
      "text/html": [
       "\n",
       "\n",
       "    <script type=\"text/javascript\">\n",
       "      \n",
       "      (function(global) {\n",
       "        function now() {\n",
       "          return new Date();\n",
       "        }\n",
       "      \n",
       "        if (typeof (window._bokeh_onload_callbacks) === \"undefined\") {\n",
       "          window._bokeh_onload_callbacks = [];\n",
       "        }\n",
       "      \n",
       "        function run_callbacks() {\n",
       "          window._bokeh_onload_callbacks.forEach(function(callback) { callback() });\n",
       "          delete window._bokeh_onload_callbacks\n",
       "          console.info(\"Bokeh: all callbacks have finished\");\n",
       "        }\n",
       "      \n",
       "        function load_libs(js_urls, callback) {\n",
       "          window._bokeh_onload_callbacks.push(callback);\n",
       "          if (window._bokeh_is_loading > 0) {\n",
       "            console.log(\"Bokeh: BokehJS is being loaded, scheduling callback at\", now());\n",
       "            return null;\n",
       "          }\n",
       "          if (js_urls == null || js_urls.length === 0) {\n",
       "            run_callbacks();\n",
       "            return null;\n",
       "          }\n",
       "          console.log(\"Bokeh: BokehJS not loaded, scheduling load and callback at\", now());\n",
       "          window._bokeh_is_loading = js_urls.length;\n",
       "          for (var i = 0; i < js_urls.length; i++) {\n",
       "            var url = js_urls[i];\n",
       "            var s = document.createElement('script');\n",
       "            s.src = url;\n",
       "            s.async = false;\n",
       "            s.onreadystatechange = s.onload = function() {\n",
       "              window._bokeh_is_loading--;\n",
       "              if (window._bokeh_is_loading === 0) {\n",
       "                console.log(\"Bokeh: all BokehJS libraries loaded\");\n",
       "                run_callbacks()\n",
       "              }\n",
       "            };\n",
       "            s.onerror = function() {\n",
       "              console.warn(\"failed to load library \" + url);\n",
       "            };\n",
       "            console.log(\"Bokeh: injecting script tag for BokehJS library: \", url);\n",
       "            document.getElementsByTagName(\"head\")[0].appendChild(s);\n",
       "          }\n",
       "        };var js_urls = ['https://cdn.pydata.org/bokeh/release/bokeh-0.11.0.min.js', 'https://cdn.pydata.org/bokeh/release/bokeh-widgets-0.11.0.min.js', 'https://cdn.pydata.org/bokeh/release/bokeh-compiler-0.11.0.min.js'];\n",
       "      \n",
       "        var inline_js = [\n",
       "          function(Bokeh) {\n",
       "            Bokeh.set_log_level(\"info\");\n",
       "          },\n",
       "          function(Bokeh) {\n",
       "            console.log(\"Bokeh: injecting CSS: https://cdn.pydata.org/bokeh/release/bokeh-0.11.0.min.css\");\n",
       "            Bokeh.embed.inject_css(\"https://cdn.pydata.org/bokeh/release/bokeh-0.11.0.min.css\");\n",
       "            console.log(\"Bokeh: injecting CSS: https://cdn.pydata.org/bokeh/release/bokeh-widgets-0.11.0.min.css\");\n",
       "            Bokeh.embed.inject_css(\"https://cdn.pydata.org/bokeh/release/bokeh-widgets-0.11.0.min.css\");\n",
       "          }\n",
       "        ];\n",
       "      \n",
       "        function run_inline_js() {\n",
       "          for (var i = 0; i < inline_js.length; i++) {\n",
       "            inline_js[i](window.Bokeh);\n",
       "          }\n",
       "        }\n",
       "      \n",
       "        if (window._bokeh_is_loading === 0) {\n",
       "          console.log(\"Bokeh: BokehJS loaded, going straight to plotting\");\n",
       "          run_inline_js();\n",
       "        } else {\n",
       "          load_libs(js_urls, function() {\n",
       "            console.log(\"Bokeh: BokehJS plotting callback run at\", now());\n",
       "            run_inline_js();\n",
       "          });\n",
       "        }\n",
       "      }(this));\n",
       "    </script>\n",
       "    <div>\n",
       "        <a href=\"http://bokeh.pydata.org\" target=\"_blank\" class=\"bk-logo bk-logo-small bk-logo-notebook\"></a>\n",
       "        <span>BokehJS successfully loaded.</span>\n",
       "    </div>"
      ]
     },
     "metadata": {},
     "output_type": "display_data"
    },
    {
     "name": "stdout",
     "output_type": "stream",
     "text": [
      "Populating the interactive namespace from matmodlab and bokeh\n"
     ]
    }
   ],
   "source": [
    "%matmodlab"
   ]
  },
  {
   "cell_type": "markdown",
   "metadata": {
    "slideshow": {
     "slide_type": "slide"
    }
   },
   "source": [
    "<a name='basic'></a>\n",
    "## Fundamental Equations\n",
    "\n",
    "The Mooney-Rivlin material is a special case of the more general polynomial hyperelastic model defined by the following free energy potential\n",
    "\n",
    "$$\n",
    "a = c_{10}\\left(\\overline{I}_1 - 3\\right) +  c_{01}\\left(\\overline{I}_2 - 3\\right) \n",
    "  + \\frac{1}{D_1}\\left(J-1\\right)^2\n",
    "$$\n",
    "\n",
    "where $c_{10}$, $c_{01}$, and $D_1$ are material parameters, the $\\overline{I}_i$ are the isochoric invariants of the right Cauchy deformation tensor $C_{IJ} = F_{kI}F_{kJ}$, $F_{iJ}$ are the components of the deformation gradient tensor, and $J$ is the determinant of the deformation gradient."
   ]
  },
  {
   "cell_type": "markdown",
   "metadata": {
    "slideshow": {
     "slide_type": "slide"
    }
   },
   "source": [
    "### Second Piola-Kirchhoff Stress\n",
    "\n",
    "The components of the second Piola-Kirchhoff stress $S_{IJ}$ are given by\n",
    "\n",
    "$$\n",
    "\\frac{1}{2\\rho_0} S_{IJ} = \\frac{\\partial a}{\\partial C_{IJ}}\n",
    "$$\n",
    "\n",
    "For an isotropic material, the free energy $a$ is a function of $C_{IJ}$ through only its invariants, giving for $S_{IJ}$\n",
    "\n",
    "$$\n",
    "\\frac{1}{2\\rho_0}S_{IJ} \n",
    "       = \\frac{\\partial a}{\\partial\\overline{I}_1}\\frac{\\partial\\overline{I}_1}{\\partial C_{IJ}}\n",
    "       + \\frac{\\partial a}{\\partial\\overline{I}_2}\\frac{\\partial\\overline{I}_2}{\\partial C_{IJ}}\n",
    "       + \\frac{\\partial a}{\\partial J}\\frac{\\partial J}{\\partial C_{IJ}}\n",
    "$$"
   ]
  },
  {
   "cell_type": "markdown",
   "metadata": {
    "slideshow": {
     "slide_type": "subslide"
    }
   },
   "source": [
    "The partial derivatives of the energy with respect to the invariants are\n",
    "\n",
    "$$\n",
    "\\frac{\\partial a}{\\partial\\overline{I}_1} = c_{10}, \\quad\n",
    "\\frac{\\partial a}{\\partial\\overline{I}_2} = c_{01}, \\quad\n",
    "\\frac{\\partial a}{\\partial J} = \\frac{2}{D_1}\\left(J-1\\right)\n",
    "$$"
   ]
  },
  {
   "cell_type": "markdown",
   "metadata": {
    "slideshow": {
     "slide_type": "subslide"
    }
   },
   "source": [
    "and the partials of the invariants with respect to $C_{IJ}$ are\n",
    "\n",
    "$$\n",
    "\\begin{align}\n",
    "\\frac{\\partial\\overline{I}_1}{\\partial C_{IJ}}\n",
    " &= \\frac{\\partial\\left( J^{-2/3} C_{KK}\\right)}{\\partial C_{IJ}} \\\\\n",
    " %&= \\frac{\\partial J^{-2/3}}{\\partial C_{IJ}} I_1 + J^{-2/3} \\frac{\\partial C_{KK}}{\\partial C_{IJ}} \\\\\n",
    " %&= -\\frac{2}{3}J^{-5/3}\\frac{\\partial J}{\\partial C_{IJ}} I_1 + J^{-2/3} \\delta_{IJ} \\\\\n",
    " %&= -\\frac{2}{3}J^{-5/3}\\frac{1}{2}J C_{IJ}^{-1} I_1 + J^{-2/3} \\delta_{IJ} \\\\\n",
    " &= J^{-2/3}\\left(\\delta_{IJ} - \\frac{1}{3}I_1 C_{IJ}^{-1}\\right) \\\\\n",
    "\\end{align}\n",
    "$$\n",
    "\n",
    "$$\n",
    "\\begin{align}\n",
    "\\frac{\\partial\\overline{I}_2}{\\partial C_{IJ}}\n",
    " &= \\frac{\\partial\\left( J^{-4/3}\\left(C_{KK}^2 - C_{MN}C_{MN}\\right)\\right)}{\\partial C_{IJ}} \\\\\n",
    " %&= \\frac{\\partial J^{-4/3}}{\\partial C_{IJ}} \\left(C_{KK}^2 - C_{MN}C_{MN}\\right) + J^{-4/3} \\frac{\\partial \\left(C_{KK}^2 - C_{MN}C_{MN}\\right)}{\\partial C_{IJ}} \\\\\n",
    " &= J^{-4/3}\\left(I_1\\delta_{IJ} - C_{IJ} - \\frac{2}{3} I_2 C_{IJ}^{-1}\\right) \\\\\n",
    "\\end{align}\n",
    "$$\n",
    "\n",
    "$$\n",
    "\\begin{align}\n",
    "\\frac{\\partial J}{\\partial C_{IJ}} &= \\frac{\\partial \\sqrt{\\det C_{KL}}}{\\partial C_{IJ}} \\\\\n",
    "%&= \\frac{1}{2 \\sqrt{\\det C_{KL}}} \\frac{\\partial\\det C_{KL}}{\\partial C_{IJ}} \\\\\n",
    "%&= \\frac{1}{2 J} \\frac{\\partial\\det C_{KL}}{\\partial C_{IJ}} \\\\\n",
    "&= \\frac{1}{2} J C_{IJ}^{-1} \\\\\n",
    "\\end{align}\n",
    "$$"
   ]
  },
  {
   "cell_type": "markdown",
   "metadata": {
    "slideshow": {
     "slide_type": "subslide"
    }
   },
   "source": [
    "Combining the above results, we arrive at the following expression for the components $S_{IJ}$:\n",
    "\n",
    "$$\n",
    "\\frac{1}{2\\rho_0}S_{IJ} \n",
    "   = c_{10}J^{-2/3}\\left(\\delta_{IJ} - \\frac{1}{3}I_1 C_{IJ}^{-1}\\right)\n",
    "   + c_{01}J^{-4/3}\\left(I_1\\delta_{IJ} - C_{IJ} - \\frac{2}{3} I_2 C_{IJ}^{-1}\\right)\n",
    "   + \\frac{J}{D_1}\\left(J-1\\right) C_{IJ}^{-1}\n",
    "$$"
   ]
  },
  {
   "cell_type": "markdown",
   "metadata": {
    "slideshow": {
     "slide_type": "slide"
    }
   },
   "source": [
    "### Cauchy Stress\n",
    "\n",
    "The components of the Cauchy stress tensor $\\sigma_{ij}$ are given by the push-forward $S_{IJ}$:\n",
    "\n",
    "$$\n",
    "J \\sigma_{ij} = F_{iM}S_{MN}F_{jN}\n",
    "$$\n",
    "\n",
    "$$\n",
    "\\begin{align}\n",
    "\\frac{J}{2\\rho_0}\\sigma_{ij} &= F_{iM}\\left[\n",
    "     c_{10}J^{-2/3}\\left(\\delta_{MN} - \\frac{1}{3}I_1 C_{MN}^{-1}\\right)\n",
    "   + c_{01}J^{-4/3}\\left(I_1\\delta_{MN} - C_{MN} - \\frac{2}{3} I_2 C_{MN}^{-1}\\right)\n",
    "   + \\frac{J}{D_1}\\left(J-1\\right) C_{MN}^{-1}\\right] F_{jN} \\\\\n",
    "  &= c_{10}J^{-2/3}\\left(F_{iN}F_{jN} - \\frac{1}{3}I_1 F_{iM}C_{MN}^{-1}F_{jN}\\right)\n",
    "   + c_{01}J^{-4/3}\\left(I_1F_{iN}F_{jN} - F_{iM}C_{MN}F_{jN} - \\frac{2}{3} I_2 F_{iM}C_{MN}^{-1}F_{jN}\\right) \\\\\n",
    "   &\\qquad + \\frac{J}{D_1}\\left(J-1\\right) F_{iM}C_{MN}^{-1}F_{jN} \\\\\n",
    "\\end{align}\n",
    "$$"
   ]
  },
  {
   "cell_type": "markdown",
   "metadata": {
    "slideshow": {
     "slide_type": "subslide"
    }
   },
   "source": [
    "Recognizing that\n",
    "\n",
    "$$\n",
    "C_{MN} = F_{kM}F_{kN} \\Rightarrow C_{MN}^{-1} = F_{kN}^{-1}F_{kM}^{-1}\n",
    "$$\n",
    "\n",
    "the components of the Cauchy stress can be written as\n",
    "\n",
    "$$\n",
    "\\begin{align}\n",
    "\\frac{J}{2\\rho_0}\\sigma_{ij} \n",
    "  &= c_{10}J^{-2/3}\\left(F_{iN}F_{jN} - \\frac{1}{3}I_1 F_{iM}F_{kN}^{-1}F_{kM}^{-1}F_{jN}\\right)\n",
    "   + c_{01}J^{-4/3}\\left(I_1F_{iN}F_{jN} - F_{iM}F_{kM}F_{kN}F_{jN} - \\frac{2}{3} I_2 F_{iM}F_{kN}^{-1}F_{kM}^{-1}F_{jN}\\right) \\\\\n",
    "   &\\qquad + \\frac{J}{D_1}\\left(J-1\\right) F_{iM}F_{kN}^{-1}F_{kM}^{-1}F_{jN} \\\\\n",
    "  &= c_{10}J^{-2/3}\\left(B_{ij} - \\frac{1}{3}I_1 \\delta_{ij} \\right)\n",
    "   + c_{01}J^{-4/3}\\left(I_1B_{ij} - B_{ik}B_{kj} - \\frac{2}{3} I_2 \\delta_{ij}\\right)\n",
    "   + \\frac{J}{D_1}\\left(J-1\\right) \\delta_{ij} \\\\\n",
    "  &= J^{-2/3} \\left(c_{10} + c_{01}\\overline{I}_1 \\right)B_{ij}\n",
    "   - c_{01}J^{-4/3}B_{ik}B_{kj}\n",
    "  + \\left(\n",
    "      \\frac{J}{D_1}\\left(J-1\\right)  - \\frac{1}{3}\\left(c_{10}\\overline{I}_1 + c_{01}2\\overline{I}_2\\right)\n",
    "    \\right)\\delta_{ij}\n",
    "\\end{align}\n",
    "$$"
   ]
  },
  {
   "cell_type": "markdown",
   "metadata": {
    "slideshow": {
     "slide_type": "subslide"
    }
   },
   "source": [
    "where $B_{ij} = F_{iN}F_{jN}$ is the left Cauchy deformation tensor.  Finally, the components of the Cauchy stress are given by\n",
    "\n",
    "$$\n",
    "\\begin{align}\n",
    "\\sigma_{ij} &= \\frac{2\\rho_0}{J} \\left(\n",
    "  J^{-2/3} \\left(c_{10} + c_{01}\\overline{I}_1 \\right)B_{ij}\n",
    "   - c_{01}J^{-4/3}B_{ik}B_{kj}\\right)\n",
    "  + \\left(\n",
    "      \\frac{2\\rho_0}{D_1}\\left(J-1\\right)  - \\frac{2\\rho_0}{3J}\\left(c_{10}\\overline{I}_1 + c_{01}2\\overline{I}_2\\right)\n",
    "    \\right)\\delta_{ij} \\\\\n",
    "&= \\frac{2\\rho_0}{J} \\left(\n",
    "  \\left(c_{10} + c_{01}\\overline{I}_1 \\right)\\overline{B}_{ij}\n",
    "   - c_{01}\\overline{B}_{ik}\\overline{B}_{kj}\\right)\n",
    "  + \\left(\n",
    "      \\frac{2\\rho_0}{D_1}\\left(J-1\\right)  - \\frac{2\\rho_0}{3J}\\left(c_{10}\\overline{I}_1 + c_{01}2\\overline{I}_2\\right)\n",
    "    \\right)\\delta_{ij} \\\\\n",
    "\\end{align}\n",
    "$$\n",
    "\n",
    "where $\\overline{B}_{ij} = J^{-2/3}B_{ij}$"
   ]
  },
  {
   "cell_type": "markdown",
   "metadata": {
    "slideshow": {
     "slide_type": "slide"
    }
   },
   "source": [
    "<a name='implement'></a>\n",
    "\n",
    "## Matmodlab Implementation\n",
    "\n",
    "Below, a Mooney-Rivlin material model is implemented as a standard Matmodlab material, subclassing the base `MaterialModel` class.  The model defines the following (required) attributes and methods\n",
    "\n",
    "- `name`: name by which the model is referenced   \n",
    "- `param_names`: method returning names of model parameters\n",
    "- `update_state`: method the updates the material state\n",
    "- `setup`: checks user input\n",
    "\n",
    "Additionally, several helper functions are imported from various locations in Matmodlab:\n",
    "\n",
    "- `matmodlab.utils.mmlabpack`\n",
    "\n",
    "   - `det`, `inv`, `asarray`: computes the determinant and inverse of a second-order symmetric tensor stored as an array of length 6\n",
    "   - `asarray`: converts a second-order symmetric tensor stored as a 3x3 matrix to an array of length 6\n",
    "   \n",
    "- `matmodlab.constants`\n",
    "   - `I6`: Identity tensor stored as an array of length 6\n",
    "   "
   ]
  },
  {
   "cell_type": "markdown",
   "metadata": {},
   "source": [
    "### Loading the Material Model\n",
    "\n",
    "Once defined in a computational cell, the material model is loaded in to Matmodlab through the `load_material` function using the `std_material` keyword."
   ]
  },
  {
   "cell_type": "code",
   "execution_count": 2,
   "metadata": {
    "collapsed": true,
    "slideshow": {
     "slide_type": "slide"
    }
   },
   "outputs": [],
   "source": [
    "import logging\n",
    "from numpy import dot, zeros, trace, array, sum, eye\n",
    "from matmodlab.mmd.material import MaterialModel\n",
    "from matmodlab.utils.mmlabpack import asarray, det, inv\n",
    "from matmodlab.constants import I6\n",
    "\n",
    "class UserMooneyRivlin(MaterialModel):\n",
    "    name = \"umooneyrivlin\"\n",
    "\n",
    "    @classmethod\n",
    "    def param_names(cls, n):\n",
    "        return ['C10', 'C01', 'D1']\n",
    "\n",
    "    def setup(self, **kwargs):\n",
    "        \"\"\"Set up the Mooney Rivlin material\n",
    "\n",
    "        \"\"\"\n",
    "        logger = logging.getLogger('matmodlab.mmd.simulator')\n",
    "\n",
    "        # Check inputs\n",
    "        C10 = self.parameters['C10']\n",
    "        C01 = self.parameters['C01']\n",
    "        D1 = self.parameters['D1']\n",
    "\n",
    "        errors = 0\n",
    "        if D1 <= 0.:\n",
    "            errors += 1\n",
    "            logger.error('D1 must be > 0')\n",
    "\n",
    "        G = 2. * (C10 + C01)\n",
    "        if G <= 0:\n",
    "            errors += 1\n",
    "            logger.error('2 (C10 + C01) > 0')\n",
    "\n",
    "        if errors:\n",
    "            raise ValueError(\"stopping due to previous errors\")\n",
    "\n",
    "    def update_state(self, time, dtime, temp, dtemp, energy, rho, F0, F,\n",
    "        stran, d, elec_field, stress, statev, **kwargs):\n",
    "        \"\"\"Compute updated stress given the updated deformation\"\"\"\n",
    "\n",
    "        # elastic properties\n",
    "        C10 = self.parameters['C10']\n",
    "        C01 = self.parameters['C01']\n",
    "        D1 = self.parameters['D1']\n",
    "\n",
    "        # elastic stiffness\n",
    "        ddsdde = None\n",
    "\n",
    "        # Reshape the deformation gradient\n",
    "        F = F.reshape(3,3)\n",
    "        Jac = det(F)\n",
    "\n",
    "        # left Cauchy deformation\n",
    "        B = dot(F, F.T)\n",
    "        Bsq = dot(B, B)\n",
    "\n",
    "        incompressible = D1 > 1e4 * (C10 + C01)\n",
    "        if incompressible:\n",
    "            # enforce incompressibility\n",
    "            Jac = 1\n",
    "\n",
    "        # Invariants of B\n",
    "        I1 = trace(B)\n",
    "        I2 = .5 * (I1 ** 2 - trace(Bsq))\n",
    "\n",
    "        # Invariants of Cbar\n",
    "        scale = sign(abs(Jac) ** (1. / 3.), Jac)\n",
    "        I1B = I1 / (scale ** 2)\n",
    "        I2B = I2 / (scale ** 4)\n",
    "\n",
    "        # convert symmetric tensors to arrays\n",
    "        BBsq = asarray(Bsq, 6) / scale ** 4\n",
    "        BB = asarray(B, 6) / scale ** 2\n",
    "\n",
    "        if not incompressible:\n",
    "            p = -2. / D1 * (Jac - 1.)\n",
    "        else:\n",
    "            p = 0.\n",
    "        pb = p + 2. / 3. / Jac * (C10 * I1B + 2. * C01 * I2B)\n",
    "        stress = 2. / Jac * ((C10 + C01 * I1B) * BB - C01 * BBsq) - pb * I6\n",
    "\n",
    "        return stress, statev, ddsdde\n",
    "\n",
    "def sign(x, y):\n",
    "    return x if y > 0. else -x\n",
    "\n",
    "load_material(UserMooneyRivlin)"
   ]
  },
  {
   "cell_type": "markdown",
   "metadata": {
    "slideshow": {
     "slide_type": "slide"
    }
   },
   "source": [
    "<a name='verify'></a>\n",
    "## Verification"
   ]
  },
  {
   "cell_type": "markdown",
   "metadata": {
    "slideshow": {
     "slide_type": "subslide"
    }
   },
   "source": [
    "### Uniaxial Stress\n",
    "\n",
    "For an incompressible isotropic material, uniaxial stress is produced by the following deformation state\n",
    "\n",
    "$$\n",
    "[F] = \\begin{bmatrix}\\lambda && \\\\ & \\frac{1}{\\sqrt{\\lambda}} & \\\\ & & \\frac{1}{\\sqrt{\\lambda}} \\end{bmatrix}\n",
    "$$\n",
    "\n",
    "The stress difference $\\sigma_{\\text{axial}} - \\sigma_{\\text{lateral}}$ is given by"
   ]
  },
  {
   "cell_type": "code",
   "execution_count": 3,
   "metadata": {
    "collapsed": false,
    "slideshow": {
     "slide_type": "fragment"
    }
   },
   "outputs": [
    {
     "data": {
      "image/png": "[encoded data removed]",
      "text/latex": [
       "$$2 C_{01} \\lambda - \\frac{2 C_{01}}{\\lambda^{2}} + 2 C_{10} \\lambda^{2} - \\frac{2 C_{10}}{\\lambda}$$"
      ],
      "text/plain": [
       "          2⋅C₀₁          2   2⋅C₁₀\n",
       "2⋅C₀₁⋅λ - ───── + 2⋅C₁₀⋅λ  - ─────\n",
       "             2                 λ  \n",
       "            λ                     "
      ]
     },
     "execution_count": 3,
     "metadata": {},
     "output_type": "execute_result"
    }
   ],
   "source": [
    "from sympy import Symbol, Matrix, Rational, symbols, sqrt\n",
    "lam = Symbol('lambda')\n",
    "F = Matrix(3, 3, [lam, 0, 0, 0, 1/sqrt(lam), 0, 0, 0, 1/sqrt(lam)])\n",
    "B = Matrix(3, 3, F.dot(F.T))\n",
    "Bsq = Matrix(3, 3, B.dot(B))\n",
    "I = Matrix(3, 3, lambda i,j: 1 if i==j else 0)\n",
    "I1 = B.trace()\n",
    "I2 = ((B.trace()) ** 2 - Bsq.trace()) / 2\n",
    "J = F.det()\n",
    "X = J ** Rational(1, 3)\n",
    "C1, C2, D1 = symbols('C10 C01 D1')\n",
    "I1B = I1 / X ** 2\n",
    "I2B = I2 / X ** 4\n",
    "\n",
    "S = 2 / J * (1 / X ** 2 * (C1 + I1B * C2) * B - 1 / X ** 4 * C2 * Bsq) \\\n",
    "    + (2 / D1 * (J - 1) - 2 * (C1 * I1B + 2 * C2 * I2B) / 3) * I\n",
    "(S[0,0] - S[1,1]).simplify()"
   ]
  },
  {
   "cell_type": "markdown",
   "metadata": {
    "slideshow": {
     "slide_type": "subslide"
    }
   },
   "source": [
    "We now exercise the Mooney-Rivlin material model using Matmodlab"
   ]
  },
  {
   "cell_type": "code",
   "execution_count": 4,
   "metadata": {
    "collapsed": false,
    "scrolled": false
   },
   "outputs": [
    {
     "data": {
      "text/html": [
       "\n",
       "\n",
       "    <div class=\"plotdiv\" id=\"dfd3a942-8682-4991-bec0-2ee84f19c873\"></div>\n",
       "<script type=\"text/javascript\">\n",
       "  \n",
       "  (function(global) {\n",
       "    function now() {\n",
       "      return new Date();\n",
       "    }\n",
       "  \n",
       "    if (typeof (window._bokeh_onload_callbacks) === \"undefined\") {\n",
       "      window._bokeh_onload_callbacks = [];\n",
       "    }\n",
       "  \n",
       "    function run_callbacks() {\n",
       "      window._bokeh_onload_callbacks.forEach(function(callback) { callback() });\n",
       "      delete window._bokeh_onload_callbacks\n",
       "      console.info(\"Bokeh: all callbacks have finished\");\n",
       "    }\n",
       "  \n",
       "    function load_libs(js_urls, callback) {\n",
       "      window._bokeh_onload_callbacks.push(callback);\n",
       "      if (window._bokeh_is_loading > 0) {\n",
       "        console.log(\"Bokeh: BokehJS is being loaded, scheduling callback at\", now());\n",
       "        return null;\n",
       "      }\n",
       "      if (js_urls == null || js_urls.length === 0) {\n",
       "        run_callbacks();\n",
       "        return null;\n",
       "      }\n",
       "      console.log(\"Bokeh: BokehJS not loaded, scheduling load and callback at\", now());\n",
       "      window._bokeh_is_loading = js_urls.length;\n",
       "      for (var i = 0; i < js_urls.length; i++) {\n",
       "        var url = js_urls[i];\n",
       "        var s = document.createElement('script');\n",
       "        s.src = url;\n",
       "        s.async = false;\n",
       "        s.onreadystatechange = s.onload = function() {\n",
       "          window._bokeh_is_loading--;\n",
       "          if (window._bokeh_is_loading === 0) {\n",
       "            console.log(\"Bokeh: all BokehJS libraries loaded\");\n",
       "            run_callbacks()\n",
       "          }\n",
       "        };\n",
       "        s.onerror = function() {\n",
       "          console.warn(\"failed to load library \" + url);\n",
       "        };\n",
       "        console.log(\"Bokeh: injecting script tag for BokehJS library: \", url);\n",
       "        document.getElementsByTagName(\"head\")[0].appendChild(s);\n",
       "      }\n",
       "    };var element = document.getElementById(\"dfd3a942-8682-4991-bec0-2ee84f19c873\");\n",
       "    if (element == null) {\n",
       "      console.log(\"Bokeh: ERROR: autoload.js configured with elementid 'dfd3a942-8682-4991-bec0-2ee84f19c873' but no matching script tag was found. \")\n",
       "      return false;\n",
       "    }var js_urls = [];\n",
       "  \n",
       "    var inline_js = [\n",
       "      function(Bokeh) {\n",
       "        Bokeh.$(function() {\n",
       "            var docs_json = {\"ea3b0e56-e154-4053-92e4-f881d4a8bcd3\": {\"version\": \"0.11.0\", \"roots\": {\"root_ids\": [\"2b2b592e-0148-4076-bf50-74c7efc6c4d1\"], \"references\": [{\"attributes\": {\"plot\": {\"subtype\": \"Figure\", \"type\": \"Plot\", \"id\": \"2b2b592e-0148-4076-bf50-74c7efc6c4d1\"}}, \"type\": \"ResetTool\", \"id\": \"ee9523ce-33ee-4938-8c2b-ee9bc0061d60\"}, {\"attributes\": {\"plot\": {\"subtype\": \"Figure\", \"type\": \"Plot\", \"id\": \"2b2b592e-0148-4076-bf50-74c7efc6c4d1\"}, \"ticker\": {\"type\": \"BasicTicker\", \"id\": \"f18d8c75-a1cf-48d0-8bd1-c6bdd2bfe060\"}, \"dimension\": 1}, \"type\": \"Grid\", \"id\": \"06f2c27e-1a90-4b1e-b040-294945cb9612\"}, {\"attributes\": {\"plot\": {\"subtype\": \"Figure\", \"type\": \"Plot\", \"id\": \"2b2b592e-0148-4076-bf50-74c7efc6c4d1\"}}, \"type\": \"WheelZoomTool\", \"id\": \"d1eed2d8-9cba-4d2c-a047-3cf7b5c0b00c\"}, {\"attributes\": {\"nonselection_glyph\": {\"type\": \"Line\", \"id\": \"93319c35-5f66-4191-9e3d-a502187ebb2e\"}, \"data_source\": {\"type\": \"ColumnDataSource\", \"id\": \"5b68957c-72fe-4b81-a02a-cac65b39c2b2\"}, \"selection_glyph\": null, \"hover_glyph\": null, \"glyph\": {\"type\": \"Line\", \"id\": \"b50a2c13-bd80-40ca-b784-94cefa91c6bb\"}}, \"type\": \"GlyphRenderer\", \"id\": \"812e7d2e-db80-4de6-9885-e68b19c15baf\"}, {\"attributes\": {}, \"type\": \"BasicTicker\", \"id\": \"f18d8c75-a1cf-48d0-8bd1-c6bdd2bfe060\"}, {\"attributes\": {\"plot\": {\"subtype\": \"Figure\", \"type\": \"Plot\", \"id\": \"2b2b592e-0148-4076-bf50-74c7efc6c4d1\"}}, \"type\": \"PreviewSaveTool\", \"id\": \"1a0b524e-e2fc-4f8a-8a2a-7b1c33be9e31\"}, {\"attributes\": {}, \"type\": \"BasicTickFormatter\", \"id\": \"538aa567-59f1-4823-b554-89673a3ac3c8\"}, {\"attributes\": {\"callback\": null}, \"type\": \"DataRange1d\", \"id\": \"0766839e-8523-45ba-9a6f-8324b9d1a114\"}, {\"attributes\": {\"nonselection_glyph\": {\"type\": \"Circle\", \"id\": \"0c36d09f-4032-40f7-8e68-872b81a89c5e\"}, \"data_source\": {\"type\": \"ColumnDataSource\", \"id\": \"9733b9a2-3944-4e28-93d7-445708fae87f\"}, \"selection_glyph\": null, \"hover_glyph\": null, \"glyph\": {\"type\": \"Circle\", \"id\": \"3cdbcb83-49b5-47c2-ab9d-8cde252804bc\"}}, \"type\": \"GlyphRenderer\", \"id\": \"234c6f72-7961-4304-9cee-f7b75a486638\"}, {\"attributes\": {\"line_color\": {\"value\": \"red\"}, \"x\": {\"field\": \"x\"}, \"fill_color\": {\"value\": \"red\"}, \"y\": {\"field\": \"y\"}}, \"type\": \"Circle\", \"id\": \"3cdbcb83-49b5-47c2-ab9d-8cde252804bc\"}, {\"attributes\": {\"callback\": null, \"column_names\": [\"y\", \"x\"], \"data\": {\"y\": [0.0, -445578.875, -871471.625, -1283473.75, -1686966.0, -2087005.75, -2488411.0, -2895840.0, -3313865.25, -3747045.75, -4200000.0, -1.862645149230957e-09, 371246.46875, 762221.3125, 1176622.75, 1618475.5, 2092175.0, 2602539.5, 3154863.75, 3754982.0, 4409334.0, 5125043.0, 5909996.5, 6772942.5, 7723588.5, 8772722.0, 9932333.0, 11215765.0, 12637862.0, 14215158.0, 15966069.0, 17911112.0], \"x\": [1.0, 0.9330329895019531, 0.8705505728721619, 0.812252402305603, 0.7578582763671875, 0.7071067690849304, 0.6597539782524109, 0.6155722141265869, 0.5743491649627686, 0.5358867049217224, 0.5, 1.0, 1.0564672946929932, 1.1161231994628906, 1.1791476011276245, 1.245730996131897, 1.316074013710022, 1.3903892040252686, 1.4689006805419922, 1.5518455505371094, 1.6394741535186768, 1.7320507764816284, 1.8298550844192505, 1.9331820011138916, 2.0423436164855957, 2.1576693058013916, 2.2795071601867676, 2.4082248210906982, 2.54421067237854, 2.687875270843506, 2.8396522998809814, 3.0]}}, \"type\": \"ColumnDataSource\", \"id\": \"b41a87d9-9751-479e-8dcc-6b5bc9b2a44d\"}, {\"attributes\": {}, \"type\": \"BasicTickFormatter\", \"id\": \"94f7aec2-5e42-4c99-9ce9-569a66ae5645\"}, {\"attributes\": {\"nonselection_glyph\": {\"type\": \"Circle\", \"id\": \"23ca723c-0c14-4d10-b544-acb479c2a90b\"}, \"data_source\": {\"type\": \"ColumnDataSource\", \"id\": \"b41a87d9-9751-479e-8dcc-6b5bc9b2a44d\"}, \"selection_glyph\": null, \"hover_glyph\": null, \"glyph\": {\"type\": \"Circle\", \"id\": \"c5e8c879-3e8c-41fa-bc24-01706adb408e\"}}, \"type\": \"GlyphRenderer\", \"id\": \"8b19d39f-9d83-4cca-aebf-caada2429b47\"}, {\"attributes\": {\"callback\": null, \"column_names\": [\"y\", \"x\"], \"data\": {\"y\": [-8400000.0, -6480502.4951605415, -5030414.591401004, -3901403.1857860317, -2999291.6293847384, -2261994.998382352, -1647259.1169361891, -1125529.1005290996, -675636.3783951018, -282100.7574311621, 66607.73679882435, 379218.1534653006, 662436.2820588324, 921481.8253037069, 1160466.4010933097, 1382664.0390639824, 1590707.7212148285, 1786734.188360528, 1972491.9997351582, 2149423.122515468, 2318725.206020592, 2481399.592143394, 2638288.6752085104, 2790105.226954612, 2937455.6015566145, 3080858.2372999587, 3220758.5131766545, 3357540.758248726, 3491538.0204817792, 3623040.0601489544, 3752299.9270818406, 3879539.401304543, 4004953.516030699, 4128714.3356750477, 4250974.125839529, 4371868.024553571, 4491516.302445422, 4610026.282560016, 4727493.9771456, 4844005.488097583, 4959638.209261283, 5074461.861988163, 5188539.389854218, 5301927.73400787, 5414678.5070032505, 5526838.580025888, 5638450.5960001135, 5749553.419077676, 5860182.529363335, 5970370.370370369], \"x\": [0.5, 0.5510204081632653, 0.6020408163265306, 0.653061224489796, 0.7040816326530612, 0.7551020408163265, 0.8061224489795918, 0.8571428571428572, 0.9081632653061225, 0.9591836734693877, 1.010204081632653, 1.0612244897959184, 1.1122448979591837, 1.163265306122449, 1.2142857142857144, 1.2653061224489797, 1.316326530612245, 1.3673469387755102, 1.4183673469387754, 1.469387755102041, 1.5204081632653061, 1.5714285714285714, 1.6224489795918369, 1.6734693877551021, 1.7244897959183674, 1.7755102040816326, 1.8265306122448979, 1.8775510204081634, 1.9285714285714286, 1.9795918367346939, 2.0306122448979593, 2.0816326530612246, 2.13265306122449, 2.183673469387755, 2.2346938775510203, 2.2857142857142856, 2.336734693877551, 2.387755102040816, 2.438775510204082, 2.489795918367347, 2.5408163265306123, 2.5918367346938775, 2.642857142857143, 2.693877551020408, 2.7448979591836737, 2.795918367346939, 2.8469387755102042, 2.8979591836734695, 2.9489795918367347, 3.0]}}, \"type\": \"ColumnDataSource\", \"id\": \"dc7a7329-7437-43ff-ad0c-3dd414c1c17e\"}, {\"attributes\": {\"callback\": null, \"column_names\": [\"y\", \"x\"], \"data\": {\"y\": [0.0, -477559.625, -1001058.0, -1580141.5, -2225965.0, -2951472.0, -3771725.75, -4704306.0, -5769774.5, -6992235.0, -8400000.0, -1.862645149230957e-09, 351403.65625, 682918.625, 997858.75, 1299217.5, 1589709.25, 1871806.5, 2147772.0, 2419688.0, 2689480.75, 2958945.0, 3229762.0, 3503520.25, 3781728.25, 4065832.5, 4357228.5, 4657275.0, 4967301.5, 5288622.5, 5622543.5, 5970370.5], \"x\": [1.0, 0.9330329895019531, 0.8705505728721619, 0.812252402305603, 0.7578582763671875, 0.7071067690849304, 0.6597539782524109, 0.6155722141265869, 0.5743491649627686, 0.5358867049217224, 0.5, 1.0, 1.0564672946929932, 1.1161231994628906, 1.1791476011276245, 1.245730996131897, 1.316074013710022, 1.3903892040252686, 1.4689006805419922, 1.5518455505371094, 1.6394741535186768, 1.7320507764816284, 1.8298550844192505, 1.9331820011138916, 2.0423436164855957, 2.1576693058013916, 2.2795071601867676, 2.4082248210906982, 2.54421067237854, 2.687875270843506, 2.8396522998809814, 3.0]}}, \"type\": \"ColumnDataSource\", \"id\": \"9733b9a2-3944-4e28-93d7-445708fae87f\"}, {\"attributes\": {\"plot\": {\"subtype\": \"Figure\", \"type\": \"Plot\", \"id\": \"2b2b592e-0148-4076-bf50-74c7efc6c4d1\"}}, \"type\": \"ResizeTool\", \"id\": \"52868d53-fefe-4050-96e7-a6929402b8aa\"}, {\"attributes\": {\"line_color\": {\"value\": \"orange\"}, \"x\": {\"field\": \"x\"}, \"fill_color\": {\"value\": \"orange\"}, \"y\": {\"field\": \"y\"}}, \"type\": \"Circle\", \"id\": \"c5e8c879-3e8c-41fa-bc24-01706adb408e\"}, {\"attributes\": {\"plot\": {\"subtype\": \"Figure\", \"type\": \"Plot\", \"id\": \"2b2b592e-0148-4076-bf50-74c7efc6c4d1\"}, \"axis_label\": \"Stress\", \"formatter\": {\"type\": \"BasicTickFormatter\", \"id\": \"538aa567-59f1-4823-b554-89673a3ac3c8\"}, \"ticker\": {\"type\": \"BasicTicker\", \"id\": \"f18d8c75-a1cf-48d0-8bd1-c6bdd2bfe060\"}}, \"type\": \"LinearAxis\", \"id\": \"153beec3-625e-4441-bc15-127f34afcc2d\"}, {\"attributes\": {\"line_color\": {\"value\": \"blue\"}, \"line_width\": {\"value\": 2}, \"y\": {\"field\": \"y\"}, \"x\": {\"field\": \"x\"}}, \"type\": \"Line\", \"id\": \"b50a2c13-bd80-40ca-b784-94cefa91c6bb\"}, {\"attributes\": {\"nonselection_glyph\": {\"type\": \"Line\", \"id\": \"e279222f-63f8-41d5-ac40-5c9f5d233a43\"}, \"data_source\": {\"type\": \"ColumnDataSource\", \"id\": \"dc7a7329-7437-43ff-ad0c-3dd414c1c17e\"}, \"selection_glyph\": null, \"hover_glyph\": null, \"glyph\": {\"type\": \"Line\", \"id\": \"440a7572-1ff0-41aa-935e-df0db5958529\"}}, \"type\": \"GlyphRenderer\", \"id\": \"c1f92578-859e-485a-bd15-1935e73a96d4\"}, {\"attributes\": {\"plot\": {\"subtype\": \"Figure\", \"type\": \"Plot\", \"id\": \"2b2b592e-0148-4076-bf50-74c7efc6c4d1\"}, \"ticker\": {\"type\": \"BasicTicker\", \"id\": \"30be7780-96a5-4a1a-8a92-b48e28b0ad12\"}}, \"type\": \"Grid\", \"id\": \"23ac2934-c7c0-4b64-8cf7-77658b000ff1\"}, {\"attributes\": {\"plot\": {\"subtype\": \"Figure\", \"type\": \"Plot\", \"id\": \"2b2b592e-0148-4076-bf50-74c7efc6c4d1\"}, \"axis_label\": \"Stretch\", \"formatter\": {\"type\": \"BasicTickFormatter\", \"id\": \"94f7aec2-5e42-4c99-9ce9-569a66ae5645\"}, \"ticker\": {\"type\": \"BasicTicker\", \"id\": \"30be7780-96a5-4a1a-8a92-b48e28b0ad12\"}}, \"type\": \"LinearAxis\", \"id\": \"bf252cb2-c034-4a3e-aafe-cc8d4b66ed7a\"}, {\"attributes\": {}, \"type\": \"ToolEvents\", \"id\": \"0854465b-e737-4553-9e60-75bdcf30ec54\"}, {\"attributes\": {\"line_color\": {\"value\": \"green\"}, \"line_width\": {\"value\": 2}, \"y\": {\"field\": \"y\"}, \"x\": {\"field\": \"x\"}}, \"type\": \"Line\", \"id\": \"440a7572-1ff0-41aa-935e-df0db5958529\"}, {\"attributes\": {\"callback\": null, \"column_names\": [\"y\", \"x\"], \"data\": {\"y\": [-4200000.0, -3570889.1299864203, -3028514.9070679517, -2547855.141737817, -2111746.147219867, -1708037.039594837, -1327892.5534485606, -964739.2290249425, -613588.1395628985, -270586.44080131873, 67287.40758248582, 402435.59143256396, 736791.374942987, 1071927.8375981897, 1409137.772756162, 1749493.2739176922, 2093890.7758848255, 2443085.5228603138, 2797718.244522316, 3158336.016757422, 3525408.7316027367, 3899342.2162253335, 4280488.768960747, 4669155.685924045, 5065612.210847631, 5470095.237655029, 5882814.018965522, 6303954.076711894, 6733680.468072003, 7172140.527233644, 7619466.178462106, 8075775.896593131, 8541176.376024654, 9015763.957494492, 9499625.852641394, 9992841.19897959, 10495481.972040832, 11007613.776724935, 11529296.536099985, 12060585.092814391, 12601529.735776117, 13152176.662704013, 13712568.387471862, 14282744.099776302, 14862739.983508924, 15452589.499256056, 16052323.635551345, 16661971.132837348, 17281558.68353065, 17911111.11111111], \"x\": [0.5, 0.5510204081632653, 0.6020408163265306, 0.653061224489796, 0.7040816326530612, 0.7551020408163265, 0.8061224489795918, 0.8571428571428572, 0.9081632653061225, 0.9591836734693877, 1.010204081632653, 1.0612244897959184, 1.1122448979591837, 1.163265306122449, 1.2142857142857144, 1.2653061224489797, 1.316326530612245, 1.3673469387755102, 1.4183673469387754, 1.469387755102041, 1.5204081632653061, 1.5714285714285714, 1.6224489795918369, 1.6734693877551021, 1.7244897959183674, 1.7755102040816326, 1.8265306122448979, 1.8775510204081634, 1.9285714285714286, 1.9795918367346939, 2.0306122448979593, 2.0816326530612246, 2.13265306122449, 2.183673469387755, 2.2346938775510203, 2.2857142857142856, 2.336734693877551, 2.387755102040816, 2.438775510204082, 2.489795918367347, 2.5408163265306123, 2.5918367346938775, 2.642857142857143, 2.693877551020408, 2.7448979591836737, 2.795918367346939, 2.8469387755102042, 2.8979591836734695, 2.9489795918367347, 3.0]}}, \"type\": \"ColumnDataSource\", \"id\": \"5b68957c-72fe-4b81-a02a-cac65b39c2b2\"}, {\"attributes\": {\"plot\": {\"subtype\": \"Figure\", \"type\": \"Plot\", \"id\": \"2b2b592e-0148-4076-bf50-74c7efc6c4d1\"}}, \"type\": \"PanTool\", \"id\": \"6deacc8d-5e55-4e5f-a368-d776066f95cd\"}, {\"attributes\": {\"plot\": {\"subtype\": \"Figure\", \"type\": \"Plot\", \"id\": \"2b2b592e-0148-4076-bf50-74c7efc6c4d1\"}, \"legends\": [[\"True\", [{\"type\": \"GlyphRenderer\", \"id\": \"812e7d2e-db80-4de6-9885-e68b19c15baf\"}]], [\"Engineering\", [{\"type\": \"GlyphRenderer\", \"id\": \"c1f92578-859e-485a-bd15-1935e73a96d4\"}]], [\"Simulation, True\", [{\"type\": \"GlyphRenderer\", \"id\": \"8b19d39f-9d83-4cca-aebf-caada2429b47\"}]], [\"Simulation, Engineering\", [{\"type\": \"GlyphRenderer\", \"id\": \"234c6f72-7961-4304-9cee-f7b75a486638\"}]]], \"location\": \"top_left\"}, \"type\": \"Legend\", \"id\": \"a3b9aaba-d176-4240-afb1-7101fee9afad\"}, {\"attributes\": {}, \"type\": \"BasicTicker\", \"id\": \"30be7780-96a5-4a1a-8a92-b48e28b0ad12\"}, {\"attributes\": {\"callback\": null}, \"type\": \"DataRange1d\", \"id\": \"41dc5973-7055-4ac1-88a2-c21b670513ad\"}, {\"attributes\": {\"x_range\": {\"type\": \"DataRange1d\", \"id\": \"0766839e-8523-45ba-9a6f-8324b9d1a114\"}, \"y_range\": {\"type\": \"DataRange1d\", \"id\": \"41dc5973-7055-4ac1-88a2-c21b670513ad\"}, \"renderers\": [{\"type\": \"LinearAxis\", \"id\": \"bf252cb2-c034-4a3e-aafe-cc8d4b66ed7a\"}, {\"type\": \"Grid\", \"id\": \"23ac2934-c7c0-4b64-8cf7-77658b000ff1\"}, {\"type\": \"LinearAxis\", \"id\": \"153beec3-625e-4441-bc15-127f34afcc2d\"}, {\"type\": \"Grid\", \"id\": \"06f2c27e-1a90-4b1e-b040-294945cb9612\"}, {\"type\": \"BoxAnnotation\", \"id\": \"e9cb51ad-e02c-4709-86b1-b10661b280b9\"}, {\"type\": \"Legend\", \"id\": \"a3b9aaba-d176-4240-afb1-7101fee9afad\"}, {\"type\": \"GlyphRenderer\", \"id\": \"812e7d2e-db80-4de6-9885-e68b19c15baf\"}, {\"type\": \"GlyphRenderer\", \"id\": \"c1f92578-859e-485a-bd15-1935e73a96d4\"}, {\"type\": \"GlyphRenderer\", \"id\": \"8b19d39f-9d83-4cca-aebf-caada2429b47\"}, {\"type\": \"GlyphRenderer\", \"id\": \"234c6f72-7961-4304-9cee-f7b75a486638\"}], \"below\": [{\"type\": \"LinearAxis\", \"id\": \"bf252cb2-c034-4a3e-aafe-cc8d4b66ed7a\"}], \"tool_events\": {\"type\": \"ToolEvents\", \"id\": \"0854465b-e737-4553-9e60-75bdcf30ec54\"}, \"tools\": [{\"type\": \"ResizeTool\", \"id\": \"52868d53-fefe-4050-96e7-a6929402b8aa\"}, {\"type\": \"PanTool\", \"id\": \"6deacc8d-5e55-4e5f-a368-d776066f95cd\"}, {\"type\": \"WheelZoomTool\", \"id\": \"d1eed2d8-9cba-4d2c-a047-3cf7b5c0b00c\"}, {\"type\": \"BoxZoomTool\", \"id\": \"37a40dce-1d19-4417-8ad6-64364903798d\"}, {\"type\": \"ResetTool\", \"id\": \"ee9523ce-33ee-4938-8c2b-ee9bc0061d60\"}, {\"type\": \"PreviewSaveTool\", \"id\": \"1a0b524e-e2fc-4f8a-8a2a-7b1c33be9e31\"}], \"left\": [{\"type\": \"LinearAxis\", \"id\": \"153beec3-625e-4441-bc15-127f34afcc2d\"}]}, \"type\": \"Plot\", \"id\": \"2b2b592e-0148-4076-bf50-74c7efc6c4d1\", \"subtype\": \"Figure\"}, {\"attributes\": {\"plot\": {\"subtype\": \"Figure\", \"type\": \"Plot\", \"id\": \"2b2b592e-0148-4076-bf50-74c7efc6c4d1\"}, \"overlay\": {\"type\": \"BoxAnnotation\", \"id\": \"e9cb51ad-e02c-4709-86b1-b10661b280b9\"}}, \"type\": \"BoxZoomTool\", \"id\": \"37a40dce-1d19-4417-8ad6-64364903798d\"}, {\"attributes\": {\"line_color\": {\"value\": \"black\"}, \"line_alpha\": {\"value\": 1.0}, \"render_mode\": \"css\", \"bottom_units\": \"screen\", \"level\": \"overlay\", \"top_units\": \"screen\", \"fill_alpha\": {\"value\": 0.5}, \"plot\": null, \"left_units\": \"screen\", \"line_dash\": [4, 4], \"line_width\": {\"value\": 2}, \"right_units\": \"screen\", \"fill_color\": {\"value\": \"lightgrey\"}}, \"type\": \"BoxAnnotation\", \"id\": \"e9cb51ad-e02c-4709-86b1-b10661b280b9\"}, {\"attributes\": {\"line_color\": {\"value\": \"#1f77b4\"}, \"line_alpha\": {\"value\": 0.1}, \"fill_color\": {\"value\": \"#1f77b4\"}, \"fill_alpha\": {\"value\": 0.1}, \"y\": {\"field\": \"y\"}, \"x\": {\"field\": \"x\"}}, \"type\": \"Circle\", \"id\": \"0c36d09f-4032-40f7-8e68-872b81a89c5e\"}, {\"attributes\": {\"line_color\": {\"value\": \"#1f77b4\"}, \"line_alpha\": {\"value\": 0.1}, \"y\": {\"field\": \"y\"}, \"x\": {\"field\": \"x\"}, \"line_width\": {\"value\": 2}}, \"type\": \"Line\", \"id\": \"93319c35-5f66-4191-9e3d-a502187ebb2e\"}, {\"attributes\": {\"line_color\": {\"value\": \"#1f77b4\"}, \"line_alpha\": {\"value\": 0.1}, \"y\": {\"field\": \"y\"}, \"x\": {\"field\": \"x\"}, \"line_width\": {\"value\": 2}}, \"type\": \"Line\", \"id\": \"e279222f-63f8-41d5-ac40-5c9f5d233a43\"}, {\"attributes\": {\"line_color\": {\"value\": \"#1f77b4\"}, \"line_alpha\": {\"value\": 0.1}, \"fill_color\": {\"value\": \"#1f77b4\"}, \"fill_alpha\": {\"value\": 0.1}, \"y\": {\"field\": \"y\"}, \"x\": {\"field\": \"x\"}}, \"type\": \"Circle\", \"id\": \"23ca723c-0c14-4d10-b544-acb479c2a90b\"}]}, \"title\": \"Bokeh Application\"}};\n",
       "            var render_items = [{\"notebook_comms_target\": \"79ff6952-f3aa-402b-a281-f1dbbbafb73c\", \"docid\": \"ea3b0e56-e154-4053-92e4-f881d4a8bcd3\", \"elementid\": \"dfd3a942-8682-4991-bec0-2ee84f19c873\", \"modelid\": \"2b2b592e-0148-4076-bf50-74c7efc6c4d1\"}];\n",
       "            \n",
       "            Bokeh.embed.embed_items(docs_json, render_items);\n",
       "        });\n",
       "      },\n",
       "      function(Bokeh) {\n",
       "      }\n",
       "    ];\n",
       "  \n",
       "    function run_inline_js() {\n",
       "      for (var i = 0; i < inline_js.length; i++) {\n",
       "        inline_js[i](window.Bokeh);\n",
       "      }\n",
       "    }\n",
       "  \n",
       "    if (window._bokeh_is_loading === 0) {\n",
       "      console.log(\"Bokeh: BokehJS loaded, going straight to plotting\");\n",
       "      run_inline_js();\n",
       "    } else {\n",
       "      load_libs(js_urls, function() {\n",
       "        console.log(\"Bokeh: BokehJS plotting callback run at\", now());\n",
       "        run_inline_js();\n",
       "      });\n",
       "    }\n",
       "  }(this));\n",
       "</script>"
      ]
     },
     "metadata": {},
     "output_type": "display_data"
    }
   ],
   "source": [
    "# Hyperelastic parameters, D1 set to a large number to force incompressibility\n",
    "parameters = {'D1': 1.e12, 'C10': 1e6, 'C01': .1e6}\n",
    "\n",
    "# stretch to 300%\n",
    "lam = linspace(.5, 3, 50)\n",
    "\n",
    "# Set up the simulator\n",
    "mps = MaterialPointSimulator('test1')\n",
    "mps.Material('umooneyrivlin', parameters)\n",
    "\n",
    "# Drive the *incompressible* material through a path of uniaxial stress by\n",
    "# prescribing the deformation gradient.\n",
    "Fij = lambda x: (x, 0, 0, 0, 1/sqrt(x), 0, 0, 0, 1/sqrt(x))\n",
    "mps.DefGradStep(components=Fij(lam[0]), frames=10)\n",
    "mps.DefGradStep(components=Fij(1), frames=1)\n",
    "mps.DefGradStep(components=Fij(lam[-1]), frames=20)\n",
    "\n",
    "# plot the analytic solution and the simulation\n",
    "p = create_figure(x_axis_label='Stretch', y_axis_label='Stress')\n",
    "C10, C01 = parameters['C10'], parameters['C01']\n",
    "\n",
    "# analytic solution for true and engineering stress\n",
    "s = 2*C01*lam - 2*C01/lam**2 + 2*C10*lam**2 - 2*C10/lam\n",
    "\n",
    "# plot the analytic solutions\n",
    "p.line(lam, s, color='blue', legend='True', line_width=2)\n",
    "p.line(lam, s/lam, color='green', legend='Engineering', line_width=2)\n",
    "\n",
    "lam_ = np.exp(mps.get('E.XX'))\n",
    "ss = mps.get('S.XX') - mps.get('S.ZZ')\n",
    "p.circle(lam_, ss, color='orange', legend='Simulation, True')\n",
    "p.circle(lam_, ss/lam_, color='red', legend='Simulation, Engineering')\n",
    "p.legend.location = 'top_left'\n",
    "\n",
    "show(p)\n",
    "\n",
    "# check the actual solutions\n",
    "assert abs(amax(ss) - amax(s)) / amax(s) < 1e-6\n",
    "assert abs(amin(ss) - amin(s)) < 1e-6"
   ]
  }
 ],
 "metadata": {
  "kernelspec": {
   "display_name": "Python 2",
   "language": "python",
   "name": "python2"
  },
  "language_info": {
   "codemirror_mode": {
    "name": "ipython",
    "version": 2
   },
   "file_extension": ".py",
   "mimetype": "text/x-python",
   "name": "python",
   "nbconvert_exporter": "python",
   "pygments_lexer": "ipython2",
   "version": "2.7.11"
  }
 },
 "nbformat": 4,
 "nbformat_minor": 0
}
