{
 "cells": [
  {
   "cell_type": "code",
   "execution_count": 1,
   "metadata": {
    "collapsed": true
   },
   "outputs": [],
   "source": [
    "from sympy import *"
   ]
  },
  {
   "cell_type": "code",
   "execution_count": 7,
   "metadata": {
    "collapsed": false
   },
   "outputs": [],
   "source": [
    "I = Matrix(3,3, lambda i,j: 1 if i==j else 0)\n",
    "def _Matrix(M,ij):\n",
    "    return Matrix(3,3,[Symbol('{}[{}]'.format(M,i)) for i in ij])\n",
    "def SymMatrix(M):\n",
    "    return _Matrix(M, (0,3,5,3,1,4,5,4,2))\n",
    "def UnsymMatrix(M):\n",
    "    return _Matrix(M, (0,1,2,3,4,5,6,7,8))"
   ]
  },
  {
   "cell_type": "code",
   "execution_count": 14,
   "metadata": {
    "collapsed": false
   },
   "outputs": [
    {
     "name": "stdout",
     "output_type": "stream",
     "text": [
      "    @classmethod\n",
      "    def param_names(cls, n):\n",
      "        return ['C10','C01','C20','C11','C02','C30','C21','C12','C03','C40','C31','C22','C13','C04','C50','C41','C32','C23','C14','C05']\n"
     ]
    }
   ],
   "source": [
    "print '    @classmethod'\n",
    "print '    def param_names(cls, n):'\n",
    "N = 5\n",
    "ij = []\n",
    "for n in range(N+2):\n",
    "    ij.extend([(i,j) for i in range(n)[::-1] for j in range(n) if i+j==n-1])\n",
    "ij = ij[1:]\n",
    "params = '        return [{}]'.format(','.join([\"'C{}{}'\".format(i,j) for i,j in ij]))\n",
    "print params"
   ]
  },
  {
   "cell_type": "code",
   "execution_count": 28,
   "metadata": {
    "collapsed": false
   },
   "outputs": [
    {
     "name": "stdout",
     "output_type": "stream",
     "text": [
      "def symsq(F):\n",
      "    X = zeros(6)\n",
      "    X[0] = F[0]**2 + F[3]**2 + F[6]**2\n",
      "    X[1] = F[1]**2 + F[4]**2 + F[7]**2\n",
      "    X[2] = F[2]**2 + F[5]**2 + F[8]**2\n",
      "    X[3] = F[0]*F[1] + F[3]*F[4] + F[6]*F[7]\n",
      "    X[4] = F[1]*F[2] + F[4]*F[5] + F[7]*F[8]\n",
      "    X[5] = F[0]*F[2] + F[3]*F[5] + F[6]*F[8]\n",
      "    return X\n"
     ]
    }
   ],
   "source": [
    "F = UnsymMatrix('F')\n",
    "FtF = F.T * F\n",
    "print 'def symsq(F):'\n",
    "ij = {0:(0,0),1:(1,1),2:(2,2),3:(0,1),4:(1,2),5:(0,2)}\n",
    "print '    X = zeros(6)'\n",
    "for I in range(6):\n",
    "    i,j = ij[I]\n",
    "    print '    X[{}] = {}'.format(I, FtF[i,j])\n",
    "print '    return X'"
   ]
  },
  {
   "cell_type": "code",
   "execution_count": 16,
   "metadata": {
    "collapsed": false
   },
   "outputs": [
    {
     "name": "stdout",
     "output_type": "stream",
     "text": [
      "def det(A):\n",
      "    if issym(A):\n",
      "        X = A[0]*A[1]*A[2] - A[0]*A[4]**2 - A[1]*A[5]**2 - A[2]*A[3]**2 + 2*A[3]*A[4]*A[5]\n",
      "    else:\n",
      "        X = A[0]*A[4]*A[8] - A[0]*A[5]*A[7] - A[1]*A[3]*A[8] + A[1]*A[5]*A[6] + A[2]*A[3]*A[7] - A[2]*A[4]*A[6]\n",
      "    return X\n"
     ]
    }
   ],
   "source": [
    "F = UnsymMatrix('F')\n",
    "A = SymMatrix('A')\n",
    "dA = A.det()\n",
    "dF = F.det()\n",
    "print 'def det(A):'\n",
    "print '    if issym(A):'\n",
    "print '        X = {}'.format(dA)\n",
    "print '    else:'\n",
    "print '        X = {}'.format(dF).replace('F', 'A')\n",
    "print '    return X'"
   ]
  },
  {
   "cell_type": "code",
   "execution_count": 18,
   "metadata": {
    "collapsed": false
   },
   "outputs": [
    {
     "name": "stdout",
     "output_type": "stream",
     "text": [
      "def invariants(A, itype=0):\n",
      "    I1 = A[0] + A[1] + A[2]\n",
      "    I2 = -A[0]**2/2 - A[1]**2/2 - A[2]**2/2 - A[3]**2 - A[4]**2 - A[5]**2 + (A[0] + A[1] + A[2])**2/2\n",
      "    I3 = det(A)\n",
      "    return I1, I2, I3\n"
     ]
    }
   ],
   "source": [
    "A = SymMatrix('A')\n",
    "print 'def invariants(A, itype=0):'\n",
    "I1 = A.trace()\n",
    "I2 = (I1 ** 2 - (A * A).trace()) / 2\n",
    "print '    I1 = {}'.format(I1)\n",
    "print '    I2 = {}'.format(I2)\n",
    "print '    I3 = det(A)'\n",
    "print '    return I1, I2, I3'"
   ]
  },
  {
   "cell_type": "code",
   "execution_count": 24,
   "metadata": {
    "collapsed": false
   },
   "outputs": [
    {
     "name": "stdout",
     "output_type": "stream",
     "text": [
      "\n",
      "def uhyper(c, IB1, IB2, Jac):\n",
      "    \"\"\"HYPERELASTIC POLYNOMIAL MODEL\"\"\"\n",
      "    # Energies\n",
      "    u = zeros(2)\n",
      "    u[1] += c[0] * ((IB1 - 3.) ** 1) * ((IB2 - 3.) ** 0)\n",
      "    u[1] += c[1] * ((IB1 - 3.) ** 0) * ((IB2 - 3.) ** 1)\n",
      "    u[1] += c[2] * ((IB1 - 3.) ** 2) * ((IB2 - 3.) ** 0)\n",
      "    u[1] += c[3] * ((IB1 - 3.) ** 1) * ((IB2 - 3.) ** 1)\n",
      "    u[1] += c[4] * ((IB1 - 3.) ** 0) * ((IB2 - 3.) ** 2)\n",
      "    u[1] += c[5] * ((IB1 - 3.) ** 3) * ((IB2 - 3.) ** 0)\n",
      "    u[1] += c[6] * ((IB1 - 3.) ** 2) * ((IB2 - 3.) ** 1)\n",
      "    u[1] += c[7] * ((IB1 - 3.) ** 1) * ((IB2 - 3.) ** 2)\n",
      "    u[1] += c[8] * ((IB1 - 3.) ** 0) * ((IB2 - 3.) ** 3)\n",
      "    if (c[9] > 0.) u[0] += 1. / c[9] * (Jac - 1.) ** 2\n",
      "    if (c[10] > 0.) u[0] += 1. / c[10] * (Jac - 1.) ** 4\n",
      "    if (c[11] > 0.) u[0] += 1. / c[11] * (Jac - 1.) ** 6\n",
      "    u[0] = u[0] + u[1]\n",
      "\n",
      "    # First Derivatives\n",
      "    du = zeros(3)\n",
      "    du[0] += 1.0 * c[0] * ((IB1 - 3.) ** 0) * ((IB2 - 3.) ** 0)\n",
      "    du[1] += 1.0 * c[1] * ((IB1 - 3.) ** 0) * ((IB2 - 3.) ** 0)\n",
      "    du[0] += 2.0 * c[2] * ((IB1 - 3.) ** 1) * ((IB2 - 3.) ** 0)\n",
      "    du[0] += 1.0 * c[3] * ((IB1 - 3.) ** 0) * ((IB2 - 3.) ** 1)\n",
      "    du[1] += 1.0 * c[3] * ((IB1 - 3.) ** 1) * ((IB2 - 3.) ** 0)\n",
      "    du[1] += 2.0 * c[4] * ((IB1 - 3.) ** 0) * ((IB2 - 3.) ** 1)\n",
      "    du[0] += 3.0 * c[5] * ((IB1 - 3.) ** 2) * ((IB2 - 3.) ** 0)\n",
      "    du[0] += 2.0 * c[6] * ((IB1 - 3.) ** 1) * ((IB2 - 3.) ** 1)\n",
      "    du[1] += 1.0 * c[6] * ((IB1 - 3.) ** 2) * ((IB2 - 3.) ** 0)\n",
      "    du[0] += 1.0 * c[7] * ((IB1 - 3.) ** 0) * ((IB2 - 3.) ** 2)\n",
      "    du[1] += 2.0 * c[7] * ((IB1 - 3.) ** 1) * ((IB2 - 3.) ** 1)\n",
      "    du[1] += 3.0 * c[8] * ((IB1 - 3.) ** 0) * ((IB2 - 3.) ** 2)\n",
      "    if (c[9] > 0.) du[2] += 2.0 / c[9] * (Jac - 1.) ** 1\n",
      "    if (c[10] > 0.) du[2] += 4.0 / c[10] * (Jac - 1.) ** 3\n",
      "    if (c[11] > 0.) du[2] += 6.0 / c[11] * (Jac - 1.) ** 5\n",
      "\n",
      "    # Second Derivatives\n",
      "    ddu = zeros(6)\n",
      "    ddu[0] += 2.0 * c[2] * ((IB1 - 3.) ** 0) * ((IB2 - 3.) ** 0)\n",
      "    ddu[3] += 1.0 * c[3] * ((IB1 - 3.) ** 0) * ((IB2 - 3.) ** 0)\n",
      "    ddu[1] += 2.0 * c[4] * ((IB1 - 3.) ** 0) * ((IB2 - 3.) ** 0)\n",
      "    ddu[0] += 6.0 * c[5] * ((IB1 - 3.) ** 1) * ((IB2 - 3.) ** 0)\n",
      "    ddu[0] += 2.0 * c[6] * ((IB1 - 3.) ** 0) * ((IB2 - 3.) ** 1)\n",
      "    ddu[3] += 2.0 * c[6] * ((IB1 - 3.) ** 1) * ((IB2 - 3.) ** 0)\n",
      "    ddu[1] += 2.0 * c[7] * ((IB1 - 3.) ** 1) * ((IB2 - 3.) ** 0)\n",
      "    ddu[3] += 2.0 * c[7] * ((IB1 - 3.) ** 0) * ((IB2 - 3.) ** 1)\n",
      "    ddu[1] += 6.0 * c[8] * ((IB1 - 3.) ** 0) * ((IB2 - 3.) ** 1)\n",
      "    if (c[9] > 0.) ddu[2] += 2.0 / c[9] * (Jac - 1.) ** 0\n",
      "    if (c[10] > 0.) ddu[2] += 12.0 / c[10] * (Jac - 1.) ** 2\n",
      "    if (c[11] > 0.) ddu[2] += 30.0 / c[11] * (Jac - 1.) ** 4\n",
      "\n",
      "    # Third Derivatives\n",
      "    dddu = zeros(6)\n",
      "    if (c[10] > 0.) dddu[5] += 24.0 / c[10] * (Jac - 1.) ** 1\n",
      "    if (c[11] > 0.) dddu[5] += 120.0 / c[11] * (Jac - 1.) ** 3\n",
      "    return du, ddu, dddu\n"
     ]
    }
   ],
   "source": [
    "\n",
    "NCI = (1,0,2,1,0,3,2,1,0)\n",
    "NCJ = (0,1,0,1,2,0,1,2,3)\n",
    "\n",
    "u = ['u = zeros(2)']\n",
    "for k in range(9):\n",
    "    i = NCI[k]\n",
    "    j = NCJ[k]\n",
    "    w = 'c[{0}] * ((IB1 - 3.) ** {1}) * ((IB2 - 3.) ** {2})'.format(k, i, j)\n",
    "    u.append('u[1] += {0}'.format(w))\n",
    "for k in range(3):\n",
    "    K = k + 1\n",
    "    w = '1. / c[{0}] * (Jac - 1.) ** {1}'.format(9+k, 2*K)\n",
    "    u.append('if (c[{0}] > 0.) u[0] += {1}'.format(9+k, w))\n",
    "u.append('u[0] = u[0] + u[1]')\n",
    "\n",
    "du = ['du = zeros(3)']\n",
    "for k in range(9):\n",
    "    i = NCI[k]\n",
    "    j = NCJ[k]\n",
    "    if i > 0:\n",
    "        fac = i\n",
    "        w1 = '(IB1 - 3.) ** {0}'.format(i-1)\n",
    "        w2 = '(IB2 - 3.) ** {0}'.format(j)\n",
    "        w = '{0:.1f} * c[{1}] * ({2}) * ({3})'.format(fac, k, w1, w2)\n",
    "        du.append('du[0] += {0}'.format(w))\n",
    "\n",
    "    if j > 0:\n",
    "        fac = j\n",
    "        w1 = '(IB1 - 3.) ** {0}'.format(i)\n",
    "        w2 = '(IB2 - 3.) ** {0}'.format(j-1)\n",
    "        w = '{0:.1f} * c[{1}] * ({2}) * ({3})'.format(fac, k, w1, w2)\n",
    "        du.append('du[1] += {0}'.format(w))\n",
    "\n",
    "for k in range(3):\n",
    "    K = k + 1\n",
    "    fac = 2 * K\n",
    "    if fac <= 0:\n",
    "        continue\n",
    "    w = '{0:.1f} / c[{1}] * (Jac - 1.) ** {2}'.format(fac, 9+k, 2*K-1)\n",
    "    du.append('if (c[{0}] > 0.) du[2] += {1}'.format(9+k, w))\n",
    "\n",
    "d2u = ['ddu = zeros(6)']\n",
    "for k in range(9):\n",
    "    i = NCI[k]\n",
    "    j = NCJ[k]\n",
    "\n",
    "    fac = i * (i - 1)\n",
    "    if fac > 0:\n",
    "        w1 = '(IB1 - 3.) ** {0}'.format(i-2)\n",
    "        w2 = '(IB2 - 3.) ** {0}'.format(j)\n",
    "        w = '{0:.1f} * c[{1}] * ({2}) * ({3})'.format(fac, k, w1, w2)\n",
    "        d2u.append('ddu[0] += {0}'.format(w))\n",
    "\n",
    "    fac = j * (j - 1)\n",
    "    if fac > 0:\n",
    "        w1 = '(IB1 - 3.) ** {0}'.format(i)\n",
    "        w2 = '(IB2 - 3.) ** {0}'.format(j-2)\n",
    "        w = '{0:.1f} * c[{1}] * ({2}) * ({3})'.format(fac, k, w1, w2)\n",
    "        d2u.append('ddu[1] += {0}'.format(w))\n",
    "\n",
    "    fac = i * j\n",
    "    if fac > 0:\n",
    "        w1 = '(IB1 - 3.) ** {0}'.format(i-1)\n",
    "        w2 = '(IB2 - 3.) ** {0}'.format(j-1)\n",
    "        w = '{0:.1f} * c[{1}] * ({2}) * ({3})'.format(fac, k, w1, w2)\n",
    "        d2u.append('ddu[3] += {0}'.format(w))\n",
    "\n",
    "for k in range(3):\n",
    "    K = k + 1\n",
    "    fac = 2 * K * (2 * K - 1)\n",
    "    if fac <= 0:\n",
    "        continue\n",
    "    w = '{0:.1f} / c[{1}] * (Jac - 1.) ** {2}'.format(fac, 9+k, 2*K-2)\n",
    "    d2u.append('if (c[{0}] > 0.) ddu[2] += {1}'.format(9+k, w))\n",
    "\n",
    "d3u = ['dddu = zeros(6)']\n",
    "for k in range(3):\n",
    "    K = k + 1\n",
    "    fac = 4 * K * (2 * K - 1) * (K - 1)\n",
    "    if fac <= 0:\n",
    "        continue\n",
    "    w = '{0:.1f} / c[{1}] * (Jac - 1.) ** {2}'.format(fac, 9+k, 2*K-3)\n",
    "    d3u.append('if (c[{0}] > 0.) dddu[5] += {1}'.format(9+k, w))\n",
    "\n",
    "print '''\n",
    "def uhyper(c, IB1, IB2, Jac):\n",
    "    \"\"\"HYPERELASTIC POLYNOMIAL MODEL\"\"\"'''\n",
    "\n",
    "s = 'Energies'\n",
    "print '    # {0}'.format(s)\n",
    "print '    {0}'.format('\\n    '.join(u))\n",
    "\n",
    "s = 'First Derivatives'\n",
    "print '\\n    # {0}'.format(s)\n",
    "print '    {0}'.format('\\n    '.join(du))\n",
    "\n",
    "s = 'Second Derivatives'\n",
    "print '\\n    # {0}'.format(s)\n",
    "print '    {0}'.format('\\n    '.join(d2u))\n",
    "\n",
    "s = 'Third Derivatives'\n",
    "print '\\n    # {0}'.format(s)\n",
    "print '    {0}'.format('\\n    '.join(d3u))\n",
    "\n",
    "print '    return du, ddu, dddu'"
   ]
  },
  {
   "cell_type": "code",
   "execution_count": 26,
   "metadata": {
    "collapsed": false
   },
   "outputs": [
    {
     "name": "stdout",
     "output_type": "stream",
     "text": [
      "def push(F, A):\n",
      "    X = zeros(6)\n",
      "    X[0] = F[0]*(A[0]*F[0] + A[3]*F[1] + A[5]*F[2]) + F[1]*(A[1]*F[1] + A[3]*F[0] + A[4]*F[2]) + F[2]*(A[2]*F[2] + A[4]*F[1] + A[5]*F[0])\n",
      "    X[1] = F[3]*(A[0]*F[3] + A[3]*F[4] + A[5]*F[5]) + F[4]*(A[1]*F[4] + A[3]*F[3] + A[4]*F[5]) + F[5]*(A[2]*F[5] + A[4]*F[4] + A[5]*F[3])\n",
      "    X[2] = F[6]*(A[0]*F[6] + A[3]*F[7] + A[5]*F[8]) + F[7]*(A[1]*F[7] + A[3]*F[6] + A[4]*F[8]) + F[8]*(A[2]*F[8] + A[4]*F[7] + A[5]*F[6])\n",
      "    X[3] = F[3]*(A[0]*F[0] + A[3]*F[1] + A[5]*F[2]) + F[4]*(A[1]*F[1] + A[3]*F[0] + A[4]*F[2]) + F[5]*(A[2]*F[2] + A[4]*F[1] + A[5]*F[0])\n",
      "    X[4] = F[6]*(A[0]*F[3] + A[3]*F[4] + A[5]*F[5]) + F[7]*(A[1]*F[4] + A[3]*F[3] + A[4]*F[5]) + F[8]*(A[2]*F[5] + A[4]*F[4] + A[5]*F[3])\n",
      "    X[5] = F[6]*(A[0]*F[0] + A[3]*F[1] + A[5]*F[2]) + F[7]*(A[1]*F[1] + A[3]*F[0] + A[4]*F[2]) + F[8]*(A[2]*F[2] + A[4]*F[1] + A[5]*F[0])\n",
      "    return X / det(F)\n"
     ]
    }
   ],
   "source": [
    "F = UnsymMatrix('F')\n",
    "A = SymMatrix('A')\n",
    "X = F * A * F.T\n",
    "print 'def push(F, A):'\n",
    "ij = {0:(0,0),1:(1,1),2:(2,2),3:(0,1),4:(1,2),5:(0,2)}\n",
    "print '    X = zeros(6)'\n",
    "for I in range(6):\n",
    "    i,j = ij[I]\n",
    "    print '    X[{}] = {}'.format(I, X[i,j])\n",
    "print '    return X / det(F)'"
   ]
  },
  {
   "cell_type": "code",
   "execution_count": 27,
   "metadata": {
    "collapsed": false
   },
   "outputs": [
    {
     "name": "stdout",
     "output_type": "stream",
     "text": [
      "def inv(A):\n",
      "    if issym(A):\n",
      "        X = zeros(6)\n",
      "        X[0] = -(A[0]*A[1] - A[3]**2)*(-A[3]*(A[4] - A[3]*A[5]/A[0])/(A[0]*(A[1] - A[3]**2/A[0])) + A[5]/A[0])*(A[3]*(A[4] - A[3]*A[5]/A[0])/(A[0]*(A[1] - A[3]**2/A[0])) - A[5]/A[0])/(A[0]*A[1]*A[2] - A[0]*A[4]**2 - A[1]*A[5]**2 - A[2]*A[3]**2 + 2*A[3]*A[4]*A[5]) + 1/A[0] + A[3]**2/(A[0]**2*(A[1] - A[3]**2/A[0]))\n",
      "        X[1] = 1/(A[1] - A[3]**2/A[0]) + (A[4] - A[3]*A[5]/A[0])**2*(A[0]*A[1] - A[3]**2)/((A[1] - A[3]**2/A[0])**2*(A[0]*A[1]*A[2] - A[0]*A[4]**2 - A[1]*A[5]**2 - A[2]*A[3]**2 + 2*A[3]*A[4]*A[5]))\n",
      "        X[2] = (A[0]*A[1] - A[3]**2)/(A[0]*A[1]*A[2] - A[0]*A[4]**2 - A[1]*A[5]**2 - A[2]*A[3]**2 + 2*A[3]*A[4]*A[5])\n",
      "        X[3] = (A[4] - A[3]*A[5]/A[0])*(A[0]*A[1] - A[3]**2)*(-A[3]*(A[4] - A[3]*A[5]/A[0])/(A[0]*(A[1] - A[3]**2/A[0])) + A[5]/A[0])/((A[1] - A[3]**2/A[0])*(A[0]*A[1]*A[2] - A[0]*A[4]**2 - A[1]*A[5]**2 - A[2]*A[3]**2 + 2*A[3]*A[4]*A[5])) - A[3]/(A[0]*(A[1] - A[3]**2/A[0]))\n",
      "        X[4] = -(A[4] - A[3]*A[5]/A[0])*(A[0]*A[1] - A[3]**2)/((A[1] - A[3]**2/A[0])*(A[0]*A[1]*A[2] - A[0]*A[4]**2 - A[1]*A[5]**2 - A[2]*A[3]**2 + 2*A[3]*A[4]*A[5]))\n",
      "        X[5] = -(A[0]*A[1] - A[3]**2)*(-A[3]*(A[4] - A[3]*A[5]/A[0])/(A[0]*(A[1] - A[3]**2/A[0])) + A[5]/A[0])/(A[0]*A[1]*A[2] - A[0]*A[4]**2 - A[1]*A[5]**2 - A[2]*A[3]**2 + 2*A[3]*A[4]*A[5])\n",
      "    else:\n",
      "        X = np.linalg.inv(A.reshape(3,3))\n",
      "        X = X.reshape(9)\n",
      "    return X\n"
     ]
    }
   ],
   "source": [
    "F = UnsymMatrix('F')\n",
    "A = SymMatrix('A')\n",
    "Ai = A.inv()\n",
    "Fi = F.inv()\n",
    "ij = {0:(0,0),1:(1,1),2:(2,2),3:(0,1),4:(1,2),5:(0,2)}\n",
    "print 'def inv(A):'\n",
    "print '    if issym(A):'\n",
    "print '        X = zeros(6)'\n",
    "for I in ij:\n",
    "    i,j = ij[I]\n",
    "    print '        X[{}] = {}'.format(I, Ai[i,j])\n",
    "print '    else:'\n",
    "print '        X = np.linalg.inv(A.reshape(3,3))'\n",
    "print '        X = X.reshape(9)'\n",
    "print '    return X'"
   ]
  },
  {
   "cell_type": "code",
   "execution_count": 57,
   "metadata": {
    "collapsed": false
   },
   "outputs": [
    {
     "name": "stdout",
     "output_type": "stream",
     "text": [
      "def dyad(A, B):\n",
      "    if A.size == 6 and B.size == 6:\n",
      "        X = zeros((6,6))\n",
      "        X[0,0] = A[0] * B[0]\n",
      "        X[0,1] = A[0] * B[1]\n",
      "        X[0,2] = A[0] * B[2]\n",
      "        X[0,3] = A[0] * B[3]\n",
      "        X[0,4] = A[0] * B[4]\n",
      "        X[0,5] = A[0] * B[5]\n",
      "        X[1,0] = A[1] * B[0]\n",
      "        X[1,1] = A[1] * B[1]\n",
      "        X[1,2] = A[1] * B[2]\n",
      "        X[1,3] = A[1] * B[3]\n",
      "        X[1,4] = A[1] * B[4]\n",
      "        X[1,5] = A[1] * B[5]\n",
      "        X[2,0] = A[2] * B[0]\n",
      "        X[2,1] = A[2] * B[1]\n",
      "        X[2,2] = A[2] * B[2]\n",
      "        X[2,3] = A[2] * B[3]\n",
      "        X[2,4] = A[2] * B[4]\n",
      "        X[2,5] = A[2] * B[5]\n",
      "        X[3,0] = A[3] * B[0]\n",
      "        X[3,1] = A[3] * B[1]\n",
      "        X[3,2] = A[3] * B[2]\n",
      "        X[3,3] = A[3] * B[3]\n",
      "        X[3,4] = A[3] * B[4]\n",
      "        X[3,5] = A[3] * B[5]\n",
      "        X[4,0] = A[4] * B[0]\n",
      "        X[4,1] = A[4] * B[1]\n",
      "        X[4,2] = A[4] * B[2]\n",
      "        X[4,3] = A[4] * B[3]\n",
      "        X[4,4] = A[4] * B[4]\n",
      "        X[4,5] = A[4] * B[5]\n",
      "        X[5,0] = A[5] * B[0]\n",
      "        X[5,1] = A[5] * B[1]\n",
      "        X[5,2] = A[5] * B[2]\n",
      "        X[5,3] = A[5] * B[3]\n",
      "        X[5,4] = A[5] * B[4]\n",
      "        X[5,5] = A[5] * B[5]\n",
      "    elif A.size == 3 and B.size == 3:\n",
      "        X = zeros(6)\n",
      "        X[0] = A[0] * B[0]\n",
      "        X[1] = A[1] * B[1]\n",
      "        X[2] = A[2] * B[2]\n",
      "        X[3] = A[0] * B[1]\n",
      "        X[4] = A[1] * B[2]\n",
      "        X[5] = A[0] * B[2]\n",
      "    else:\n",
      "        raise NotImplementedError\n",
      "    return X\n"
     ]
    }
   ],
   "source": [
    "print 'def dyad(A, B):'\n",
    "print '    if A.size == 6 and B.size == 6:'\n",
    "print '        X = zeros((6,6))'\n",
    "ij = {0:(0,0),1:(1,1),2:(2,2),3:(0,1),4:(1,2),5:(0,2)}\n",
    "II = lambda m,n: dict([(v,k) for k,v in ij.items()])[m,n]\n",
    "for I in range(6):\n",
    "    for J in range(6):\n",
    "        ij_ = II(*sorted(ij[I]))\n",
    "        kl = II(*sorted(ij[J]))\n",
    "        print '        X[{},{}] = A[{}] * B[{}]'.format(I,J,ij_,kl)\n",
    "print '    elif A.size == 3 and B.size == 3:'\n",
    "print '        X = zeros(6)'\n",
    "\n",
    "for I in range(6):\n",
    "    i,j = ij[I]\n",
    "    print '        X[{}] = A[{}] * B[{}]'.format(I,i,j)\n",
    "print '    else:\\n        raise NotImplementedError'\n",
    "print '    return X'"
   ]
  },
  {
   "cell_type": "code",
   "execution_count": 45,
   "metadata": {
    "collapsed": false
   },
   "outputs": [
    {
     "name": "stdout",
     "output_type": "stream",
     "text": [
      "# II1: I[i,j] I[k,l]\n",
      "II1 = array([1.0, 1.0, 1.0, 0.0, 0.0, 0.0, 1.0, 1.0, 1.0, 0.0, 0.0, 0.0, 1.0, 1.0, 1.0, 0.0, 0.0, 0.0, 0.0, 0.0, 0.0, 0.0, 0.0, 0.0, 0.0, 0.0, 0.0, 0.0, 0.0, 0.0, 0.0, 0.0, 0.0, 0.0, 0.0, 0.0]).reshape(6,6)\n",
      "# II2: I[i,k] I[j,l]\n",
      "II2 = array([1.0, 0.0, 0.0, 0.0, 0.0, 0.0, 0.0, 1.0, 0.0, 0.0, 0.0, 0.0, 0.0, 0.0, 1.0, 0.0, 0.0, 0.0, 0.0, 0.0, 0.0, 1.0, 0.0, 0.0, 0.0, 0.0, 0.0, 0.0, 1.0, 0.0, 0.0, 0.0, 0.0, 0.0, 0.0, 1.0]).reshape(6,6)\n",
      "# II3: I[i,l] I[j,k]\n",
      "II3 = array([1.0, 0.0, 0.0, 0.0, 0.0, 0.0, 0.0, 1.0, 0.0, 0.0, 0.0, 0.0, 0.0, 0.0, 1.0, 0.0, 0.0, 0.0, 0.0, 0.0, 0.0, 0.0, 0.0, 0.0, 0.0, 0.0, 0.0, 0.0, 0.0, 0.0, 0.0, 0.0, 0.0, 0.0, 0.0, 0.0]).reshape(6,6)\n",
      "II4 = (II2 + II3) / 2\n",
      "# II5 = (I[i,k] I[j,l] + I[i,l] I[j,k]) / 2\n",
      "II5 = array([1.0, 0.0, 0.0, 0.0, 0.0, 0.0, 0.0, 1.0, 0.0, 0.0, 0.0, 0.0, 0.0, 0.0, 1.0, 0.0, 0.0, 0.0, 0.0, 0.0, 0.0, 0.5, 0.0, 0.0, 0.0, 0.0, 0.0, 0.0, 0.5, 0.0, 0.0, 0.0, 0.0, 0.0, 0.0, 0.5]).reshape(6,6)\n"
     ]
    }
   ],
   "source": [
    "from numpy import identity\n",
    "d = identity(3, dtype=float)\n",
    "ij = {0:(0,0),1:(1,1),2:(2,2),3:(0,1),4:(1,2),5:(0,2)}\n",
    "II1 = []\n",
    "II2 = []\n",
    "II3 = []\n",
    "II5 = []\n",
    "for I in range(6):\n",
    "    for J in range(6):\n",
    "        i,j = ij[I]\n",
    "        k,l = ij[J]\n",
    "        II1.append('{0:.1f}'.format(d[i,j] * d[k,l]))\n",
    "        II2.append('{0:.1f}'.format(d[i,k] * d[j,l]))\n",
    "        II3.append('{0:.1f}'.format(d[i,l] * d[j,k]))\n",
    "        II5.append('{0:.1f}'.format((d[i,k] * d[j,l] + d[i,l]*d[j,k])/2.))\n",
    "                   \n",
    "II1 = ', '.join(II1)\n",
    "print '# II1: I[i,j] I[k,l]'\n",
    "print 'II1 = array([{}]).reshape(6,6)'.format(II1)\n",
    "\n",
    "II2 = ', '.join(II2)\n",
    "print '# II2: I[i,k] I[j,l]'\n",
    "print 'II2 = array([{}]).reshape(6,6)'.format(II2)\n",
    "\n",
    "II3 = ', '.join(II3)\n",
    "print '# II3: I[i,l] I[j,k]'\n",
    "print 'II3 = array([{}]).reshape(6,6)'.format(II3)\n",
    "\n",
    "print 'II4 = (II2 + II3) / 2'\n",
    "II5 = ', '.join(II5)                   \n",
    "print '# II5 = (I[i,k] I[j,l] + I[i,l] I[j,k]) / 2'\n",
    "print 'II5 = array([{}]).reshape(6,6)'.format(II5)\n"
   ]
  },
  {
   "cell_type": "code",
   "execution_count": 58,
   "metadata": {
    "collapsed": false
   },
   "outputs": [
    {
     "name": "stdout",
     "output_type": "stream",
     "text": [
      "def symshuffle(A, B):\n",
      "    # Xijkl = .5 (Aik Bjl + Ail Bjk)\n",
      "    X = zeros((6,6))\n",
      "    if A.size == 6 and B.size == 6:\n",
      "        X[0,0] = (A[0] * B[0] + A[0] * B[0]) / 2.\n",
      "        X[0,1] = (A[3] * B[3] + A[3] * B[3]) / 2.\n",
      "        X[0,2] = (A[5] * B[5] + A[5] * B[5]) / 2.\n",
      "        X[0,3] = (A[0] * B[3] + A[3] * B[0]) / 2.\n",
      "        X[0,4] = (A[3] * B[5] + A[5] * B[3]) / 2.\n",
      "        X[0,5] = (A[0] * B[5] + A[5] * B[0]) / 2.\n",
      "        X[1,0] = (A[3] * B[3] + A[3] * B[3]) / 2.\n",
      "        X[1,1] = (A[1] * B[1] + A[1] * B[1]) / 2.\n",
      "        X[1,2] = (A[4] * B[4] + A[4] * B[4]) / 2.\n",
      "        X[1,3] = (A[3] * B[1] + A[1] * B[3]) / 2.\n",
      "        X[1,4] = (A[1] * B[4] + A[4] * B[1]) / 2.\n",
      "        X[1,5] = (A[3] * B[4] + A[4] * B[3]) / 2.\n",
      "        X[2,0] = (A[5] * B[5] + A[5] * B[5]) / 2.\n",
      "        X[2,1] = (A[4] * B[4] + A[4] * B[4]) / 2.\n",
      "        X[2,2] = (A[2] * B[2] + A[2] * B[2]) / 2.\n",
      "        X[2,3] = (A[5] * B[4] + A[4] * B[5]) / 2.\n",
      "        X[2,4] = (A[4] * B[2] + A[2] * B[4]) / 2.\n",
      "        X[2,5] = (A[5] * B[2] + A[2] * B[5]) / 2.\n",
      "        X[3,0] = (A[0] * B[3] + A[0] * B[3]) / 2.\n",
      "        X[3,1] = (A[3] * B[1] + A[3] * B[1]) / 2.\n",
      "        X[3,2] = (A[5] * B[4] + A[5] * B[4]) / 2.\n",
      "        X[3,3] = (A[0] * B[1] + A[3] * B[3]) / 2.\n",
      "        X[3,4] = (A[3] * B[4] + A[5] * B[1]) / 2.\n",
      "        X[3,5] = (A[0] * B[4] + A[5] * B[3]) / 2.\n",
      "        X[4,0] = (A[3] * B[5] + A[3] * B[5]) / 2.\n",
      "        X[4,1] = (A[1] * B[4] + A[1] * B[4]) / 2.\n",
      "        X[4,2] = (A[4] * B[2] + A[4] * B[2]) / 2.\n",
      "        X[4,3] = (A[3] * B[4] + A[1] * B[5]) / 2.\n",
      "        X[4,4] = (A[1] * B[2] + A[4] * B[4]) / 2.\n",
      "        X[4,5] = (A[3] * B[2] + A[4] * B[5]) / 2.\n",
      "        X[5,0] = (A[0] * B[5] + A[0] * B[5]) / 2.\n",
      "        X[5,1] = (A[3] * B[4] + A[3] * B[4]) / 2.\n",
      "        X[5,2] = (A[5] * B[2] + A[5] * B[2]) / 2.\n",
      "        X[5,3] = (A[0] * B[4] + A[3] * B[5]) / 2.\n",
      "        X[5,4] = (A[3] * B[2] + A[5] * B[4]) / 2.\n",
      "        X[5,5] = (A[0] * B[2] + A[5] * B[5]) / 2.\n",
      "    else:\n",
      "        raise NotImplementedError\n",
      "    return X\n"
     ]
    }
   ],
   "source": [
    "\n",
    "print 'def symshuffle(A, B):'\n",
    "print '    # Xijkl = .5 (Aik Bjl + Ail Bjk)'\n",
    "print '    X = zeros((6,6))'\n",
    "print '    if A.size == 6 and B.size == 6:'\n",
    "ij = {0:(0,0),1:(1,1),2:(2,2),3:(0,1),4:(1,2),5:(0,2)}\n",
    "II = lambda m,n: dict([(v,k) for k,v in ij.items()])[m,n]\n",
    "for I in range(6):\n",
    "    for J in range(6):\n",
    "        i,j = ij[I]\n",
    "        k,l = ij[J]\n",
    "        ik = II(*sorted((i,k)))\n",
    "        jl = II(*sorted((j,l)))\n",
    "        il = II(*sorted((i,l)))\n",
    "        jk = II(*sorted((j,k)))\n",
    "        print '        X[{},{}] = (A[{}] * B[{}] + A[{}] * B[{}]) / 2.'.format(I,J,ik,jl,il,jk)\n",
    "print '    else:'\n",
    "print '        raise NotImplementedError'\n",
    "print '    return X'\n",
    "\n"
   ]
  },
  {
   "cell_type": "markdown",
   "metadata": {},
   "source": [
    "## Push transformation\n",
    "\n",
    "$$A_{ij} = F_{im}C_{mn}F_{jn} = L_{imjn}C_{mn}$$\n",
    "\n",
    "where\n",
    "\n",
    "$$ L_{imjn} = F_{im}F_{jn}$$"
   ]
  },
  {
   "cell_type": "code",
   "execution_count": 108,
   "metadata": {
    "collapsed": false
   },
   "outputs": [
    {
     "name": "stdout",
     "output_type": "stream",
     "text": [
      "def symleaf(F):\n",
      "    X = zeros((6,6))\n",
      "    X[0,0] = F[0,0] * F[0,0]\n",
      "    X[0,1] = F[0,1] * F[0,1]\n",
      "    X[0,2] = F[0,2] * F[0,2]\n",
      "    X[0,3] = F[0,0] * F[0,1] + F[0,1] * F[0,0]\n",
      "    X[0,4] = F[0,1] * F[0,2] + F[0,2] * F[0,1]\n",
      "    X[0,5] = F[0,0] * F[0,2] + F[0,2] * F[0,0]\n",
      "    X[1,0] = F[1,0] * F[1,0]\n",
      "    X[1,1] = F[1,1] * F[1,1]\n",
      "    X[1,2] = F[1,2] * F[1,2]\n",
      "    X[1,3] = F[1,0] * F[1,1] + F[1,1] * F[1,0]\n",
      "    X[1,4] = F[1,1] * F[1,2] + F[1,2] * F[1,1]\n",
      "    X[1,5] = F[1,0] * F[1,2] + F[1,2] * F[1,0]\n",
      "    X[2,0] = F[2,0] * F[2,0]\n",
      "    X[2,1] = F[2,1] * F[2,1]\n",
      "    X[2,2] = F[2,2] * F[2,2]\n",
      "    X[2,3] = F[2,0] * F[2,1] + F[2,1] * F[2,0]\n",
      "    X[2,4] = F[2,1] * F[2,2] + F[2,2] * F[2,1]\n",
      "    X[2,5] = F[2,0] * F[2,2] + F[2,2] * F[2,0]\n",
      "    X[3,0] = F[0,0] * F[1,0] + F[1,0] * F[0,0]\n",
      "    X[3,1] = F[0,1] * F[1,1] + F[1,1] * F[0,1]\n",
      "    X[3,2] = F[0,2] * F[1,2] + F[1,2] * F[0,2]\n",
      "    X[3,3] = F[0,0] * F[1,1] + F[0,1] * F[1,0]\n",
      "    X[3,4] = F[0,1] * F[1,2] + F[0,2] * F[1,1]\n",
      "    X[3,5] = F[0,0] * F[1,2] + F[0,2] * F[1,0]\n",
      "    X[4,0] = F[1,0] * F[2,0] + F[2,0] * F[1,0]\n",
      "    X[4,1] = F[1,1] * F[2,1] + F[2,1] * F[1,1]\n",
      "    X[4,2] = F[1,2] * F[2,2] + F[2,2] * F[1,2]\n",
      "    X[4,3] = F[1,0] * F[2,1] + F[1,1] * F[2,0]\n",
      "    X[4,4] = F[1,1] * F[2,2] + F[1,2] * F[2,1]\n",
      "    X[4,5] = F[1,0] * F[2,2] + F[1,2] * F[2,0]\n",
      "    X[5,0] = F[0,0] * F[2,0] + F[2,0] * F[0,0]\n",
      "    X[5,1] = F[0,1] * F[2,1] + F[2,1] * F[0,1]\n",
      "    X[5,2] = F[0,2] * F[2,2] + F[2,2] * F[0,2]\n",
      "    X[5,3] = F[0,0] * F[2,1] + F[0,1] * F[2,0]\n",
      "    X[5,4] = F[0,1] * F[2,2] + F[0,2] * F[2,1]\n",
      "    X[5,5] = F[0,0] * F[2,2] + F[0,2] * F[2,0]\n",
      "    return X\n"
     ]
    }
   ],
   "source": [
    "ij = {0:(0,0),1:(1,1),2:(2,2),3:(0,1),4:(1,2),5:(0,2)}\n",
    "II = lambda m,n: dict([(v,k) for k,v in ij.items()])[m,n]\n",
    "L = {}\n",
    "for i in range(3):\n",
    "    for j in range(3):\n",
    "        I = II(*sorted((i,j)))\n",
    "        row = []\n",
    "        for m in range(3):\n",
    "            for n in range(3):\n",
    "                J = II(*sorted((m,n)))\n",
    "                L.setdefault((I,J), []).append('F[{},{}] * F[{},{}]'.format(i,m,j,n))\n",
    "\n",
    "for (k, v) in L.items():\n",
    "    L[k] = ' + '.join(v[:2])\n",
    "\n",
    "print 'def symleaf(F):'\n",
    "print '    X = zeros((6,6))'\n",
    "for i in range(6):\n",
    "    for j in range(6):\n",
    "        print '    X[{},{}] = {}'.format(i,j,L[i,j])\n",
    "print '    return X'"
   ]
  }
 ],
 "metadata": {
  "kernelspec": {
   "display_name": "Python 2",
   "language": "python",
   "name": "python2"
  },
  "language_info": {
   "codemirror_mode": {
    "name": "ipython",
    "version": 2
   },
   "file_extension": ".py",
   "mimetype": "text/x-python",
   "name": "python",
   "nbconvert_exporter": "python",
   "pygments_lexer": "ipython2",
   "version": "2.7.10"
  }
 },
 "nbformat": 4,
 "nbformat_minor": 0
}
